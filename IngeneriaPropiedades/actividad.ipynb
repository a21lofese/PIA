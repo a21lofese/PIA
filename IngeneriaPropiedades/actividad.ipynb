{
 "cells": [
  {
   "cell_type": "markdown",
   "source": [
    "# Técnicas de ingeniería de funciones para datos estructurados: tutorial de aprendizaje automático"
   ],
   "metadata": {
    "collapsed": false
   },
   "id": "bb335608bca1e24"
  },
  {
   "cell_type": "markdown",
   "source": [
    "La ingeniería de características es un paso esencial en el proceso de preprocesamiento de datos, especialmente cuando se trata de datos tabulares.\n",
    "\n",
    "Implica crear nuevas funciones (columnas), transformar las existentes y seleccionar los atributos más relevantes para mejorar el rendimiento y la precisión de los modelos de aprendizaje automático.\n",
    "\n",
    "La ingeniería de características ayuda al modelo a comprender los patrones, relaciones y matices subyacentes de los datos. Desempeña un papel crucial en el éxito de un proyecto de aprendizaje automático, ya que puede convertir un buen modelo en uno excelente optimizando las funciones de entrada. La ingeniería de funciones eficaz también conduce a tiempos de capacitación más rápidos y resultados más interpretables.\n",
    "\n",
    "Antes de profundizar en el ámbito de la ingeniería de funciones, es necesario reconocer el papel fundamental de la limpieza de datos para garantizar el éxito de la ingeniería de funciones. Abordar los valores faltantes, manejar los valores atípicos y resolver las inconsistencias no solo mejora la integridad de los datos, sino que también establece una base sólida para la posterior extracción y transformación de características.\n",
    "\n",
    "En este tutorial, exploraremos el concepto de ingeniería de características para datos estructurados. Cubriremos algunas técnicas como escalado de funciones, creación de funciones, selección de funciones y agrupación. Usaremos un conjunto de datos hipotético para demostrar estas diversas técnicas de ingeniería de características.\n",
    "\n",
    "Comencemos creando algunos datos ficticios.\n",
    "\n",
    "Cómo crear datos ficticios\n",
    "Usaremos Python y la pandasbiblioteca para crear un conjunto de datos ficticio para nuestros ejemplos de ingeniería de funciones. Así es como puedes generar datos ficticios:"
   ],
   "metadata": {
    "collapsed": false
   },
   "id": "190f2553df786661"
  },
  {
   "cell_type": "code",
   "outputs": [
    {
     "data": {
      "text/plain": "   Age  Income    Education           City  Gender  Productivity\n0   25   50000  High School       New York    Male             5\n1   30   60000     Bachelor  San Francisco  Female             4\n2   35   75000       Master        Chicago    Male             3\n3   40   90000        Ph.D.    Los Angeles  Female             2\n4   45   80000     Bachelor          Miami    Male             4",
      "text/html": "<div>\n<style scoped>\n    .dataframe tbody tr th:only-of-type {\n        vertical-align: middle;\n    }\n\n    .dataframe tbody tr th {\n        vertical-align: top;\n    }\n\n    .dataframe thead th {\n        text-align: right;\n    }\n</style>\n<table border=\"1\" class=\"dataframe\">\n  <thead>\n    <tr style=\"text-align: right;\">\n      <th></th>\n      <th>Age</th>\n      <th>Income</th>\n      <th>Education</th>\n      <th>City</th>\n      <th>Gender</th>\n      <th>Productivity</th>\n    </tr>\n  </thead>\n  <tbody>\n    <tr>\n      <th>0</th>\n      <td>25</td>\n      <td>50000</td>\n      <td>High School</td>\n      <td>New York</td>\n      <td>Male</td>\n      <td>5</td>\n    </tr>\n    <tr>\n      <th>1</th>\n      <td>30</td>\n      <td>60000</td>\n      <td>Bachelor</td>\n      <td>San Francisco</td>\n      <td>Female</td>\n      <td>4</td>\n    </tr>\n    <tr>\n      <th>2</th>\n      <td>35</td>\n      <td>75000</td>\n      <td>Master</td>\n      <td>Chicago</td>\n      <td>Male</td>\n      <td>3</td>\n    </tr>\n    <tr>\n      <th>3</th>\n      <td>40</td>\n      <td>90000</td>\n      <td>Ph.D.</td>\n      <td>Los Angeles</td>\n      <td>Female</td>\n      <td>2</td>\n    </tr>\n    <tr>\n      <th>4</th>\n      <td>45</td>\n      <td>80000</td>\n      <td>Bachelor</td>\n      <td>Miami</td>\n      <td>Male</td>\n      <td>4</td>\n    </tr>\n  </tbody>\n</table>\n</div>"
     },
     "execution_count": 74,
     "metadata": {},
     "output_type": "execute_result"
    }
   ],
   "source": [
    "import pandas as pd\n",
    "# Create a sample dataframe\n",
    "data = {\n",
    "'Age': [25, 30, 35, 40, 45],\n",
    "'Income': [50000, 60000, 75000, 90000, 80000],\n",
    "'Education': ['High School', 'Bachelor', 'Master', 'Ph.D.', 'Bachelor'],\n",
    "'City': ['New York', 'San Francisco', 'Chicago', 'Los Angeles', 'Miami'],\n",
    "'Gender': ['Male', 'Female', 'Male', 'Female', 'Male'],\n",
    "'Productivity': [5, 4, 3, 2, 4]\n",
    "}\n",
    "df = pd.DataFrame(data)\n",
    "df"
   ],
   "metadata": {
    "collapsed": false,
    "ExecuteTime": {
     "end_time": "2024-04-10T18:36:47.117117Z",
     "start_time": "2024-04-10T18:36:47.107959Z"
    }
   },
   "id": "4c69dbaaf24f247e",
   "execution_count": 74
  },
  {
   "cell_type": "markdown",
   "source": [
    "Como se vio arriba, el conjunto de datos ficticio creado consta de seis características: \"Edad\", \"Ingresos\", \"Educación\", \"Ciudad\", \"Género\" y \"Productividad\".\n",
    "\n",
    "Ahora, exploremos diferentes técnicas de ingeniería de características.\n",
    "\n",
    "Codificación en caliente\n",
    "La codificación one-hot es un método utilizado para convertir variables categóricas en una matriz binaria. Nuestro conjunto de datos tiene algunas columnas llenas de palabras como género, educación y ciudades.\n",
    "\n",
    "Pero a las máquinas les gustan los números, no las palabras. Entonces usaremos una técnica llamada codificación one-hot. Es como darle a cada categoría su propio interruptor: ya sea encendido (1) o apagado (0). Crea una columna binaria para cada categoría dentro de una característica categórica.\n",
    "\n",
    "Esta técnica es esencial porque muchos algoritmos de aprendizaje automático no pueden funcionar directamente con datos categóricos.\n",
    "\n",
    "Ejemplo de codificación one-hot\n",
    "Apliquemos codificación one-hot a las columnas 'Educación', 'Ciudad' y 'Género' de nuestro conjunto de datos. Usaremos la get_dummiesfunción de pandaspara este propósito:"
   ],
   "metadata": {
    "collapsed": false
   },
   "id": "6193eff789c6462"
  },
  {
   "cell_type": "code",
   "outputs": [],
   "source": [
    "## Perform one-hot encoding\n",
    "df_encoded = pd.get_dummies(df, columns=['Education', 'City', 'Gender'])"
   ],
   "metadata": {
    "collapsed": false,
    "ExecuteTime": {
     "end_time": "2024-04-10T18:36:47.520009Z",
     "start_time": "2024-04-10T18:36:47.133536Z"
    }
   },
   "id": "d1df2996db55c2e2",
   "execution_count": 75
  },
  {
   "cell_type": "markdown",
   "source": [
    "Después de la codificación one-hot, nuestro conjunto de datos ahora tendrá columnas binarias para cada categoría dentro de \"Educación\", \"Ciudad\" y \"Género\". Esta transformación permite que los modelos de aprendizaje automático comprendan y utilicen estas variables categóricas de forma eficaz."
   ],
   "metadata": {
    "collapsed": false
   },
   "id": "c1057e483bedd390"
  },
  {
   "cell_type": "code",
   "outputs": [
    {
     "data": {
      "text/plain": "   Age  Income  Productivity  Education_Bachelor  Education_High School  \\\n0   25   50000             5               False                   True   \n1   30   60000             4                True                  False   \n2   35   75000             3               False                  False   \n3   40   90000             2               False                  False   \n4   45   80000             4                True                  False   \n\n   Education_Master  Education_Ph.D.  City_Chicago  City_Los Angeles  \\\n0             False            False         False             False   \n1             False            False         False             False   \n2              True            False          True             False   \n3             False             True         False              True   \n4             False            False         False             False   \n\n   City_Miami  City_New York  City_San Francisco  Gender_Female  Gender_Male  \n0       False           True               False          False         True  \n1       False          False                True           True        False  \n2       False          False               False          False         True  \n3       False          False               False           True        False  \n4        True          False               False          False         True  ",
      "text/html": "<div>\n<style scoped>\n    .dataframe tbody tr th:only-of-type {\n        vertical-align: middle;\n    }\n\n    .dataframe tbody tr th {\n        vertical-align: top;\n    }\n\n    .dataframe thead th {\n        text-align: right;\n    }\n</style>\n<table border=\"1\" class=\"dataframe\">\n  <thead>\n    <tr style=\"text-align: right;\">\n      <th></th>\n      <th>Age</th>\n      <th>Income</th>\n      <th>Productivity</th>\n      <th>Education_Bachelor</th>\n      <th>Education_High School</th>\n      <th>Education_Master</th>\n      <th>Education_Ph.D.</th>\n      <th>City_Chicago</th>\n      <th>City_Los Angeles</th>\n      <th>City_Miami</th>\n      <th>City_New York</th>\n      <th>City_San Francisco</th>\n      <th>Gender_Female</th>\n      <th>Gender_Male</th>\n    </tr>\n  </thead>\n  <tbody>\n    <tr>\n      <th>0</th>\n      <td>25</td>\n      <td>50000</td>\n      <td>5</td>\n      <td>False</td>\n      <td>True</td>\n      <td>False</td>\n      <td>False</td>\n      <td>False</td>\n      <td>False</td>\n      <td>False</td>\n      <td>True</td>\n      <td>False</td>\n      <td>False</td>\n      <td>True</td>\n    </tr>\n    <tr>\n      <th>1</th>\n      <td>30</td>\n      <td>60000</td>\n      <td>4</td>\n      <td>True</td>\n      <td>False</td>\n      <td>False</td>\n      <td>False</td>\n      <td>False</td>\n      <td>False</td>\n      <td>False</td>\n      <td>False</td>\n      <td>True</td>\n      <td>True</td>\n      <td>False</td>\n    </tr>\n    <tr>\n      <th>2</th>\n      <td>35</td>\n      <td>75000</td>\n      <td>3</td>\n      <td>False</td>\n      <td>False</td>\n      <td>True</td>\n      <td>False</td>\n      <td>True</td>\n      <td>False</td>\n      <td>False</td>\n      <td>False</td>\n      <td>False</td>\n      <td>False</td>\n      <td>True</td>\n    </tr>\n    <tr>\n      <th>3</th>\n      <td>40</td>\n      <td>90000</td>\n      <td>2</td>\n      <td>False</td>\n      <td>False</td>\n      <td>False</td>\n      <td>True</td>\n      <td>False</td>\n      <td>True</td>\n      <td>False</td>\n      <td>False</td>\n      <td>False</td>\n      <td>True</td>\n      <td>False</td>\n    </tr>\n    <tr>\n      <th>4</th>\n      <td>45</td>\n      <td>80000</td>\n      <td>4</td>\n      <td>True</td>\n      <td>False</td>\n      <td>False</td>\n      <td>False</td>\n      <td>False</td>\n      <td>False</td>\n      <td>True</td>\n      <td>False</td>\n      <td>False</td>\n      <td>False</td>\n      <td>True</td>\n    </tr>\n  </tbody>\n</table>\n</div>"
     },
     "execution_count": 76,
     "metadata": {},
     "output_type": "execute_result"
    }
   ],
   "source": [
    "df_encoded"
   ],
   "metadata": {
    "collapsed": false,
    "ExecuteTime": {
     "end_time": "2024-04-10T18:36:47.529527Z",
     "start_time": "2024-04-10T18:36:47.521134Z"
    }
   },
   "id": "8f6ccc356e010a",
   "execution_count": 76
  },
  {
   "cell_type": "markdown",
   "source": [
    "Como puede ver en la imagen de arriba, las columnas categóricas ahora se están transformando en una matriz binaria.\n",
    "\n",
    "Escalado de funciones\n",
    "El escalado de características es crucial cuando se trabaja con características numéricas que tienen diferentes escalas. El escalado garantiza que todas las características contribuyan por igual al modelo, evitando que una característica domine a las demás.\n",
    "\n",
    "En nuestros datos, \"Edad\" e \"Ingresos\" pueden tener escalas diferentes. La \"edad\" podría ir de 0 a 100, mientras que los \"ingresos\" podrían ir de 20.000 a 200.000. El escalado de funciones hace que funcionen bien juntas al ponerlas en la misma escala.\n",
    "\n",
    "Ejemplo de escalado de características\n",
    "En nuestro conjunto de datos, 'Edad' e 'Ingresos' tienen escalas diferentes. Para escalar estas funciones, usaremos el StandardScalerdel sklearn.preprocessingmódulo:"
   ],
   "metadata": {
    "collapsed": false
   },
   "id": "9b05152e808601bb"
  },
  {
   "cell_type": "code",
   "outputs": [
    {
     "data": {
      "text/plain": "        Age    Income  Productivity  Education_Bachelor  \\\n0 -1.414214 -1.470294             5               False   \n1 -0.707107 -0.770154             4                True   \n2  0.000000  0.280056             3               False   \n3  0.707107  1.330266             2               False   \n4  1.414214  0.630126             4                True   \n\n   Education_High School  Education_Master  Education_Ph.D.  City_Chicago  \\\n0                   True             False            False         False   \n1                  False             False            False         False   \n2                  False              True            False          True   \n3                  False             False             True         False   \n4                  False             False            False         False   \n\n   City_Los Angeles  City_Miami  City_New York  City_San Francisco  \\\n0             False       False           True               False   \n1             False       False          False                True   \n2             False       False          False               False   \n3              True       False          False               False   \n4             False        True          False               False   \n\n   Gender_Female  Gender_Male  Income per Age  \n0          False         True     2000.000000  \n1           True        False     2000.000000  \n2          False         True     2142.857143  \n3           True        False     2250.000000  \n4          False         True     1777.777778  ",
      "text/html": "<div>\n<style scoped>\n    .dataframe tbody tr th:only-of-type {\n        vertical-align: middle;\n    }\n\n    .dataframe tbody tr th {\n        vertical-align: top;\n    }\n\n    .dataframe thead th {\n        text-align: right;\n    }\n</style>\n<table border=\"1\" class=\"dataframe\">\n  <thead>\n    <tr style=\"text-align: right;\">\n      <th></th>\n      <th>Age</th>\n      <th>Income</th>\n      <th>Productivity</th>\n      <th>Education_Bachelor</th>\n      <th>Education_High School</th>\n      <th>Education_Master</th>\n      <th>Education_Ph.D.</th>\n      <th>City_Chicago</th>\n      <th>City_Los Angeles</th>\n      <th>City_Miami</th>\n      <th>City_New York</th>\n      <th>City_San Francisco</th>\n      <th>Gender_Female</th>\n      <th>Gender_Male</th>\n      <th>Income per Age</th>\n    </tr>\n  </thead>\n  <tbody>\n    <tr>\n      <th>0</th>\n      <td>-1.414214</td>\n      <td>-1.470294</td>\n      <td>5</td>\n      <td>False</td>\n      <td>True</td>\n      <td>False</td>\n      <td>False</td>\n      <td>False</td>\n      <td>False</td>\n      <td>False</td>\n      <td>True</td>\n      <td>False</td>\n      <td>False</td>\n      <td>True</td>\n      <td>2000.000000</td>\n    </tr>\n    <tr>\n      <th>1</th>\n      <td>-0.707107</td>\n      <td>-0.770154</td>\n      <td>4</td>\n      <td>True</td>\n      <td>False</td>\n      <td>False</td>\n      <td>False</td>\n      <td>False</td>\n      <td>False</td>\n      <td>False</td>\n      <td>False</td>\n      <td>True</td>\n      <td>True</td>\n      <td>False</td>\n      <td>2000.000000</td>\n    </tr>\n    <tr>\n      <th>2</th>\n      <td>0.000000</td>\n      <td>0.280056</td>\n      <td>3</td>\n      <td>False</td>\n      <td>False</td>\n      <td>True</td>\n      <td>False</td>\n      <td>True</td>\n      <td>False</td>\n      <td>False</td>\n      <td>False</td>\n      <td>False</td>\n      <td>False</td>\n      <td>True</td>\n      <td>2142.857143</td>\n    </tr>\n    <tr>\n      <th>3</th>\n      <td>0.707107</td>\n      <td>1.330266</td>\n      <td>2</td>\n      <td>False</td>\n      <td>False</td>\n      <td>False</td>\n      <td>True</td>\n      <td>False</td>\n      <td>True</td>\n      <td>False</td>\n      <td>False</td>\n      <td>False</td>\n      <td>True</td>\n      <td>False</td>\n      <td>2250.000000</td>\n    </tr>\n    <tr>\n      <th>4</th>\n      <td>1.414214</td>\n      <td>0.630126</td>\n      <td>4</td>\n      <td>True</td>\n      <td>False</td>\n      <td>False</td>\n      <td>False</td>\n      <td>False</td>\n      <td>False</td>\n      <td>True</td>\n      <td>False</td>\n      <td>False</td>\n      <td>False</td>\n      <td>True</td>\n      <td>1777.777778</td>\n    </tr>\n  </tbody>\n</table>\n</div>"
     },
     "execution_count": 77,
     "metadata": {},
     "output_type": "execute_result"
    }
   ],
   "source": [
    "from sklearn.preprocessing import StandardScaler\n",
    "# Initialize the StandardScaler\n",
    "scaler = StandardScaler()\n",
    "# Fit and transform the selected columns\n",
    "df_encoded['Income per Age'] = df_encoded['Income'] / df_encoded['Age'] # Ponerlo aquí para que no se vea afectado por el escalado\n",
    "df_encoded[['Age', 'Income']] = scaler.fit_transform(df_encoded[['Age', 'Income']])\n",
    "df_encoded"
   ],
   "metadata": {
    "collapsed": false,
    "ExecuteTime": {
     "end_time": "2024-04-10T18:36:47.542671Z",
     "start_time": "2024-04-10T18:36:47.529527Z"
    }
   },
   "id": "329e843c2f7d8ddd",
   "execution_count": 77
  },
  {
   "cell_type": "markdown",
   "source": [
    "En el código anterior, ahora podemos ver que la 'Edad' y los 'Ingresos' se han escalado para tener una media de 0 y una desviación estándar de 1. Esto los hace compatibles para el modelado y ayuda a los algoritmos que se basan en distancias o gradientes. Desempeñar mejor.\n",
    "\n",
    "Creación de funciones\n",
    "La creación de funciones es una de las técnicas más fundamentales en la ingeniería de funciones. Implica generar nuevas características (columnas) a partir de las existentes para proporcionar información adicional al modelo. Puede ayudar a descubrir relaciones y patrones complejos dentro de los datos.\n",
    "\n",
    "Digamos que mezclamos 'Edad' e 'Ingresos' para crear una nueva función llamada 'Ingresos por edad'. Esta nueva característica podría ayudar a nuestro modelo a comprender cómo se relacionan el dinero y la edad.\n",
    "\n",
    "Ejemplo de creación de funciones\n",
    "En nuestro conjunto de datos, podemos crear una nueva característica, 'Ingresos por edad', para capturar la relación entre ingresos y edad. Esta puede ser una característica útil para determinadas tareas de predicción:"
   ],
   "metadata": {
    "collapsed": false
   },
   "id": "3aa68569bea7a4da"
  },
  {
   "cell_type": "code",
   "outputs": [
    {
     "data": {
      "text/plain": "        Age    Income  Productivity  Education_Bachelor  \\\n0 -1.414214 -1.470294             5               False   \n1 -0.707107 -0.770154             4                True   \n2  0.000000  0.280056             3               False   \n3  0.707107  1.330266             2               False   \n4  1.414214  0.630126             4                True   \n\n   Education_High School  Education_Master  Education_Ph.D.  City_Chicago  \\\n0                   True             False            False         False   \n1                  False             False            False         False   \n2                  False              True            False          True   \n3                  False             False             True         False   \n4                  False             False            False         False   \n\n   City_Los Angeles  City_Miami  City_New York  City_San Francisco  \\\n0             False       False           True               False   \n1             False       False          False                True   \n2             False       False          False               False   \n3              True       False          False               False   \n4             False        True          False               False   \n\n   Gender_Female  Gender_Male  Income per Age  \n0          False         True     2000.000000  \n1           True        False     2000.000000  \n2          False         True     2142.857143  \n3           True        False     2250.000000  \n4          False         True     1777.777778  ",
      "text/html": "<div>\n<style scoped>\n    .dataframe tbody tr th:only-of-type {\n        vertical-align: middle;\n    }\n\n    .dataframe tbody tr th {\n        vertical-align: top;\n    }\n\n    .dataframe thead th {\n        text-align: right;\n    }\n</style>\n<table border=\"1\" class=\"dataframe\">\n  <thead>\n    <tr style=\"text-align: right;\">\n      <th></th>\n      <th>Age</th>\n      <th>Income</th>\n      <th>Productivity</th>\n      <th>Education_Bachelor</th>\n      <th>Education_High School</th>\n      <th>Education_Master</th>\n      <th>Education_Ph.D.</th>\n      <th>City_Chicago</th>\n      <th>City_Los Angeles</th>\n      <th>City_Miami</th>\n      <th>City_New York</th>\n      <th>City_San Francisco</th>\n      <th>Gender_Female</th>\n      <th>Gender_Male</th>\n      <th>Income per Age</th>\n    </tr>\n  </thead>\n  <tbody>\n    <tr>\n      <th>0</th>\n      <td>-1.414214</td>\n      <td>-1.470294</td>\n      <td>5</td>\n      <td>False</td>\n      <td>True</td>\n      <td>False</td>\n      <td>False</td>\n      <td>False</td>\n      <td>False</td>\n      <td>False</td>\n      <td>True</td>\n      <td>False</td>\n      <td>False</td>\n      <td>True</td>\n      <td>2000.000000</td>\n    </tr>\n    <tr>\n      <th>1</th>\n      <td>-0.707107</td>\n      <td>-0.770154</td>\n      <td>4</td>\n      <td>True</td>\n      <td>False</td>\n      <td>False</td>\n      <td>False</td>\n      <td>False</td>\n      <td>False</td>\n      <td>False</td>\n      <td>False</td>\n      <td>True</td>\n      <td>True</td>\n      <td>False</td>\n      <td>2000.000000</td>\n    </tr>\n    <tr>\n      <th>2</th>\n      <td>0.000000</td>\n      <td>0.280056</td>\n      <td>3</td>\n      <td>False</td>\n      <td>False</td>\n      <td>True</td>\n      <td>False</td>\n      <td>True</td>\n      <td>False</td>\n      <td>False</td>\n      <td>False</td>\n      <td>False</td>\n      <td>False</td>\n      <td>True</td>\n      <td>2142.857143</td>\n    </tr>\n    <tr>\n      <th>3</th>\n      <td>0.707107</td>\n      <td>1.330266</td>\n      <td>2</td>\n      <td>False</td>\n      <td>False</td>\n      <td>False</td>\n      <td>True</td>\n      <td>False</td>\n      <td>True</td>\n      <td>False</td>\n      <td>False</td>\n      <td>False</td>\n      <td>True</td>\n      <td>False</td>\n      <td>2250.000000</td>\n    </tr>\n    <tr>\n      <th>4</th>\n      <td>1.414214</td>\n      <td>0.630126</td>\n      <td>4</td>\n      <td>True</td>\n      <td>False</td>\n      <td>False</td>\n      <td>False</td>\n      <td>False</td>\n      <td>False</td>\n      <td>True</td>\n      <td>False</td>\n      <td>False</td>\n      <td>False</td>\n      <td>True</td>\n      <td>1777.777778</td>\n    </tr>\n  </tbody>\n</table>\n</div>"
     },
     "execution_count": 78,
     "metadata": {},
     "output_type": "execute_result"
    }
   ],
   "source": [
    "# Create a new feature 'Income per Age'\n",
    "# df_encoded['Income per Age'] = df_encoded['Income'] / df_encoded['Age']\n",
    "df_encoded"
   ],
   "metadata": {
    "collapsed": false,
    "ExecuteTime": {
     "end_time": "2024-04-10T18:36:47.553144Z",
     "start_time": "2024-04-10T18:36:47.544014Z"
    }
   },
   "id": "40c63f6fbb59bfce",
   "execution_count": 78
  },
  {
   "cell_type": "markdown",
   "source": [
    "La función 'Ingresos por edad' proporciona una medida del ingreso en relación con la edad, lo que podría resultar valioso en varios escenarios de modelado. Con esto se ha creado una columna adicional.\n",
    "\n",
    "Selección de características\n",
    "La selección de características es el proceso de elegir las características más relevantes para una tarea de modelado determinada. Reducir la cantidad de funciones puede mejorar el rendimiento del modelo, reducir el sobreajuste y acelerar el entrenamiento. Facilita el trabajo de su modelo porque no tiene que lidiar con cosas innecesarias.\n",
    "\n",
    "Ejemplo de selección de funciones\n",
    "Supongamos que queremos seleccionar las características más relevantes para predecir la \"Productividad\". Podemos utilizar técnicas de selección de características como la Eliminación recursiva de características (RFE) con un modelo de regresión lineal:"
   ],
   "metadata": {
    "collapsed": false
   },
   "id": "e40e3615bf123d83"
  },
  {
   "cell_type": "code",
   "outputs": [
    {
     "name": "stdout",
     "output_type": "stream",
     "text": [
      "Selected Features: Index(['Income', 'City_Chicago', 'City_Miami'], dtype='object')\n"
     ]
    }
   ],
   "source": [
    "from sklearn.feature_selection import RFE\n",
    "from sklearn.linear_model import LinearRegression\n",
    "\n",
    "# Separate the target variable and the features\n",
    "X = df_encoded.drop('Productivity', axis=1)\n",
    "y = df_encoded['Productivity']\n",
    "\n",
    "# Initialize the linear regression model\n",
    "model = LinearRegression()\n",
    "\n",
    "# Perform RFE with cross-validation\n",
    "rfe = RFE(model, n_features_to_select=3)  # Select the top 3 features\n",
    "fit = rfe.fit(X, y)  # Corrected: use X instead of x\n",
    "\n",
    "# Print the selected features\n",
    "selected_features = X.columns[fit.support_]\n",
    "print('Selected Features:', selected_features)"
   ],
   "metadata": {
    "collapsed": false,
    "ExecuteTime": {
     "end_time": "2024-04-10T18:36:47.569204Z",
     "start_time": "2024-04-10T18:36:47.554449Z"
    }
   },
   "id": "358166ce1946fe68",
   "execution_count": 79
  },
  {
   "cell_type": "markdown",
   "source": [
    "A partir de nuestros datos, utilizamos RFE para seleccionar las 3 características principales que son más relevantes para predecir la \"Productividad\". Esto reduce la dimensionalidad de los datos y puede mejorar el rendimiento del modelo.\n",
    "\n",
    "Este resultado recibido indica que, de acuerdo con el proceso de Eliminación de características recursivas (RFE), las columnas: 'Ingresos', 'Ciudad_Miami' y 'Género_Masculino' se consideran las más importantes o informativas para predecir la variable objetivo 'Productividad' utilizando un método lineal. Modelo de regresión.\n",
    "\n",
    "Analicemos la interpretación:\n",
    "\n",
    "Ingresos: la función \"Ingresos\" probablemente se identifique como un predictor importante. Sugiere que, según el proceso RFE, los cambios en los ingresos tienen un impacto significativo en la predicción de la \"productividad\" basada en el modelo de regresión lineal dado.\n",
    "City_Miami: La presencia de 'City_Miami' como característica importante sugiere que, en el contexto de nuestros datos, si un individuo es de Miami o no contribuye significativamente a predecir la 'Productividad'.\n",
    "Gender_Male: De manera similar, la característica 'Gender_Male' se considera importante. Esto implica que, según el modelo, el género de un individuo, específicamente el sexo masculino, es informativo para predecir la \"productividad\".\n",
    "Es importante señalar que la interpretación de \"importancia\" aquí es específica del modelo de regresión lineal utilizado en combinación con la técnica de selección de características RFE. RFE clasifica las características según su contribución al rendimiento del modelo en la predicción de la variable objetivo.\n",
    "\n",
    "Binning y cubos\n",
    "Binning o cubeta implica agrupar datos numéricos continuos en intervalos discretos. Puede ayudar a capturar relaciones no lineales y hacer que el modelado sea más sólido.  \n",
    "\n",
    "Consideremos un ejemplo práctico. Según nuestros datos ficticios, en lugar de tratar la columna \"Edad\" como una variable continua, decide agruparla en categorías como \"Joven\", \"Mid-carrera\" y \"Senior\" para comprender mejor cómo se relaciona la edad con la productividad.\n",
    "\n",
    "Después de su análisis, es posible que descubra que los empleados en la categoría \"Mid-carrera\" tienden a tener los niveles de productividad más altos. Esto no significa que la edad cause directamente la productividad, pero sugiere una relación potencial que podría verse influenciada por factores como la experiencia, el desarrollo de habilidades y la familiaridad con el trabajo.\n",
    "\n",
    "Al agrupar la edad en categorías, ha hecho que la relación edad-productividad sea más interpretable, lo que puede proporcionarle a su modelo información más detallada.\n",
    "\n",
    "Ejemplo de agrupación\n",
    "Digamos que queremos crear contenedores para la función 'Edad'. Podemos usar la cutfunción from pandaspara definir los límites del contenedor:"
   ],
   "metadata": {
    "collapsed": false
   },
   "id": "ffacc01cf90fb522"
  },
  {
   "cell_type": "code",
   "outputs": [
    {
     "data": {
      "text/plain": "        Age    Income  Productivity  Education_Bachelor  \\\n0 -1.414214 -1.470294             5               False   \n1 -0.707107 -0.770154             4                True   \n2  0.000000  0.280056             3               False   \n3  0.707107  1.330266             2               False   \n4  1.414214  0.630126             4                True   \n\n   Education_High School  Education_Master  Education_Ph.D.  City_Chicago  \\\n0                   True             False            False         False   \n1                  False             False            False         False   \n2                  False              True            False          True   \n3                  False             False             True         False   \n4                  False             False            False         False   \n\n   City_Los Angeles  City_Miami  City_New York  City_San Francisco  \\\n0             False       False           True               False   \n1             False       False          False                True   \n2             False       False          False               False   \n3              True       False          False               False   \n4             False        True          False               False   \n\n   Gender_Female  Gender_Male  Income per Age Binned_Column  \n0          False         True     2000.000000         Young  \n1           True        False     2000.000000         Young  \n2          False         True     2142.857143    Mid_Career  \n3           True        False     2250.000000        Senior  \n4          False         True     1777.777778        Senior  ",
      "text/html": "<div>\n<style scoped>\n    .dataframe tbody tr th:only-of-type {\n        vertical-align: middle;\n    }\n\n    .dataframe tbody tr th {\n        vertical-align: top;\n    }\n\n    .dataframe thead th {\n        text-align: right;\n    }\n</style>\n<table border=\"1\" class=\"dataframe\">\n  <thead>\n    <tr style=\"text-align: right;\">\n      <th></th>\n      <th>Age</th>\n      <th>Income</th>\n      <th>Productivity</th>\n      <th>Education_Bachelor</th>\n      <th>Education_High School</th>\n      <th>Education_Master</th>\n      <th>Education_Ph.D.</th>\n      <th>City_Chicago</th>\n      <th>City_Los Angeles</th>\n      <th>City_Miami</th>\n      <th>City_New York</th>\n      <th>City_San Francisco</th>\n      <th>Gender_Female</th>\n      <th>Gender_Male</th>\n      <th>Income per Age</th>\n      <th>Binned_Column</th>\n    </tr>\n  </thead>\n  <tbody>\n    <tr>\n      <th>0</th>\n      <td>-1.414214</td>\n      <td>-1.470294</td>\n      <td>5</td>\n      <td>False</td>\n      <td>True</td>\n      <td>False</td>\n      <td>False</td>\n      <td>False</td>\n      <td>False</td>\n      <td>False</td>\n      <td>True</td>\n      <td>False</td>\n      <td>False</td>\n      <td>True</td>\n      <td>2000.000000</td>\n      <td>Young</td>\n    </tr>\n    <tr>\n      <th>1</th>\n      <td>-0.707107</td>\n      <td>-0.770154</td>\n      <td>4</td>\n      <td>True</td>\n      <td>False</td>\n      <td>False</td>\n      <td>False</td>\n      <td>False</td>\n      <td>False</td>\n      <td>False</td>\n      <td>False</td>\n      <td>True</td>\n      <td>True</td>\n      <td>False</td>\n      <td>2000.000000</td>\n      <td>Young</td>\n    </tr>\n    <tr>\n      <th>2</th>\n      <td>0.000000</td>\n      <td>0.280056</td>\n      <td>3</td>\n      <td>False</td>\n      <td>False</td>\n      <td>True</td>\n      <td>False</td>\n      <td>True</td>\n      <td>False</td>\n      <td>False</td>\n      <td>False</td>\n      <td>False</td>\n      <td>False</td>\n      <td>True</td>\n      <td>2142.857143</td>\n      <td>Mid_Career</td>\n    </tr>\n    <tr>\n      <th>3</th>\n      <td>0.707107</td>\n      <td>1.330266</td>\n      <td>2</td>\n      <td>False</td>\n      <td>False</td>\n      <td>False</td>\n      <td>True</td>\n      <td>False</td>\n      <td>True</td>\n      <td>False</td>\n      <td>False</td>\n      <td>False</td>\n      <td>True</td>\n      <td>False</td>\n      <td>2250.000000</td>\n      <td>Senior</td>\n    </tr>\n    <tr>\n      <th>4</th>\n      <td>1.414214</td>\n      <td>0.630126</td>\n      <td>4</td>\n      <td>True</td>\n      <td>False</td>\n      <td>False</td>\n      <td>False</td>\n      <td>False</td>\n      <td>False</td>\n      <td>True</td>\n      <td>False</td>\n      <td>False</td>\n      <td>False</td>\n      <td>True</td>\n      <td>1777.777778</td>\n      <td>Senior</td>\n    </tr>\n  </tbody>\n</table>\n</div>"
     },
     "execution_count": 80,
     "metadata": {},
     "output_type": "execute_result"
    }
   ],
   "source": [
    "# Create bins and labels for the single column\n",
    "bins = [-float('inf'), -0.5, 0.5, float('inf')]  # Adjust the bin edges as needed\n",
    "labels = ['Young', 'Mid_Career', 'Senior']\n",
    "\n",
    "# Bin the Age column\n",
    "df_encoded['Binned_Column'] = pd.cut(df_encoded['Age'], bins=bins, labels=labels, right=False)\n",
    "\n",
    "# Print the updated DataFrame\n",
    "df_encoded"
   ],
   "metadata": {
    "collapsed": false,
    "ExecuteTime": {
     "end_time": "2024-04-10T18:36:47.582333Z",
     "start_time": "2024-04-10T18:36:47.569204Z"
    }
   },
   "id": "7a8eb4c71ed7bb55",
   "execution_count": 80
  },
  {
   "cell_type": "markdown",
   "source": [
    "Combinar 'Edad' en intervalos discretos permite que el modelo considere los grupos de edad como una característica categórica, capturando relaciones no lineales.\n",
    "\n",
    "Como puede ver arriba, la columna \"Edad\" se ha transformado en una columna agrupada, lo que mejora aún más la información proporcionada al modelo.\n",
    "\n",
    "Conclusión\n",
    "Las técnicas de ingeniería de características permiten a los científicos de datos y a los profesionales del aprendizaje automático crear características más informativas y relevantes para el modelado.\n",
    "\n",
    "En este tutorial, exploramos varias técnicas de ingeniería de funciones, incluida la codificación one-hot, el escalado de funciones, la creación de funciones, la selección de funciones y la agrupación.\n",
    "\n",
    "Experimente con estas técnicas para mejorar sus capacidades de análisis y modelado de datos. Recuerde que la elección de las técnicas de ingeniería de características debe estar determinada por los requisitos específicos de su proyecto y la naturaleza de sus datos."
   ],
   "metadata": {
    "collapsed": false
   },
   "id": "ac1905358c5b2673"
  },
  {
   "cell_type": "markdown",
   "source": [
    "# Modelos\n",
    "\n",
    "Creación de los modelos de red neuronal con y sin ingeniería de características"
   ],
   "metadata": {
    "collapsed": false
   },
   "id": "ed339e0765f009cc"
  },
  {
   "cell_type": "markdown",
   "source": [],
   "metadata": {
    "collapsed": false
   },
   "id": "4a0cac50c42f1a0"
  },
  {
   "cell_type": "code",
   "outputs": [
    {
     "data": {
      "text/plain": "        Age    Income  Productivity  Education_Bachelor  \\\n0 -1.414214 -1.470294             5               False   \n1 -0.707107 -0.770154             4                True   \n2  0.000000  0.280056             3               False   \n3  0.707107  1.330266             2               False   \n4  1.414214  0.630126             4                True   \n\n   Education_High School  Education_Master  Education_Ph.D.  City_Chicago  \\\n0                   True             False            False         False   \n1                  False             False            False         False   \n2                  False              True            False          True   \n3                  False             False             True         False   \n4                  False             False            False         False   \n\n   City_Los Angeles  City_Miami  City_New York  City_San Francisco  \\\n0             False       False           True               False   \n1             False       False          False                True   \n2             False       False          False               False   \n3              True       False          False               False   \n4             False        True          False               False   \n\n   Gender_Female  Gender_Male  Income per Age Binned_Column  \n0          False         True     2000.000000         Young  \n1           True        False     2000.000000         Young  \n2          False         True     2142.857143    Mid_Career  \n3           True        False     2250.000000        Senior  \n4          False         True     1777.777778        Senior  ",
      "text/html": "<div>\n<style scoped>\n    .dataframe tbody tr th:only-of-type {\n        vertical-align: middle;\n    }\n\n    .dataframe tbody tr th {\n        vertical-align: top;\n    }\n\n    .dataframe thead th {\n        text-align: right;\n    }\n</style>\n<table border=\"1\" class=\"dataframe\">\n  <thead>\n    <tr style=\"text-align: right;\">\n      <th></th>\n      <th>Age</th>\n      <th>Income</th>\n      <th>Productivity</th>\n      <th>Education_Bachelor</th>\n      <th>Education_High School</th>\n      <th>Education_Master</th>\n      <th>Education_Ph.D.</th>\n      <th>City_Chicago</th>\n      <th>City_Los Angeles</th>\n      <th>City_Miami</th>\n      <th>City_New York</th>\n      <th>City_San Francisco</th>\n      <th>Gender_Female</th>\n      <th>Gender_Male</th>\n      <th>Income per Age</th>\n      <th>Binned_Column</th>\n    </tr>\n  </thead>\n  <tbody>\n    <tr>\n      <th>0</th>\n      <td>-1.414214</td>\n      <td>-1.470294</td>\n      <td>5</td>\n      <td>False</td>\n      <td>True</td>\n      <td>False</td>\n      <td>False</td>\n      <td>False</td>\n      <td>False</td>\n      <td>False</td>\n      <td>True</td>\n      <td>False</td>\n      <td>False</td>\n      <td>True</td>\n      <td>2000.000000</td>\n      <td>Young</td>\n    </tr>\n    <tr>\n      <th>1</th>\n      <td>-0.707107</td>\n      <td>-0.770154</td>\n      <td>4</td>\n      <td>True</td>\n      <td>False</td>\n      <td>False</td>\n      <td>False</td>\n      <td>False</td>\n      <td>False</td>\n      <td>False</td>\n      <td>False</td>\n      <td>True</td>\n      <td>True</td>\n      <td>False</td>\n      <td>2000.000000</td>\n      <td>Young</td>\n    </tr>\n    <tr>\n      <th>2</th>\n      <td>0.000000</td>\n      <td>0.280056</td>\n      <td>3</td>\n      <td>False</td>\n      <td>False</td>\n      <td>True</td>\n      <td>False</td>\n      <td>True</td>\n      <td>False</td>\n      <td>False</td>\n      <td>False</td>\n      <td>False</td>\n      <td>False</td>\n      <td>True</td>\n      <td>2142.857143</td>\n      <td>Mid_Career</td>\n    </tr>\n    <tr>\n      <th>3</th>\n      <td>0.707107</td>\n      <td>1.330266</td>\n      <td>2</td>\n      <td>False</td>\n      <td>False</td>\n      <td>False</td>\n      <td>True</td>\n      <td>False</td>\n      <td>True</td>\n      <td>False</td>\n      <td>False</td>\n      <td>False</td>\n      <td>True</td>\n      <td>False</td>\n      <td>2250.000000</td>\n      <td>Senior</td>\n    </tr>\n    <tr>\n      <th>4</th>\n      <td>1.414214</td>\n      <td>0.630126</td>\n      <td>4</td>\n      <td>True</td>\n      <td>False</td>\n      <td>False</td>\n      <td>False</td>\n      <td>False</td>\n      <td>False</td>\n      <td>True</td>\n      <td>False</td>\n      <td>False</td>\n      <td>False</td>\n      <td>True</td>\n      <td>1777.777778</td>\n      <td>Senior</td>\n    </tr>\n  </tbody>\n</table>\n</div>"
     },
     "execution_count": 86,
     "metadata": {},
     "output_type": "execute_result"
    }
   ],
   "source": [
    "# Tenemos el dataframe df_encoded con las características ya transformadas\n",
    "df_encoded"
   ],
   "metadata": {
    "collapsed": false,
    "ExecuteTime": {
     "end_time": "2024-04-10T18:48:55.388829Z",
     "start_time": "2024-04-10T18:48:55.379664Z"
    }
   },
   "id": "65db99131a8c36e9",
   "execution_count": 86
  },
  {
   "cell_type": "code",
   "outputs": [
    {
     "data": {
      "text/plain": "   Age  Income    Education           City  Gender  Productivity\n0   25   50000  High School       New York    Male             5\n1   30   60000     Bachelor  San Francisco  Female             4\n2   35   75000       Master        Chicago    Male             3\n3   40   90000        Ph.D.    Los Angeles  Female             2\n4   45   80000     Bachelor          Miami    Male             4",
      "text/html": "<div>\n<style scoped>\n    .dataframe tbody tr th:only-of-type {\n        vertical-align: middle;\n    }\n\n    .dataframe tbody tr th {\n        vertical-align: top;\n    }\n\n    .dataframe thead th {\n        text-align: right;\n    }\n</style>\n<table border=\"1\" class=\"dataframe\">\n  <thead>\n    <tr style=\"text-align: right;\">\n      <th></th>\n      <th>Age</th>\n      <th>Income</th>\n      <th>Education</th>\n      <th>City</th>\n      <th>Gender</th>\n      <th>Productivity</th>\n    </tr>\n  </thead>\n  <tbody>\n    <tr>\n      <th>0</th>\n      <td>25</td>\n      <td>50000</td>\n      <td>High School</td>\n      <td>New York</td>\n      <td>Male</td>\n      <td>5</td>\n    </tr>\n    <tr>\n      <th>1</th>\n      <td>30</td>\n      <td>60000</td>\n      <td>Bachelor</td>\n      <td>San Francisco</td>\n      <td>Female</td>\n      <td>4</td>\n    </tr>\n    <tr>\n      <th>2</th>\n      <td>35</td>\n      <td>75000</td>\n      <td>Master</td>\n      <td>Chicago</td>\n      <td>Male</td>\n      <td>3</td>\n    </tr>\n    <tr>\n      <th>3</th>\n      <td>40</td>\n      <td>90000</td>\n      <td>Ph.D.</td>\n      <td>Los Angeles</td>\n      <td>Female</td>\n      <td>2</td>\n    </tr>\n    <tr>\n      <th>4</th>\n      <td>45</td>\n      <td>80000</td>\n      <td>Bachelor</td>\n      <td>Miami</td>\n      <td>Male</td>\n      <td>4</td>\n    </tr>\n  </tbody>\n</table>\n</div>"
     },
     "execution_count": 87,
     "metadata": {},
     "output_type": "execute_result"
    }
   ],
   "source": [
    "# Tenemos el dataframe df con las características originales\n",
    "df"
   ],
   "metadata": {
    "collapsed": false,
    "ExecuteTime": {
     "end_time": "2024-04-10T18:48:57.316016Z",
     "start_time": "2024-04-10T18:48:57.309918Z"
    }
   },
   "id": "812e35ec545939f3",
   "execution_count": 87
  }
 ],
 "metadata": {
  "kernelspec": {
   "display_name": "Python 3",
   "language": "python",
   "name": "python3"
  },
  "language_info": {
   "codemirror_mode": {
    "name": "ipython",
    "version": 2
   },
   "file_extension": ".py",
   "mimetype": "text/x-python",
   "name": "python",
   "nbconvert_exporter": "python",
   "pygments_lexer": "ipython2",
   "version": "2.7.6"
  }
 },
 "nbformat": 4,
 "nbformat_minor": 5
}
