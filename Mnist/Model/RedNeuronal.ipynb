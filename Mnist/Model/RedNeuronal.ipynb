{
 "cells": [
  {
   "cell_type": "markdown",
   "source": [
    "# Clasificador de dígitos por imágenes de 28x28"
   ],
   "metadata": {
    "collapsed": false
   },
   "id": "ac03fb49b672da5c"
  },
  {
   "cell_type": "markdown",
   "source": [
    "Realizaremos una red neuronal para identificar el número que se encuentra en una imagen de 28 x 28 píxeles. Todo este proceso será a través de una API gracias al servicio de Flask. Este servidor contendrá un formulario web en el cual se introducirá la imagen de la cual queremos obtener el número que se encuentra."
   ],
   "metadata": {
    "collapsed": false
   },
   "id": "88eb89a3a02c2739"
  },
  {
   "cell_type": "code",
   "source": [
    "# Importar el dataframe de Mnist desde keras\n",
    "from tensorflow.keras.datasets import mnist\n",
    "\n",
    "# Cargar el dataset de Mnist\n",
    "(train_images, train_labels), (test_images, test_labels) = mnist.load_data()\n",
    "assert train_images.shape == (60000, 28, 28)\n",
    "assert test_images.shape == (10000, 28, 28)\n",
    "assert train_labels.shape == (60000,)\n",
    "assert test_labels.shape == (10000,)"
   ],
   "metadata": {
    "collapsed": false,
    "ExecuteTime": {
     "end_time": "2024-06-03T18:08:44.056038Z",
     "start_time": "2024-06-03T18:08:39.660976Z"
    }
   },
   "id": "955ee146188ccaee",
   "outputs": [
    {
     "name": "stdout",
     "output_type": "stream",
     "text": [
      "WARNING:tensorflow:From C:\\Users\\sergi\\Documents\\Estudios\\venv\\Lib\\site-packages\\keras\\src\\losses.py:2976: The name tf.losses.sparse_softmax_cross_entropy is deprecated. Please use tf.compat.v1.losses.sparse_softmax_cross_entropy instead.\n",
      "\n"
     ]
    }
   ],
   "execution_count": 1
  },
  {
   "cell_type": "code",
   "source": [
    "import numpy as np\n",
    "\n",
    "print(f\"Datos de entrenamiento: {train_images.shape}\")\n",
    "print(f\"Datos de prueba: {test_images.shape}\")\n",
    "print(f\"Etiquetas de entrenamiento: {train_labels.shape}\")\n",
    "print(f\"Etiquetas de prueba: {test_labels.shape}\")\n",
    "print(f\"Etiquetas de las imágenes: {np.unique(train_labels)}\")"
   ],
   "metadata": {
    "collapsed": false,
    "ExecuteTime": {
     "end_time": "2024-06-03T18:08:44.063465Z",
     "start_time": "2024-06-03T18:08:44.057045Z"
    }
   },
   "id": "4a29dbd22c65c05f",
   "outputs": [
    {
     "name": "stdout",
     "output_type": "stream",
     "text": [
      "Datos de entrenamiento: (60000, 28, 28)\n",
      "Datos de prueba: (10000, 28, 28)\n",
      "Etiquetas de entrenamiento: (60000,)\n",
      "Etiquetas de prueba: (10000,)\n",
      "Etiquetas de las imágenes: [0 1 2 3 4 5 6 7 8 9]\n"
     ]
    }
   ],
   "execution_count": 2
  },
  {
   "cell_type": "code",
   "source": [
    "# Ver una imagen de ejemplo\n",
    "from matplotlib import pyplot as plt\n",
    "\n",
    "plt.figure()\n",
    "plt.imshow(train_images[0]) # imshow: Muestra una imagen\n",
    "plt.colorbar()\n",
    "plt.grid(False)\n",
    "plt.show()"
   ],
   "metadata": {
    "collapsed": false,
    "ExecuteTime": {
     "end_time": "2024-06-03T18:08:44.631136Z",
     "start_time": "2024-06-03T18:08:44.064477Z"
    }
   },
   "id": "9e60c427b873d8aa",
   "outputs": [
    {
     "data": {
      "text/plain": [
       "<Figure size 640x480 with 2 Axes>"
      ],
      "image/png": "[encoded data removed]"
     },
     "metadata": {},
     "output_type": "display_data"
    }
   ],
   "execution_count": 3
  },
  {
   "metadata": {
    "ExecuteTime": {
     "end_time": "2024-06-03T18:08:44.794317Z",
     "start_time": "2024-06-03T18:08:44.632143Z"
    }
   },
   "cell_type": "code",
   "source": [
    "# Normalización de las imágenes\n",
    "train_images = train_images / 255.0\n",
    "test_images = test_images / 255.0"
   ],
   "id": "41f3ffaff3c3a814",
   "outputs": [],
   "execution_count": 4
  },
  {
   "cell_type": "code",
   "source": [
    "# Modelado de la red neuronal\n",
    "from tensorflow import keras\n",
    "from tensorflow.keras import models\n",
    "\n",
    "model = models.Sequential([\n",
    "    keras.layers.Flatten(input_shape=(28, 28)),\n",
    "    keras.layers.Dense(128, activation='relu', kernel_initializer='he_uniform'),\n",
    "    keras.layers.Dense(10, activation='softmax')\n",
    "])"
   ],
   "metadata": {
    "collapsed": false,
    "ExecuteTime": {
     "end_time": "2024-06-03T18:08:45.017724Z",
     "start_time": "2024-06-03T18:08:44.795342Z"
    }
   },
   "id": "c679e90634fb820a",
   "outputs": [
    {
     "name": "stdout",
     "output_type": "stream",
     "text": [
      "WARNING:tensorflow:From C:\\Users\\sergi\\Documents\\Estudios\\venv\\Lib\\site-packages\\keras\\src\\backend.py:873: The name tf.get_default_graph is deprecated. Please use tf.compat.v1.get_default_graph instead.\n",
      "\n"
     ]
    }
   ],
   "execution_count": 5
  },
  {
   "cell_type": "code",
   "source": [
    "# Compilación del modelo\n",
    "model.compile(\n",
    "    optimizer='adam', # Adam es un optimizador que se adapta a los datos\n",
    "    loss='sparse_categorical_crossentropy', # Función de pérdida para clasificación\n",
    "    metrics=['accuracy'] # Métrica para evaluar el modelo\n",
    ")\n",
    "\n",
    "# Early stopping\n",
    "early_stopping = keras.callbacks.EarlyStopping(\n",
    "    monitor='val_loss', # Métrica a monitorear\n",
    "    patience=10, # Número de épocas sin mejora\n",
    "    min_delta=0.001, # Diferencia mínima entre épocas\n",
    "    restore_best_weights=True # Restaurar los mejores pesos\n",
    ")\n",
    "\n",
    "# Entrenamiento del modelo\n",
    "history = model.fit(\n",
    "    train_images, train_labels, # Datos de entrenamiento y etiquetas\n",
    "    epochs=100, # Número de épocas para entrenar\n",
    "    batch_size=128, # Tamaño del lote\n",
    "    callbacks=[early_stopping], # Callbacks para el entrenamiento\n",
    "    verbose=1 # Mostrar información del entrenamiento\n",
    ")"
   ],
   "metadata": {
    "collapsed": false,
    "ExecuteTime": {
     "end_time": "2024-06-03T18:10:12.659682Z",
     "start_time": "2024-06-03T18:08:45.017724Z"
    }
   },
   "id": "ab5f656fb7b7a368",
   "outputs": [
    {
     "name": "stdout",
     "output_type": "stream",
     "text": [
      "WARNING:tensorflow:From C:\\Users\\sergi\\Documents\\Estudios\\venv\\Lib\\site-packages\\keras\\src\\optimizers\\__init__.py:309: The name tf.train.Optimizer is deprecated. Please use tf.compat.v1.train.Optimizer instead.\n",
      "\n",
      "Epoch 1/100\n",
      "WARNING:tensorflow:From C:\\Users\\sergi\\Documents\\Estudios\\venv\\Lib\\site-packages\\keras\\src\\utils\\tf_utils.py:492: The name tf.ragged.RaggedTensorValue is deprecated. Please use tf.compat.v1.ragged.RaggedTensorValue instead.\n",
      "\n",
      "WARNING:tensorflow:From C:\\Users\\sergi\\Documents\\Estudios\\venv\\Lib\\site-packages\\keras\\src\\engine\\base_layer_utils.py:384: The name tf.executing_eagerly_outside_functions is deprecated. Please use tf.compat.v1.executing_eagerly_outside_functions instead.\n",
      "\n",
      "455/469 [============================>.] - ETA: 0s - loss: 0.3606 - accuracy: 0.9007WARNING:tensorflow:Early stopping conditioned on metric `val_loss` which is not available. Available metrics are: loss,accuracy\n",
      "469/469 [==============================] - 1s 2ms/step - loss: 0.3555 - accuracy: 0.9020\n",
      "Epoch 2/100\n",
      "457/469 [============================>.] - ETA: 0s - loss: 0.1605 - accuracy: 0.9547WARNING:tensorflow:Early stopping conditioned on metric `val_loss` which is not available. Available metrics are: loss,accuracy\n",
      "469/469 [==============================] - 1s 2ms/step - loss: 0.1594 - accuracy: 0.9550\n",
      "Epoch 3/100\n",
      "464/469 [============================>.] - ETA: 0s - loss: 0.1146 - accuracy: 0.9679WARNING:tensorflow:Early stopping conditioned on metric `val_loss` which is not available. Available metrics are: loss,accuracy\n",
      "469/469 [==============================] - 1s 2ms/step - loss: 0.1145 - accuracy: 0.9678\n",
      "Epoch 4/100\n",
      "440/469 [===========================>..] - ETA: 0s - loss: 0.0898 - accuracy: 0.9751WARNING:tensorflow:Early stopping conditioned on metric `val_loss` which is not available. Available metrics are: loss,accuracy\n",
      "469/469 [==============================] - 1s 2ms/step - loss: 0.0897 - accuracy: 0.9750\n",
      "Epoch 5/100\n",
      "441/469 [===========================>..] - ETA: 0s - loss: 0.0714 - accuracy: 0.9791WARNING:tensorflow:Early stopping conditioned on metric `val_loss` which is not available. Available metrics are: loss,accuracy\n",
      "469/469 [==============================] - 1s 2ms/step - loss: 0.0717 - accuracy: 0.9790\n",
      "Epoch 6/100\n",
      "462/469 [============================>.] - ETA: 0s - loss: 0.0588 - accuracy: 0.9830WARNING:tensorflow:Early stopping conditioned on metric `val_loss` which is not available. Available metrics are: loss,accuracy\n",
      "469/469 [==============================] - 1s 2ms/step - loss: 0.0591 - accuracy: 0.9829\n",
      "Epoch 7/100\n",
      "459/469 [============================>.] - ETA: 0s - loss: 0.0493 - accuracy: 0.9857WARNING:tensorflow:Early stopping conditioned on metric `val_loss` which is not available. Available metrics are: loss,accuracy\n",
      "469/469 [==============================] - 1s 2ms/step - loss: 0.0492 - accuracy: 0.9857\n",
      "Epoch 8/100\n",
      "463/469 [============================>.] - ETA: 0s - loss: 0.0429 - accuracy: 0.9874WARNING:tensorflow:Early stopping conditioned on metric `val_loss` which is not available. Available metrics are: loss,accuracy\n",
      "469/469 [==============================] - 1s 2ms/step - loss: 0.0429 - accuracy: 0.9874\n",
      "Epoch 9/100\n",
      "448/469 [===========================>..] - ETA: 0s - loss: 0.0349 - accuracy: 0.9907WARNING:tensorflow:Early stopping conditioned on metric `val_loss` which is not available. Available metrics are: loss,accuracy\n",
      "469/469 [==============================] - 1s 2ms/step - loss: 0.0350 - accuracy: 0.9907\n",
      "Epoch 10/100\n",
      "445/469 [===========================>..] - ETA: 0s - loss: 0.0299 - accuracy: 0.9920WARNING:tensorflow:Early stopping conditioned on metric `val_loss` which is not available. Available metrics are: loss,accuracy\n",
      "469/469 [==============================] - 1s 2ms/step - loss: 0.0299 - accuracy: 0.9919\n",
      "Epoch 11/100\n",
      "450/469 [===========================>..] - ETA: 0s - loss: 0.0267 - accuracy: 0.9929WARNING:tensorflow:Early stopping conditioned on metric `val_loss` which is not available. Available metrics are: loss,accuracy\n",
      "469/469 [==============================] - 1s 2ms/step - loss: 0.0268 - accuracy: 0.9928\n",
      "Epoch 12/100\n",
      "457/469 [============================>.] - ETA: 0s - loss: 0.0218 - accuracy: 0.9947WARNING:tensorflow:Early stopping conditioned on metric `val_loss` which is not available. Available metrics are: loss,accuracy\n",
      "469/469 [==============================] - 1s 2ms/step - loss: 0.0219 - accuracy: 0.9947\n",
      "Epoch 13/100\n",
      "457/469 [============================>.] - ETA: 0s - loss: 0.0182 - accuracy: 0.9957WARNING:tensorflow:Early stopping conditioned on metric `val_loss` which is not available. Available metrics are: loss,accuracy\n",
      "469/469 [==============================] - 1s 2ms/step - loss: 0.0184 - accuracy: 0.9955\n",
      "Epoch 14/100\n",
      "459/469 [============================>.] - ETA: 0s - loss: 0.0162 - accuracy: 0.9963WARNING:tensorflow:Early stopping conditioned on metric `val_loss` which is not available. Available metrics are: loss,accuracy\n",
      "469/469 [==============================] - 1s 2ms/step - loss: 0.0163 - accuracy: 0.9962\n",
      "Epoch 15/100\n",
      "453/469 [===========================>..] - ETA: 0s - loss: 0.0140 - accuracy: 0.9964WARNING:tensorflow:Early stopping conditioned on metric `val_loss` which is not available. Available metrics are: loss,accuracy\n",
      "469/469 [==============================] - 1s 2ms/step - loss: 0.0141 - accuracy: 0.9963\n",
      "Epoch 16/100\n",
      "440/469 [===========================>..] - ETA: 0s - loss: 0.0118 - accuracy: 0.9974WARNING:tensorflow:Early stopping conditioned on metric `val_loss` which is not available. Available metrics are: loss,accuracy\n",
      "469/469 [==============================] - 1s 2ms/step - loss: 0.0121 - accuracy: 0.9972\n",
      "Epoch 17/100\n",
      "457/469 [============================>.] - ETA: 0s - loss: 0.0100 - accuracy: 0.9981WARNING:tensorflow:Early stopping conditioned on metric `val_loss` which is not available. Available metrics are: loss,accuracy\n",
      "469/469 [==============================] - 1s 2ms/step - loss: 0.0100 - accuracy: 0.9981\n",
      "Epoch 18/100\n",
      "463/469 [============================>.] - ETA: 0s - loss: 0.0081 - accuracy: 0.9984WARNING:tensorflow:Early stopping conditioned on metric `val_loss` which is not available. Available metrics are: loss,accuracy\n",
      "469/469 [==============================] - 1s 2ms/step - loss: 0.0081 - accuracy: 0.9984\n",
      "Epoch 19/100\n",
      "455/469 [============================>.] - ETA: 0s - loss: 0.0080 - accuracy: 0.9985WARNING:tensorflow:Early stopping conditioned on metric `val_loss` which is not available. Available metrics are: loss,accuracy\n",
      "469/469 [==============================] - 1s 2ms/step - loss: 0.0080 - accuracy: 0.9985\n",
      "Epoch 20/100\n",
      "460/469 [============================>.] - ETA: 0s - loss: 0.0066 - accuracy: 0.9989WARNING:tensorflow:Early stopping conditioned on metric `val_loss` which is not available. Available metrics are: loss,accuracy\n",
      "469/469 [==============================] - 1s 2ms/step - loss: 0.0066 - accuracy: 0.9990\n",
      "Epoch 21/100\n",
      "458/469 [============================>.] - ETA: 0s - loss: 0.0048 - accuracy: 0.9994WARNING:tensorflow:Early stopping conditioned on metric `val_loss` which is not available. Available metrics are: loss,accuracy\n",
      "469/469 [==============================] - 1s 2ms/step - loss: 0.0049 - accuracy: 0.9993\n",
      "Epoch 22/100\n",
      "465/469 [============================>.] - ETA: 0s - loss: 0.0047 - accuracy: 0.9993WARNING:tensorflow:Early stopping conditioned on metric `val_loss` which is not available. Available metrics are: loss,accuracy\n",
      "469/469 [==============================] - 1s 2ms/step - loss: 0.0047 - accuracy: 0.9993\n",
      "Epoch 23/100\n",
      "463/469 [============================>.] - ETA: 0s - loss: 0.0053 - accuracy: 0.9991WARNING:tensorflow:Early stopping conditioned on metric `val_loss` which is not available. Available metrics are: loss,accuracy\n",
      "469/469 [==============================] - 1s 2ms/step - loss: 0.0053 - accuracy: 0.9991\n",
      "Epoch 24/100\n",
      "467/469 [============================>.] - ETA: 0s - loss: 0.0055 - accuracy: 0.9989WARNING:tensorflow:Early stopping conditioned on metric `val_loss` which is not available. Available metrics are: loss,accuracy\n",
      "469/469 [==============================] - 1s 2ms/step - loss: 0.0055 - accuracy: 0.9989\n",
      "Epoch 25/100\n",
      "463/469 [============================>.] - ETA: 0s - loss: 0.0044 - accuracy: 0.9991WARNING:tensorflow:Early stopping conditioned on metric `val_loss` which is not available. Available metrics are: loss,accuracy\n",
      "469/469 [==============================] - 1s 2ms/step - loss: 0.0044 - accuracy: 0.9991\n",
      "Epoch 26/100\n",
      "457/469 [============================>.] - ETA: 0s - loss: 0.0036 - accuracy: 0.9994WARNING:tensorflow:Early stopping conditioned on metric `val_loss` which is not available. Available metrics are: loss,accuracy\n",
      "469/469 [==============================] - 1s 2ms/step - loss: 0.0036 - accuracy: 0.9994\n",
      "Epoch 27/100\n",
      "465/469 [============================>.] - ETA: 0s - loss: 0.0021 - accuracy: 0.9999WARNING:tensorflow:Early stopping conditioned on metric `val_loss` which is not available. Available metrics are: loss,accuracy\n",
      "469/469 [==============================] - 1s 2ms/step - loss: 0.0021 - accuracy: 0.9999\n",
      "Epoch 28/100\n",
      "454/469 [============================>.] - ETA: 0s - loss: 0.0012 - accuracy: 1.0000WARNING:tensorflow:Early stopping conditioned on metric `val_loss` which is not available. Available metrics are: loss,accuracy\n",
      "469/469 [==============================] - 1s 2ms/step - loss: 0.0012 - accuracy: 1.0000\n",
      "Epoch 29/100\n",
      "461/469 [============================>.] - ETA: 0s - loss: 9.1061e-04 - accuracy: 1.0000WARNING:tensorflow:Early stopping conditioned on metric `val_loss` which is not available. Available metrics are: loss,accuracy\n",
      "469/469 [==============================] - 1s 2ms/step - loss: 9.1957e-04 - accuracy: 1.0000\n",
      "Epoch 30/100\n",
      "460/469 [============================>.] - ETA: 0s - loss: 8.4883e-04 - accuracy: 1.0000WARNING:tensorflow:Early stopping conditioned on metric `val_loss` which is not available. Available metrics are: loss,accuracy\n",
      "469/469 [==============================] - 1s 2ms/step - loss: 8.5194e-04 - accuracy: 1.0000\n",
      "Epoch 31/100\n",
      "463/469 [============================>.] - ETA: 0s - loss: 7.0582e-04 - accuracy: 1.0000WARNING:tensorflow:Early stopping conditioned on metric `val_loss` which is not available. Available metrics are: loss,accuracy\n",
      "469/469 [==============================] - 1s 2ms/step - loss: 7.0561e-04 - accuracy: 1.0000\n",
      "Epoch 32/100\n",
      "466/469 [============================>.] - ETA: 0s - loss: 0.0123 - accuracy: 0.9958WARNING:tensorflow:Early stopping conditioned on metric `val_loss` which is not available. Available metrics are: loss,accuracy\n",
      "469/469 [==============================] - 1s 2ms/step - loss: 0.0123 - accuracy: 0.9958\n",
      "Epoch 33/100\n",
      "463/469 [============================>.] - ETA: 0s - loss: 0.0043 - accuracy: 0.9989WARNING:tensorflow:Early stopping conditioned on metric `val_loss` which is not available. Available metrics are: loss,accuracy\n",
      "469/469 [==============================] - 1s 2ms/step - loss: 0.0044 - accuracy: 0.9989\n",
      "Epoch 34/100\n",
      "464/469 [============================>.] - ETA: 0s - loss: 0.0012 - accuracy: 0.9998WARNING:tensorflow:Early stopping conditioned on metric `val_loss` which is not available. Available metrics are: loss,accuracy\n",
      "469/469 [==============================] - 1s 2ms/step - loss: 0.0012 - accuracy: 0.9998\n",
      "Epoch 35/100\n",
      "468/469 [============================>.] - ETA: 0s - loss: 5.4418e-04 - accuracy: 1.0000WARNING:tensorflow:Early stopping conditioned on metric `val_loss` which is not available. Available metrics are: loss,accuracy\n",
      "469/469 [==============================] - 1s 2ms/step - loss: 5.4463e-04 - accuracy: 1.0000\n",
      "Epoch 36/100\n",
      "455/469 [============================>.] - ETA: 0s - loss: 4.3410e-04 - accuracy: 1.0000WARNING:tensorflow:Early stopping conditioned on metric `val_loss` which is not available. Available metrics are: loss,accuracy\n",
      "469/469 [==============================] - 1s 2ms/step - loss: 4.3379e-04 - accuracy: 1.0000\n",
      "Epoch 37/100\n",
      "466/469 [============================>.] - ETA: 0s - loss: 3.8902e-04 - accuracy: 1.0000WARNING:tensorflow:Early stopping conditioned on metric `val_loss` which is not available. Available metrics are: loss,accuracy\n",
      "469/469 [==============================] - 1s 2ms/step - loss: 3.8795e-04 - accuracy: 1.0000\n",
      "Epoch 38/100\n",
      "454/469 [============================>.] - ETA: 0s - loss: 3.4845e-04 - accuracy: 1.0000WARNING:tensorflow:Early stopping conditioned on metric `val_loss` which is not available. Available metrics are: loss,accuracy\n",
      "469/469 [==============================] - 1s 2ms/step - loss: 3.4880e-04 - accuracy: 1.0000\n",
      "Epoch 39/100\n",
      "454/469 [============================>.] - ETA: 0s - loss: 3.2837e-04 - accuracy: 1.0000WARNING:tensorflow:Early stopping conditioned on metric `val_loss` which is not available. Available metrics are: loss,accuracy\n",
      "469/469 [==============================] - 1s 2ms/step - loss: 3.2747e-04 - accuracy: 1.0000\n",
      "Epoch 40/100\n",
      "466/469 [============================>.] - ETA: 0s - loss: 2.8832e-04 - accuracy: 1.0000WARNING:tensorflow:Early stopping conditioned on metric `val_loss` which is not available. Available metrics are: loss,accuracy\n",
      "469/469 [==============================] - 1s 2ms/step - loss: 2.8790e-04 - accuracy: 1.0000\n",
      "Epoch 41/100\n",
      "441/469 [===========================>..] - ETA: 0s - loss: 6.2031e-04 - accuracy: 0.9999WARNING:tensorflow:Early stopping conditioned on metric `val_loss` which is not available. Available metrics are: loss,accuracy\n",
      "469/469 [==============================] - 1s 2ms/step - loss: 0.0026 - accuracy: 0.9993\n",
      "Epoch 42/100\n",
      "460/469 [============================>.] - ETA: 0s - loss: 0.0117 - accuracy: 0.9960WARNING:tensorflow:Early stopping conditioned on metric `val_loss` which is not available. Available metrics are: loss,accuracy\n",
      "469/469 [==============================] - 1s 2ms/step - loss: 0.0116 - accuracy: 0.9961\n",
      "Epoch 43/100\n",
      "440/469 [===========================>..] - ETA: 0s - loss: 0.0021 - accuracy: 0.9996WARNING:tensorflow:Early stopping conditioned on metric `val_loss` which is not available. Available metrics are: loss,accuracy\n",
      "469/469 [==============================] - 1s 2ms/step - loss: 0.0021 - accuracy: 0.9996\n",
      "Epoch 44/100\n",
      "457/469 [============================>.] - ETA: 0s - loss: 5.3304e-04 - accuracy: 1.0000WARNING:tensorflow:Early stopping conditioned on metric `val_loss` which is not available. Available metrics are: loss,accuracy\n",
      "469/469 [==============================] - 1s 2ms/step - loss: 5.2806e-04 - accuracy: 1.0000\n",
      "Epoch 45/100\n",
      "444/469 [===========================>..] - ETA: 0s - loss: 2.9565e-04 - accuracy: 1.0000WARNING:tensorflow:Early stopping conditioned on metric `val_loss` which is not available. Available metrics are: loss,accuracy\n",
      "469/469 [==============================] - 1s 2ms/step - loss: 2.9585e-04 - accuracy: 1.0000\n",
      "Epoch 46/100\n",
      "460/469 [============================>.] - ETA: 0s - loss: 2.3316e-04 - accuracy: 1.0000WARNING:tensorflow:Early stopping conditioned on metric `val_loss` which is not available. Available metrics are: loss,accuracy\n",
      "469/469 [==============================] - 1s 2ms/step - loss: 2.3333e-04 - accuracy: 1.0000\n",
      "Epoch 47/100\n",
      "455/469 [============================>.] - ETA: 0s - loss: 2.0474e-04 - accuracy: 1.0000WARNING:tensorflow:Early stopping conditioned on metric `val_loss` which is not available. Available metrics are: loss,accuracy\n",
      "469/469 [==============================] - 1s 2ms/step - loss: 2.0554e-04 - accuracy: 1.0000\n",
      "Epoch 48/100\n",
      "459/469 [============================>.] - ETA: 0s - loss: 1.8296e-04 - accuracy: 1.0000WARNING:tensorflow:Early stopping conditioned on metric `val_loss` which is not available. Available metrics are: loss,accuracy\n",
      "469/469 [==============================] - 1s 2ms/step - loss: 1.8404e-04 - accuracy: 1.0000\n",
      "Epoch 49/100\n",
      "461/469 [============================>.] - ETA: 0s - loss: 1.6631e-04 - accuracy: 1.0000WARNING:tensorflow:Early stopping conditioned on metric `val_loss` which is not available. Available metrics are: loss,accuracy\n",
      "469/469 [==============================] - 1s 2ms/step - loss: 1.6604e-04 - accuracy: 1.0000\n",
      "Epoch 50/100\n",
      "461/469 [============================>.] - ETA: 0s - loss: 1.5380e-04 - accuracy: 1.0000WARNING:tensorflow:Early stopping conditioned on metric `val_loss` which is not available. Available metrics are: loss,accuracy\n",
      "469/469 [==============================] - 1s 2ms/step - loss: 1.5540e-04 - accuracy: 1.0000\n",
      "Epoch 51/100\n",
      "460/469 [============================>.] - ETA: 0s - loss: 1.4031e-04 - accuracy: 1.0000WARNING:tensorflow:Early stopping conditioned on metric `val_loss` which is not available. Available metrics are: loss,accuracy\n",
      "469/469 [==============================] - 1s 2ms/step - loss: 1.3954e-04 - accuracy: 1.0000\n",
      "Epoch 52/100\n",
      "446/469 [===========================>..] - ETA: 0s - loss: 1.2937e-04 - accuracy: 1.0000WARNING:tensorflow:Early stopping conditioned on metric `val_loss` which is not available. Available metrics are: loss,accuracy\n",
      "469/469 [==============================] - 1s 2ms/step - loss: 1.3079e-04 - accuracy: 1.0000\n",
      "Epoch 53/100\n",
      "468/469 [============================>.] - ETA: 0s - loss: 0.0099 - accuracy: 0.9970WARNING:tensorflow:Early stopping conditioned on metric `val_loss` which is not available. Available metrics are: loss,accuracy\n",
      "469/469 [==============================] - 1s 2ms/step - loss: 0.0099 - accuracy: 0.9970\n",
      "Epoch 54/100\n",
      "459/469 [============================>.] - ETA: 0s - loss: 0.0051 - accuracy: 0.9983WARNING:tensorflow:Early stopping conditioned on metric `val_loss` which is not available. Available metrics are: loss,accuracy\n",
      "469/469 [==============================] - 1s 2ms/step - loss: 0.0051 - accuracy: 0.9983\n",
      "Epoch 55/100\n",
      "463/469 [============================>.] - ETA: 0s - loss: 0.0013 - accuracy: 0.9997WARNING:tensorflow:Early stopping conditioned on metric `val_loss` which is not available. Available metrics are: loss,accuracy\n",
      "469/469 [==============================] - 1s 2ms/step - loss: 0.0013 - accuracy: 0.9997\n",
      "Epoch 56/100\n",
      "445/469 [===========================>..] - ETA: 0s - loss: 2.5600e-04 - accuracy: 1.0000WARNING:tensorflow:Early stopping conditioned on metric `val_loss` which is not available. Available metrics are: loss,accuracy\n",
      "469/469 [==============================] - 1s 2ms/step - loss: 2.5174e-04 - accuracy: 1.0000\n",
      "Epoch 57/100\n",
      "468/469 [============================>.] - ETA: 0s - loss: 1.6982e-04 - accuracy: 1.0000WARNING:tensorflow:Early stopping conditioned on metric `val_loss` which is not available. Available metrics are: loss,accuracy\n",
      "469/469 [==============================] - 1s 2ms/step - loss: 1.6957e-04 - accuracy: 1.0000\n",
      "Epoch 58/100\n",
      "450/469 [===========================>..] - ETA: 0s - loss: 1.4297e-04 - accuracy: 1.0000WARNING:tensorflow:Early stopping conditioned on metric `val_loss` which is not available. Available metrics are: loss,accuracy\n",
      "469/469 [==============================] - 1s 2ms/step - loss: 1.4217e-04 - accuracy: 1.0000\n",
      "Epoch 59/100\n",
      "467/469 [============================>.] - ETA: 0s - loss: 1.2431e-04 - accuracy: 1.0000WARNING:tensorflow:Early stopping conditioned on metric `val_loss` which is not available. Available metrics are: loss,accuracy\n",
      "469/469 [==============================] - 1s 2ms/step - loss: 1.2430e-04 - accuracy: 1.0000\n",
      "Epoch 60/100\n",
      "465/469 [============================>.] - ETA: 0s - loss: 1.0970e-04 - accuracy: 1.0000WARNING:tensorflow:Early stopping conditioned on metric `val_loss` which is not available. Available metrics are: loss,accuracy\n",
      "469/469 [==============================] - 1s 2ms/step - loss: 1.0973e-04 - accuracy: 1.0000\n",
      "Epoch 61/100\n",
      "461/469 [============================>.] - ETA: 0s - loss: 9.7870e-05 - accuracy: 1.0000WARNING:tensorflow:Early stopping conditioned on metric `val_loss` which is not available. Available metrics are: loss,accuracy\n",
      "469/469 [==============================] - 1s 2ms/step - loss: 9.7936e-05 - accuracy: 1.0000\n",
      "Epoch 62/100\n",
      "463/469 [============================>.] - ETA: 0s - loss: 8.9510e-05 - accuracy: 1.0000WARNING:tensorflow:Early stopping conditioned on metric `val_loss` which is not available. Available metrics are: loss,accuracy\n",
      "469/469 [==============================] - 1s 2ms/step - loss: 8.9408e-05 - accuracy: 1.0000\n",
      "Epoch 63/100\n",
      "467/469 [============================>.] - ETA: 0s - loss: 7.9560e-05 - accuracy: 1.0000WARNING:tensorflow:Early stopping conditioned on metric `val_loss` which is not available. Available metrics are: loss,accuracy\n",
      "469/469 [==============================] - 1s 2ms/step - loss: 7.9582e-05 - accuracy: 1.0000\n",
      "Epoch 64/100\n",
      "442/469 [===========================>..] - ETA: 0s - loss: 7.1833e-05 - accuracy: 1.0000WARNING:tensorflow:Early stopping conditioned on metric `val_loss` which is not available. Available metrics are: loss,accuracy\n",
      "469/469 [==============================] - 1s 2ms/step - loss: 7.1677e-05 - accuracy: 1.0000\n",
      "Epoch 65/100\n",
      "462/469 [============================>.] - ETA: 0s - loss: 3.9649e-04 - accuracy: 0.9999WARNING:tensorflow:Early stopping conditioned on metric `val_loss` which is not available. Available metrics are: loss,accuracy\n",
      "469/469 [==============================] - 1s 2ms/step - loss: 6.8605e-04 - accuracy: 0.9998\n",
      "Epoch 66/100\n",
      "466/469 [============================>.] - ETA: 0s - loss: 0.0133 - accuracy: 0.9959WARNING:tensorflow:Early stopping conditioned on metric `val_loss` which is not available. Available metrics are: loss,accuracy\n",
      "469/469 [==============================] - 1s 2ms/step - loss: 0.0132 - accuracy: 0.9959\n",
      "Epoch 67/100\n",
      "469/469 [==============================] - ETA: 0s - loss: 0.0015 - accuracy: 0.9996WARNING:tensorflow:Early stopping conditioned on metric `val_loss` which is not available. Available metrics are: loss,accuracy\n",
      "469/469 [==============================] - 1s 2ms/step - loss: 0.0015 - accuracy: 0.9996\n",
      "Epoch 68/100\n",
      "443/469 [===========================>..] - ETA: 0s - loss: 3.6581e-04 - accuracy: 0.9999WARNING:tensorflow:Early stopping conditioned on metric `val_loss` which is not available. Available metrics are: loss,accuracy\n",
      "469/469 [==============================] - 1s 2ms/step - loss: 3.5520e-04 - accuracy: 0.9999\n",
      "Epoch 69/100\n",
      "440/469 [===========================>..] - ETA: 0s - loss: 1.3859e-04 - accuracy: 1.0000WARNING:tensorflow:Early stopping conditioned on metric `val_loss` which is not available. Available metrics are: loss,accuracy\n",
      "469/469 [==============================] - 1s 2ms/step - loss: 1.3738e-04 - accuracy: 1.0000\n",
      "Epoch 70/100\n",
      "464/469 [============================>.] - ETA: 0s - loss: 1.0759e-04 - accuracy: 1.0000WARNING:tensorflow:Early stopping conditioned on metric `val_loss` which is not available. Available metrics are: loss,accuracy\n",
      "469/469 [==============================] - 1s 2ms/step - loss: 1.0766e-04 - accuracy: 1.0000\n",
      "Epoch 71/100\n",
      "469/469 [==============================] - ETA: 0s - loss: 9.2928e-05 - accuracy: 1.0000WARNING:tensorflow:Early stopping conditioned on metric `val_loss` which is not available. Available metrics are: loss,accuracy\n",
      "469/469 [==============================] - 1s 2ms/step - loss: 9.2928e-05 - accuracy: 1.0000\n",
      "Epoch 72/100\n",
      "444/469 [===========================>..] - ETA: 0s - loss: 8.1732e-05 - accuracy: 1.0000WARNING:tensorflow:Early stopping conditioned on metric `val_loss` which is not available. Available metrics are: loss,accuracy\n",
      "469/469 [==============================] - 1s 2ms/step - loss: 8.1947e-05 - accuracy: 1.0000\n",
      "Epoch 73/100\n",
      "443/469 [===========================>..] - ETA: 0s - loss: 7.3119e-05 - accuracy: 1.0000WARNING:tensorflow:Early stopping conditioned on metric `val_loss` which is not available. Available metrics are: loss,accuracy\n",
      "469/469 [==============================] - 1s 2ms/step - loss: 7.2227e-05 - accuracy: 1.0000\n",
      "Epoch 74/100\n",
      "469/469 [==============================] - ETA: 0s - loss: 6.4458e-05 - accuracy: 1.0000WARNING:tensorflow:Early stopping conditioned on metric `val_loss` which is not available. Available metrics are: loss,accuracy\n",
      "469/469 [==============================] - 1s 2ms/step - loss: 6.4458e-05 - accuracy: 1.0000\n",
      "Epoch 75/100\n",
      "463/469 [============================>.] - ETA: 0s - loss: 5.7599e-05 - accuracy: 1.0000WARNING:tensorflow:Early stopping conditioned on metric `val_loss` which is not available. Available metrics are: loss,accuracy\n",
      "469/469 [==============================] - 1s 2ms/step - loss: 5.7643e-05 - accuracy: 1.0000\n",
      "Epoch 76/100\n",
      "465/469 [============================>.] - ETA: 0s - loss: 5.1814e-05 - accuracy: 1.0000WARNING:tensorflow:Early stopping conditioned on metric `val_loss` which is not available. Available metrics are: loss,accuracy\n",
      "469/469 [==============================] - 1s 2ms/step - loss: 5.1803e-05 - accuracy: 1.0000\n",
      "Epoch 77/100\n",
      "444/469 [===========================>..] - ETA: 0s - loss: 4.7077e-05 - accuracy: 1.0000WARNING:tensorflow:Early stopping conditioned on metric `val_loss` which is not available. Available metrics are: loss,accuracy\n",
      "469/469 [==============================] - 1s 2ms/step - loss: 4.6883e-05 - accuracy: 1.0000\n",
      "Epoch 78/100\n",
      "457/469 [============================>.] - ETA: 0s - loss: 4.2056e-05 - accuracy: 1.0000WARNING:tensorflow:Early stopping conditioned on metric `val_loss` which is not available. Available metrics are: loss,accuracy\n",
      "469/469 [==============================] - 1s 2ms/step - loss: 4.2029e-05 - accuracy: 1.0000\n",
      "Epoch 79/100\n",
      "458/469 [============================>.] - ETA: 0s - loss: 3.7632e-05 - accuracy: 1.0000WARNING:tensorflow:Early stopping conditioned on metric `val_loss` which is not available. Available metrics are: loss,accuracy\n",
      "469/469 [==============================] - 1s 2ms/step - loss: 3.8136e-05 - accuracy: 1.0000\n",
      "Epoch 80/100\n",
      "456/469 [============================>.] - ETA: 0s - loss: 3.5994e-05 - accuracy: 1.0000WARNING:tensorflow:Early stopping conditioned on metric `val_loss` which is not available. Available metrics are: loss,accuracy\n",
      "469/469 [==============================] - 1s 2ms/step - loss: 3.6056e-05 - accuracy: 1.0000\n",
      "Epoch 81/100\n",
      "464/469 [============================>.] - ETA: 0s - loss: 3.1933e-05 - accuracy: 1.0000WARNING:tensorflow:Early stopping conditioned on metric `val_loss` which is not available. Available metrics are: loss,accuracy\n",
      "469/469 [==============================] - 1s 2ms/step - loss: 3.1889e-05 - accuracy: 1.0000\n",
      "Epoch 82/100\n",
      "448/469 [===========================>..] - ETA: 0s - loss: 2.8701e-05 - accuracy: 1.0000WARNING:tensorflow:Early stopping conditioned on metric `val_loss` which is not available. Available metrics are: loss,accuracy\n",
      "469/469 [==============================] - 1s 2ms/step - loss: 2.8737e-05 - accuracy: 1.0000\n",
      "Epoch 83/100\n",
      "462/469 [============================>.] - ETA: 0s - loss: 2.4050e-05 - accuracy: 1.0000WARNING:tensorflow:Early stopping conditioned on metric `val_loss` which is not available. Available metrics are: loss,accuracy\n",
      "469/469 [==============================] - 1s 2ms/step - loss: 2.4103e-05 - accuracy: 1.0000\n",
      "Epoch 84/100\n",
      "460/469 [============================>.] - ETA: 0s - loss: 0.0012 - accuracy: 0.9997    WARNING:tensorflow:Early stopping conditioned on metric `val_loss` which is not available. Available metrics are: loss,accuracy\n",
      "469/469 [==============================] - 1s 2ms/step - loss: 0.0021 - accuracy: 0.9995\n",
      "Epoch 85/100\n",
      "462/469 [============================>.] - ETA: 0s - loss: 0.0115 - accuracy: 0.9968WARNING:tensorflow:Early stopping conditioned on metric `val_loss` which is not available. Available metrics are: loss,accuracy\n",
      "469/469 [==============================] - 1s 2ms/step - loss: 0.0113 - accuracy: 0.9969\n",
      "Epoch 86/100\n",
      "443/469 [===========================>..] - ETA: 0s - loss: 5.7637e-04 - accuracy: 0.9999WARNING:tensorflow:Early stopping conditioned on metric `val_loss` which is not available. Available metrics are: loss,accuracy\n",
      "469/469 [==============================] - 1s 2ms/step - loss: 5.6755e-04 - accuracy: 0.9999\n",
      "Epoch 87/100\n",
      "468/469 [============================>.] - ETA: 0s - loss: 5.8560e-04 - accuracy: 0.9999WARNING:tensorflow:Early stopping conditioned on metric `val_loss` which is not available. Available metrics are: loss,accuracy\n",
      "469/469 [==============================] - 1s 2ms/step - loss: 5.8470e-04 - accuracy: 0.9999\n",
      "Epoch 88/100\n",
      "448/469 [===========================>..] - ETA: 0s - loss: 0.0012 - accuracy: 0.9997WARNING:tensorflow:Early stopping conditioned on metric `val_loss` which is not available. Available metrics are: loss,accuracy\n",
      "469/469 [==============================] - 1s 2ms/step - loss: 0.0012 - accuracy: 0.9997\n",
      "Epoch 89/100\n",
      "467/469 [============================>.] - ETA: 0s - loss: 1.1495e-04 - accuracy: 1.0000WARNING:tensorflow:Early stopping conditioned on metric `val_loss` which is not available. Available metrics are: loss,accuracy\n",
      "469/469 [==============================] - 1s 2ms/step - loss: 1.1464e-04 - accuracy: 1.0000\n",
      "Epoch 90/100\n",
      "451/469 [===========================>..] - ETA: 0s - loss: 5.3565e-05 - accuracy: 1.0000WARNING:tensorflow:Early stopping conditioned on metric `val_loss` which is not available. Available metrics are: loss,accuracy\n",
      "469/469 [==============================] - 1s 2ms/step - loss: 5.3530e-05 - accuracy: 1.0000\n",
      "Epoch 91/100\n",
      "453/469 [===========================>..] - ETA: 0s - loss: 4.2400e-05 - accuracy: 1.0000WARNING:tensorflow:Early stopping conditioned on metric `val_loss` which is not available. Available metrics are: loss,accuracy\n",
      "469/469 [==============================] - 1s 2ms/step - loss: 4.2590e-05 - accuracy: 1.0000\n",
      "Epoch 92/100\n",
      "456/469 [============================>.] - ETA: 0s - loss: 3.6582e-05 - accuracy: 1.0000WARNING:tensorflow:Early stopping conditioned on metric `val_loss` which is not available. Available metrics are: loss,accuracy\n",
      "469/469 [==============================] - 1s 2ms/step - loss: 3.6710e-05 - accuracy: 1.0000\n",
      "Epoch 93/100\n",
      "453/469 [===========================>..] - ETA: 0s - loss: 3.2137e-05 - accuracy: 1.0000WARNING:tensorflow:Early stopping conditioned on metric `val_loss` which is not available. Available metrics are: loss,accuracy\n",
      "469/469 [==============================] - 1s 2ms/step - loss: 3.2276e-05 - accuracy: 1.0000\n",
      "Epoch 94/100\n",
      "455/469 [============================>.] - ETA: 0s - loss: 2.8674e-05 - accuracy: 1.0000WARNING:tensorflow:Early stopping conditioned on metric `val_loss` which is not available. Available metrics are: loss,accuracy\n",
      "469/469 [==============================] - 1s 2ms/step - loss: 2.8588e-05 - accuracy: 1.0000\n",
      "Epoch 95/100\n",
      "451/469 [===========================>..] - ETA: 0s - loss: 2.5797e-05 - accuracy: 1.0000WARNING:tensorflow:Early stopping conditioned on metric `val_loss` which is not available. Available metrics are: loss,accuracy\n",
      "469/469 [==============================] - 1s 2ms/step - loss: 2.5632e-05 - accuracy: 1.0000\n",
      "Epoch 96/100\n",
      "461/469 [============================>.] - ETA: 0s - loss: 2.2938e-05 - accuracy: 1.0000WARNING:tensorflow:Early stopping conditioned on metric `val_loss` which is not available. Available metrics are: loss,accuracy\n",
      "469/469 [==============================] - 1s 2ms/step - loss: 2.2936e-05 - accuracy: 1.0000\n",
      "Epoch 97/100\n",
      "461/469 [============================>.] - ETA: 0s - loss: 2.0594e-05 - accuracy: 1.0000WARNING:tensorflow:Early stopping conditioned on metric `val_loss` which is not available. Available metrics are: loss,accuracy\n",
      "469/469 [==============================] - 1s 2ms/step - loss: 2.0605e-05 - accuracy: 1.0000\n",
      "Epoch 98/100\n",
      "454/469 [============================>.] - ETA: 0s - loss: 1.8669e-05 - accuracy: 1.0000WARNING:tensorflow:Early stopping conditioned on metric `val_loss` which is not available. Available metrics are: loss,accuracy\n",
      "469/469 [==============================] - 1s 2ms/step - loss: 1.8648e-05 - accuracy: 1.0000\n",
      "Epoch 99/100\n",
      "456/469 [============================>.] - ETA: 0s - loss: 1.6745e-05 - accuracy: 1.0000WARNING:tensorflow:Early stopping conditioned on metric `val_loss` which is not available. Available metrics are: loss,accuracy\n",
      "469/469 [==============================] - 1s 2ms/step - loss: 1.6807e-05 - accuracy: 1.0000\n",
      "Epoch 100/100\n",
      "457/469 [============================>.] - ETA: 0s - loss: 1.5102e-05 - accuracy: 1.0000WARNING:tensorflow:Early stopping conditioned on metric `val_loss` which is not available. Available metrics are: loss,accuracy\n",
      "469/469 [==============================] - 1s 2ms/step - loss: 1.5162e-05 - accuracy: 1.0000\n"
     ]
    }
   ],
   "execution_count": 6
  },
  {
   "cell_type": "code",
   "source": [
    "# Evaluación del modelo\n",
    "test_loss, test_acc = model.evaluate(test_images, test_labels)\n",
    "print(f'Precisión del modelo: {test_acc}')\n",
    "print(f'Pérdida del modelo: {test_loss}')"
   ],
   "metadata": {
    "collapsed": false,
    "ExecuteTime": {
     "end_time": "2024-06-03T18:10:13.132193Z",
     "start_time": "2024-06-03T18:10:12.660687Z"
    }
   },
   "id": "c013157c6ea0acae",
   "outputs": [
    {
     "name": "stdout",
     "output_type": "stream",
     "text": [
      "313/313 [==============================] - 0s 957us/step - loss: 0.1220 - accuracy: 0.9808\n",
      "Precisión del modelo: 0.9807999730110168\n",
      "Pérdida del modelo: 0.12196827679872513\n"
     ]
    }
   ],
   "execution_count": 7
  },
  {
   "cell_type": "code",
   "source": [
    "# Predicción de una imagen\n",
    "predictions = model.predict(test_images)\n",
    "print(f'Predicción de la imagen: {np.argmax(predictions[0])}')\n",
    "print(f'Etiqueta de la imagen: {test_labels[0]}')"
   ],
   "metadata": {
    "collapsed": false,
    "ExecuteTime": {
     "end_time": "2024-06-03T18:10:13.713911Z",
     "start_time": "2024-06-03T18:10:13.133198Z"
    }
   },
   "id": "1ca392a2e9e133d8",
   "outputs": [
    {
     "name": "stdout",
     "output_type": "stream",
     "text": [
      "313/313 [==============================] - 0s 1ms/step\n",
      "Predicción de la imagen: 7\n",
      "Etiqueta de la imagen: 7\n"
     ]
    }
   ],
   "execution_count": 8
  },
  {
   "cell_type": "code",
   "source": [
    "# Guardar el modelo\n",
    "import pickle\n",
    "\n",
    "with open('model.pkl', 'wb') as file:\n",
    "    pickle.dump(model, file)"
   ],
   "metadata": {
    "collapsed": false,
    "ExecuteTime": {
     "end_time": "2024-06-03T18:12:22.848243Z",
     "start_time": "2024-06-03T18:12:22.811760Z"
    }
   },
   "id": "a3f9bf6b219dc853",
   "outputs": [],
   "execution_count": 10
  }
 ],
 "metadata": {
  "kernelspec": {
   "display_name": "Python 3",
   "language": "python",
   "name": "python3"
  },
  "language_info": {
   "codemirror_mode": {
    "name": "ipython",
    "version": 2
   },
   "file_extension": ".py",
   "mimetype": "text/x-python",
   "name": "python",
   "nbconvert_exporter": "python",
   "pygments_lexer": "ipython2",
   "version": "2.7.6"
  }
 },
 "nbformat": 4,
 "nbformat_minor": 5
}
