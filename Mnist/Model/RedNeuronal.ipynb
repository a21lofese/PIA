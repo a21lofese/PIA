{
 "cells": [
  {
   "cell_type": "markdown",
   "source": [
    "# Clasificador de dígitos por imágenes de 28x28"
   ],
   "metadata": {
    "collapsed": false
   },
   "id": "ac03fb49b672da5c"
  },
  {
   "cell_type": "markdown",
   "source": [
    "Realizaremos una red neuronal para identificar el número que se encuentra en una imagen de 28 x 28 píxeles. Todo este proceso será a través de una API gracias al servicio de Flask. Este servidor contendrá un formulario web en el cual se introducirá la imagen de la cual queremos obtener el número que se encuentra."
   ],
   "metadata": {
    "collapsed": false
   },
   "id": "88eb89a3a02c2739"
  },
  {
   "cell_type": "code",
   "outputs": [],
   "source": [
    "# Importar el dataframe de Mnist desde keras\n",
    "from tensorflow.keras.datasets import mnist\n",
    "\n",
    "# Cargar el dataset de Mnist\n",
    "(train_images, train_labels), (test_images, test_labels) = mnist.load_data()\n",
    "assert train_images.shape == (60000, 28, 28)\n",
    "assert test_images.shape == (10000, 28, 28)\n",
    "assert train_labels.shape == (60000,)\n",
    "assert test_labels.shape == (10000,)"
   ],
   "metadata": {
    "collapsed": false,
    "ExecuteTime": {
     "end_time": "2024-04-08T12:11:39.782443Z",
     "start_time": "2024-04-08T12:11:39.370726Z"
    }
   },
   "id": "955ee146188ccaee",
   "execution_count": 48
  },
  {
   "cell_type": "code",
   "outputs": [
    {
     "name": "stdout",
     "output_type": "stream",
     "text": [
      "Datos de entrenamiento: (60000, 28, 28)\n",
      "Datos de prueba: (10000, 28, 28)\n",
      "Etiquetas de entrenamiento: (60000,)\n",
      "Etiquetas de prueba: (10000,)\n",
      "Etiquetas de las imágenes: [0 1 2 3 4 5 6 7 8 9]\n"
     ]
    }
   ],
   "source": [
    "import numpy as np\n",
    "\n",
    "print(f\"Datos de entrenamiento: {train_images.shape}\")\n",
    "print(f\"Datos de prueba: {test_images.shape}\")\n",
    "print(f\"Etiquetas de entrenamiento: {train_labels.shape}\")\n",
    "print(f\"Etiquetas de prueba: {test_labels.shape}\")\n",
    "print(f\"Etiquetas de las imágenes: {np.unique(train_labels)}\")"
   ],
   "metadata": {
    "collapsed": false,
    "ExecuteTime": {
     "end_time": "2024-04-08T12:11:39.796601Z",
     "start_time": "2024-04-08T12:11:39.785411Z"
    }
   },
   "id": "4a29dbd22c65c05f",
   "execution_count": 49
  },
  {
   "cell_type": "code",
   "outputs": [
    {
     "data": {
      "text/plain": "<Figure size 640x480 with 2 Axes>",
      "image/png": "[encoded data removed]"
     },
     "metadata": {},
     "output_type": "display_data"
    }
   ],
   "source": [
    "# Ver una imagen de ejemplo\n",
    "from matplotlib import pyplot as plt\n",
    "\n",
    "plt.figure()\n",
    "plt.imshow(train_images[0]) # imshow: Muestra una imagen\n",
    "plt.colorbar()\n",
    "plt.grid(False)\n",
    "plt.show()"
   ],
   "metadata": {
    "collapsed": false,
    "ExecuteTime": {
     "end_time": "2024-04-08T12:11:40.153695Z",
     "start_time": "2024-04-08T12:11:39.799405Z"
    }
   },
   "id": "9e60c427b873d8aa",
   "execution_count": 50
  },
  {
   "cell_type": "code",
   "outputs": [],
   "source": [
    "# Modelado de la red neuronal\n",
    "from tensorflow import keras\n",
    "from tensorflow.keras import models\n",
    "\n",
    "model = models.Sequential([\n",
    "    keras.layers.Flatten(input_shape=(28, 28)),\n",
    "    keras.layers.Dense(128, activation='relu', kernel_initializer='he_uniform'),\n",
    "    keras.layers.Dense(10, activation='softmax')\n",
    "])"
   ],
   "metadata": {
    "collapsed": false,
    "ExecuteTime": {
     "end_time": "2024-04-08T12:11:40.220612Z",
     "start_time": "2024-04-08T12:11:40.157298Z"
    }
   },
   "id": "c679e90634fb820a",
   "execution_count": 51
  },
  {
   "cell_type": "code",
   "outputs": [
    {
     "name": "stdout",
     "output_type": "stream",
     "text": [
      "Epoch 1/100\n",
      "459/469 [============================>.] - ETA: 0s - loss: 4.5501 - accuracy: 0.8720WARNING:tensorflow:Early stopping conditioned on metric `val_loss` which is not available. Available metrics are: loss,accuracy\n",
      "469/469 [==============================] - 3s 5ms/step - loss: 4.4815 - accuracy: 0.8725\n",
      "Epoch 2/100\n",
      "469/469 [==============================] - ETA: 0s - loss: 0.7166 - accuracy: 0.9196WARNING:tensorflow:Early stopping conditioned on metric `val_loss` which is not available. Available metrics are: loss,accuracy\n",
      "469/469 [==============================] - 2s 4ms/step - loss: 0.7166 - accuracy: 0.9196\n",
      "Epoch 3/100\n",
      "469/469 [==============================] - ETA: 0s - loss: 0.3552 - accuracy: 0.9359WARNING:tensorflow:Early stopping conditioned on metric `val_loss` which is not available. Available metrics are: loss,accuracy\n",
      "469/469 [==============================] - 2s 4ms/step - loss: 0.3552 - accuracy: 0.9359\n",
      "Epoch 4/100\n",
      "466/469 [============================>.] - ETA: 0s - loss: 0.2367 - accuracy: 0.9486WARNING:tensorflow:Early stopping conditioned on metric `val_loss` which is not available. Available metrics are: loss,accuracy\n",
      "469/469 [==============================] - 2s 4ms/step - loss: 0.2372 - accuracy: 0.9485\n",
      "Epoch 5/100\n",
      "467/469 [============================>.] - ETA: 0s - loss: 0.1897 - accuracy: 0.9553WARNING:tensorflow:Early stopping conditioned on metric `val_loss` which is not available. Available metrics are: loss,accuracy\n",
      "469/469 [==============================] - 2s 4ms/step - loss: 0.1901 - accuracy: 0.9552\n",
      "Epoch 6/100\n",
      "469/469 [==============================] - ETA: 0s - loss: 0.1566 - accuracy: 0.9609WARNING:tensorflow:Early stopping conditioned on metric `val_loss` which is not available. Available metrics are: loss,accuracy\n",
      "469/469 [==============================] - 2s 4ms/step - loss: 0.1566 - accuracy: 0.9609\n",
      "Epoch 7/100\n",
      "468/469 [============================>.] - ETA: 0s - loss: 0.1369 - accuracy: 0.9660WARNING:tensorflow:Early stopping conditioned on metric `val_loss` which is not available. Available metrics are: loss,accuracy\n",
      "469/469 [==============================] - 2s 4ms/step - loss: 0.1369 - accuracy: 0.9660\n",
      "Epoch 8/100\n",
      "460/469 [============================>.] - ETA: 0s - loss: 0.1280 - accuracy: 0.9669WARNING:tensorflow:Early stopping conditioned on metric `val_loss` which is not available. Available metrics are: loss,accuracy\n",
      "469/469 [==============================] - 2s 4ms/step - loss: 0.1280 - accuracy: 0.9668\n",
      "Epoch 9/100\n",
      "469/469 [==============================] - ETA: 0s - loss: 0.1287 - accuracy: 0.9677WARNING:tensorflow:Early stopping conditioned on metric `val_loss` which is not available. Available metrics are: loss,accuracy\n",
      "469/469 [==============================] - 2s 4ms/step - loss: 0.1287 - accuracy: 0.9677\n",
      "Epoch 10/100\n",
      "461/469 [============================>.] - ETA: 0s - loss: 0.1152 - accuracy: 0.9700WARNING:tensorflow:Early stopping conditioned on metric `val_loss` which is not available. Available metrics are: loss,accuracy\n",
      "469/469 [==============================] - 2s 4ms/step - loss: 0.1160 - accuracy: 0.9698\n",
      "Epoch 11/100\n",
      "460/469 [============================>.] - ETA: 0s - loss: 0.1221 - accuracy: 0.9703WARNING:tensorflow:Early stopping conditioned on metric `val_loss` which is not available. Available metrics are: loss,accuracy\n",
      "469/469 [==============================] - 2s 4ms/step - loss: 0.1228 - accuracy: 0.9701\n",
      "Epoch 12/100\n",
      "458/469 [============================>.] - ETA: 0s - loss: 0.1214 - accuracy: 0.9689WARNING:tensorflow:Early stopping conditioned on metric `val_loss` which is not available. Available metrics are: loss,accuracy\n",
      "469/469 [==============================] - 2s 4ms/step - loss: 0.1200 - accuracy: 0.9690\n",
      "Epoch 13/100\n",
      "463/469 [============================>.] - ETA: 0s - loss: 0.1155 - accuracy: 0.9722WARNING:tensorflow:Early stopping conditioned on metric `val_loss` which is not available. Available metrics are: loss,accuracy\n",
      "469/469 [==============================] - 2s 4ms/step - loss: 0.1162 - accuracy: 0.9720\n",
      "Epoch 14/100\n",
      "465/469 [============================>.] - ETA: 0s - loss: 0.1069 - accuracy: 0.9722WARNING:tensorflow:Early stopping conditioned on metric `val_loss` which is not available. Available metrics are: loss,accuracy\n",
      "469/469 [==============================] - 2s 4ms/step - loss: 0.1068 - accuracy: 0.9723\n",
      "Epoch 15/100\n",
      "463/469 [============================>.] - ETA: 0s - loss: 0.0910 - accuracy: 0.9752WARNING:tensorflow:Early stopping conditioned on metric `val_loss` which is not available. Available metrics are: loss,accuracy\n",
      "469/469 [==============================] - 2s 4ms/step - loss: 0.0918 - accuracy: 0.9752\n",
      "Epoch 16/100\n",
      "468/469 [============================>.] - ETA: 0s - loss: 0.0978 - accuracy: 0.9742WARNING:tensorflow:Early stopping conditioned on metric `val_loss` which is not available. Available metrics are: loss,accuracy\n",
      "469/469 [==============================] - 2s 4ms/step - loss: 0.0979 - accuracy: 0.9742\n",
      "Epoch 17/100\n",
      "465/469 [============================>.] - ETA: 0s - loss: 0.0947 - accuracy: 0.9767WARNING:tensorflow:Early stopping conditioned on metric `val_loss` which is not available. Available metrics are: loss,accuracy\n",
      "469/469 [==============================] - 2s 4ms/step - loss: 0.0948 - accuracy: 0.9766\n",
      "Epoch 18/100\n",
      "466/469 [============================>.] - ETA: 0s - loss: 0.0976 - accuracy: 0.9755WARNING:tensorflow:Early stopping conditioned on metric `val_loss` which is not available. Available metrics are: loss,accuracy\n",
      "469/469 [==============================] - 2s 4ms/step - loss: 0.0975 - accuracy: 0.9755\n",
      "Epoch 19/100\n",
      "468/469 [============================>.] - ETA: 0s - loss: 0.0900 - accuracy: 0.9776WARNING:tensorflow:Early stopping conditioned on metric `val_loss` which is not available. Available metrics are: loss,accuracy\n",
      "469/469 [==============================] - 2s 4ms/step - loss: 0.0900 - accuracy: 0.9776\n",
      "Epoch 20/100\n",
      "458/469 [============================>.] - ETA: 0s - loss: 0.0873 - accuracy: 0.9783WARNING:tensorflow:Early stopping conditioned on metric `val_loss` which is not available. Available metrics are: loss,accuracy\n",
      "469/469 [==============================] - 2s 4ms/step - loss: 0.0875 - accuracy: 0.9783\n",
      "Epoch 21/100\n",
      "466/469 [============================>.] - ETA: 0s - loss: 0.0856 - accuracy: 0.9787WARNING:tensorflow:Early stopping conditioned on metric `val_loss` which is not available. Available metrics are: loss,accuracy\n",
      "469/469 [==============================] - 2s 4ms/step - loss: 0.0854 - accuracy: 0.9787\n",
      "Epoch 22/100\n",
      "467/469 [============================>.] - ETA: 0s - loss: 0.0866 - accuracy: 0.9797WARNING:tensorflow:Early stopping conditioned on metric `val_loss` which is not available. Available metrics are: loss,accuracy\n",
      "469/469 [==============================] - 2s 4ms/step - loss: 0.0865 - accuracy: 0.9797\n",
      "Epoch 23/100\n",
      "460/469 [============================>.] - ETA: 0s - loss: 0.0780 - accuracy: 0.9812WARNING:tensorflow:Early stopping conditioned on metric `val_loss` which is not available. Available metrics are: loss,accuracy\n",
      "469/469 [==============================] - 2s 4ms/step - loss: 0.0784 - accuracy: 0.9811\n",
      "Epoch 24/100\n",
      "458/469 [============================>.] - ETA: 0s - loss: 0.0833 - accuracy: 0.9804WARNING:tensorflow:Early stopping conditioned on metric `val_loss` which is not available. Available metrics are: loss,accuracy\n",
      "469/469 [==============================] - 2s 4ms/step - loss: 0.0836 - accuracy: 0.9805\n",
      "Epoch 25/100\n",
      "462/469 [============================>.] - ETA: 0s - loss: 0.0813 - accuracy: 0.9816WARNING:tensorflow:Early stopping conditioned on metric `val_loss` which is not available. Available metrics are: loss,accuracy\n",
      "469/469 [==============================] - 2s 4ms/step - loss: 0.0811 - accuracy: 0.9816\n",
      "Epoch 26/100\n",
      "469/469 [==============================] - ETA: 0s - loss: 0.0741 - accuracy: 0.9829WARNING:tensorflow:Early stopping conditioned on metric `val_loss` which is not available. Available metrics are: loss,accuracy\n",
      "469/469 [==============================] - 2s 4ms/step - loss: 0.0741 - accuracy: 0.9829\n",
      "Epoch 27/100\n",
      "469/469 [==============================] - ETA: 0s - loss: 0.0706 - accuracy: 0.9837WARNING:tensorflow:Early stopping conditioned on metric `val_loss` which is not available. Available metrics are: loss,accuracy\n",
      "469/469 [==============================] - 2s 4ms/step - loss: 0.0706 - accuracy: 0.9837\n",
      "Epoch 28/100\n",
      "465/469 [============================>.] - ETA: 0s - loss: 0.0768 - accuracy: 0.9830WARNING:tensorflow:Early stopping conditioned on metric `val_loss` which is not available. Available metrics are: loss,accuracy\n",
      "469/469 [==============================] - 2s 4ms/step - loss: 0.0772 - accuracy: 0.9830\n",
      "Epoch 29/100\n",
      "458/469 [============================>.] - ETA: 0s - loss: 0.0679 - accuracy: 0.9842WARNING:tensorflow:Early stopping conditioned on metric `val_loss` which is not available. Available metrics are: loss,accuracy\n",
      "469/469 [==============================] - 2s 4ms/step - loss: 0.0687 - accuracy: 0.9841\n",
      "Epoch 30/100\n",
      "467/469 [============================>.] - ETA: 0s - loss: 0.0721 - accuracy: 0.9833WARNING:tensorflow:Early stopping conditioned on metric `val_loss` which is not available. Available metrics are: loss,accuracy\n",
      "469/469 [==============================] - 2s 4ms/step - loss: 0.0723 - accuracy: 0.9833\n",
      "Epoch 31/100\n",
      "459/469 [============================>.] - ETA: 0s - loss: 0.0773 - accuracy: 0.9839WARNING:tensorflow:Early stopping conditioned on metric `val_loss` which is not available. Available metrics are: loss,accuracy\n",
      "469/469 [==============================] - 2s 4ms/step - loss: 0.0775 - accuracy: 0.9838\n",
      "Epoch 32/100\n",
      "458/469 [============================>.] - ETA: 0s - loss: 0.0662 - accuracy: 0.9845WARNING:tensorflow:Early stopping conditioned on metric `val_loss` which is not available. Available metrics are: loss,accuracy\n",
      "469/469 [==============================] - 2s 4ms/step - loss: 0.0664 - accuracy: 0.9844\n",
      "Epoch 33/100\n",
      "469/469 [==============================] - ETA: 0s - loss: 0.0538 - accuracy: 0.9864WARNING:tensorflow:Early stopping conditioned on metric `val_loss` which is not available. Available metrics are: loss,accuracy\n",
      "469/469 [==============================] - 2s 4ms/step - loss: 0.0538 - accuracy: 0.9864\n",
      "Epoch 34/100\n",
      "469/469 [==============================] - ETA: 0s - loss: 0.0812 - accuracy: 0.9839WARNING:tensorflow:Early stopping conditioned on metric `val_loss` which is not available. Available metrics are: loss,accuracy\n",
      "469/469 [==============================] - 2s 4ms/step - loss: 0.0812 - accuracy: 0.9839\n",
      "Epoch 35/100\n",
      "467/469 [============================>.] - ETA: 0s - loss: 0.0671 - accuracy: 0.9855WARNING:tensorflow:Early stopping conditioned on metric `val_loss` which is not available. Available metrics are: loss,accuracy\n",
      "469/469 [==============================] - 2s 4ms/step - loss: 0.0672 - accuracy: 0.9854\n",
      "Epoch 36/100\n",
      "458/469 [============================>.] - ETA: 0s - loss: 0.0580 - accuracy: 0.9877WARNING:tensorflow:Early stopping conditioned on metric `val_loss` which is not available. Available metrics are: loss,accuracy\n",
      "469/469 [==============================] - 2s 4ms/step - loss: 0.0588 - accuracy: 0.9877\n",
      "Epoch 37/100\n",
      "466/469 [============================>.] - ETA: 0s - loss: 0.0676 - accuracy: 0.9861WARNING:tensorflow:Early stopping conditioned on metric `val_loss` which is not available. Available metrics are: loss,accuracy\n",
      "469/469 [==============================] - 2s 4ms/step - loss: 0.0685 - accuracy: 0.9861\n",
      "Epoch 38/100\n",
      "460/469 [============================>.] - ETA: 0s - loss: 0.0650 - accuracy: 0.9866WARNING:tensorflow:Early stopping conditioned on metric `val_loss` which is not available. Available metrics are: loss,accuracy\n",
      "469/469 [==============================] - 2s 4ms/step - loss: 0.0657 - accuracy: 0.9865\n",
      "Epoch 39/100\n",
      "459/469 [============================>.] - ETA: 0s - loss: 0.0538 - accuracy: 0.9882WARNING:tensorflow:Early stopping conditioned on metric `val_loss` which is not available. Available metrics are: loss,accuracy\n",
      "469/469 [==============================] - 2s 4ms/step - loss: 0.0537 - accuracy: 0.9882\n",
      "Epoch 40/100\n",
      "461/469 [============================>.] - ETA: 0s - loss: 0.0498 - accuracy: 0.9882WARNING:tensorflow:Early stopping conditioned on metric `val_loss` which is not available. Available metrics are: loss,accuracy\n",
      "469/469 [==============================] - 2s 4ms/step - loss: 0.0498 - accuracy: 0.9881\n",
      "Epoch 41/100\n",
      "461/469 [============================>.] - ETA: 0s - loss: 0.0645 - accuracy: 0.9870WARNING:tensorflow:Early stopping conditioned on metric `val_loss` which is not available. Available metrics are: loss,accuracy\n",
      "469/469 [==============================] - 2s 4ms/step - loss: 0.0641 - accuracy: 0.9870\n",
      "Epoch 42/100\n",
      "469/469 [==============================] - ETA: 0s - loss: 0.0669 - accuracy: 0.9865WARNING:tensorflow:Early stopping conditioned on metric `val_loss` which is not available. Available metrics are: loss,accuracy\n",
      "469/469 [==============================] - 2s 4ms/step - loss: 0.0669 - accuracy: 0.9865\n",
      "Epoch 43/100\n",
      "459/469 [============================>.] - ETA: 0s - loss: 0.0599 - accuracy: 0.9870WARNING:tensorflow:Early stopping conditioned on metric `val_loss` which is not available. Available metrics are: loss,accuracy\n",
      "469/469 [==============================] - 2s 4ms/step - loss: 0.0604 - accuracy: 0.9867\n",
      "Epoch 44/100\n",
      "469/469 [==============================] - ETA: 0s - loss: 0.0506 - accuracy: 0.9890WARNING:tensorflow:Early stopping conditioned on metric `val_loss` which is not available. Available metrics are: loss,accuracy\n",
      "469/469 [==============================] - 2s 4ms/step - loss: 0.0506 - accuracy: 0.9890\n",
      "Epoch 45/100\n",
      "463/469 [============================>.] - ETA: 0s - loss: 0.0538 - accuracy: 0.9888WARNING:tensorflow:Early stopping conditioned on metric `val_loss` which is not available. Available metrics are: loss,accuracy\n",
      "469/469 [==============================] - 2s 4ms/step - loss: 0.0538 - accuracy: 0.9888\n",
      "Epoch 46/100\n",
      "460/469 [============================>.] - ETA: 0s - loss: 0.0656 - accuracy: 0.9881WARNING:tensorflow:Early stopping conditioned on metric `val_loss` which is not available. Available metrics are: loss,accuracy\n",
      "469/469 [==============================] - 2s 4ms/step - loss: 0.0650 - accuracy: 0.9882\n",
      "Epoch 47/100\n",
      "459/469 [============================>.] - ETA: 0s - loss: 0.0552 - accuracy: 0.9890WARNING:tensorflow:Early stopping conditioned on metric `val_loss` which is not available. Available metrics are: loss,accuracy\n",
      "469/469 [==============================] - 2s 4ms/step - loss: 0.0550 - accuracy: 0.9890\n",
      "Epoch 48/100\n",
      "457/469 [============================>.] - ETA: 0s - loss: 0.0402 - accuracy: 0.9913WARNING:tensorflow:Early stopping conditioned on metric `val_loss` which is not available. Available metrics are: loss,accuracy\n",
      "469/469 [==============================] - 2s 4ms/step - loss: 0.0405 - accuracy: 0.9912\n",
      "Epoch 49/100\n",
      "458/469 [============================>.] - ETA: 0s - loss: 0.0525 - accuracy: 0.9894WARNING:tensorflow:Early stopping conditioned on metric `val_loss` which is not available. Available metrics are: loss,accuracy\n",
      "469/469 [==============================] - 2s 4ms/step - loss: 0.0526 - accuracy: 0.9894\n",
      "Epoch 50/100\n",
      "461/469 [============================>.] - ETA: 0s - loss: 0.0576 - accuracy: 0.9898WARNING:tensorflow:Early stopping conditioned on metric `val_loss` which is not available. Available metrics are: loss,accuracy\n",
      "469/469 [==============================] - 2s 4ms/step - loss: 0.0577 - accuracy: 0.9898\n",
      "Epoch 51/100\n",
      "462/469 [============================>.] - ETA: 0s - loss: 0.0553 - accuracy: 0.9890WARNING:tensorflow:Early stopping conditioned on metric `val_loss` which is not available. Available metrics are: loss,accuracy\n",
      "469/469 [==============================] - 2s 4ms/step - loss: 0.0560 - accuracy: 0.9890\n",
      "Epoch 52/100\n",
      "468/469 [============================>.] - ETA: 0s - loss: 0.0582 - accuracy: 0.9894WARNING:tensorflow:Early stopping conditioned on metric `val_loss` which is not available. Available metrics are: loss,accuracy\n",
      "469/469 [==============================] - 2s 4ms/step - loss: 0.0581 - accuracy: 0.9895\n",
      "Epoch 53/100\n",
      "458/469 [============================>.] - ETA: 0s - loss: 0.0608 - accuracy: 0.9892WARNING:tensorflow:Early stopping conditioned on metric `val_loss` which is not available. Available metrics are: loss,accuracy\n",
      "469/469 [==============================] - 2s 4ms/step - loss: 0.0605 - accuracy: 0.9892\n",
      "Epoch 54/100\n",
      "459/469 [============================>.] - ETA: 0s - loss: 0.0477 - accuracy: 0.9905WARNING:tensorflow:Early stopping conditioned on metric `val_loss` which is not available. Available metrics are: loss,accuracy\n",
      "469/469 [==============================] - 2s 4ms/step - loss: 0.0475 - accuracy: 0.9905\n",
      "Epoch 55/100\n",
      "459/469 [============================>.] - ETA: 0s - loss: 0.0463 - accuracy: 0.9909WARNING:tensorflow:Early stopping conditioned on metric `val_loss` which is not available. Available metrics are: loss,accuracy\n",
      "469/469 [==============================] - 2s 4ms/step - loss: 0.0463 - accuracy: 0.9909\n",
      "Epoch 56/100\n",
      "468/469 [============================>.] - ETA: 0s - loss: 0.0613 - accuracy: 0.9902WARNING:tensorflow:Early stopping conditioned on metric `val_loss` which is not available. Available metrics are: loss,accuracy\n",
      "469/469 [==============================] - 2s 4ms/step - loss: 0.0612 - accuracy: 0.9901\n",
      "Epoch 57/100\n",
      "467/469 [============================>.] - ETA: 0s - loss: 0.0633 - accuracy: 0.9895WARNING:tensorflow:Early stopping conditioned on metric `val_loss` which is not available. Available metrics are: loss,accuracy\n",
      "469/469 [==============================] - 2s 4ms/step - loss: 0.0637 - accuracy: 0.9895\n",
      "Epoch 58/100\n",
      "462/469 [============================>.] - ETA: 0s - loss: 0.0530 - accuracy: 0.9909WARNING:tensorflow:Early stopping conditioned on metric `val_loss` which is not available. Available metrics are: loss,accuracy\n",
      "469/469 [==============================] - 2s 4ms/step - loss: 0.0529 - accuracy: 0.9909\n",
      "Epoch 59/100\n",
      "457/469 [============================>.] - ETA: 0s - loss: 0.0437 - accuracy: 0.9917WARNING:tensorflow:Early stopping conditioned on metric `val_loss` which is not available. Available metrics are: loss,accuracy\n",
      "469/469 [==============================] - 2s 4ms/step - loss: 0.0433 - accuracy: 0.9918\n",
      "Epoch 60/100\n",
      "465/469 [============================>.] - ETA: 0s - loss: 0.0496 - accuracy: 0.9911WARNING:tensorflow:Early stopping conditioned on metric `val_loss` which is not available. Available metrics are: loss,accuracy\n",
      "469/469 [==============================] - 2s 4ms/step - loss: 0.0495 - accuracy: 0.9911\n",
      "Epoch 61/100\n",
      "465/469 [============================>.] - ETA: 0s - loss: 0.0552 - accuracy: 0.9904WARNING:tensorflow:Early stopping conditioned on metric `val_loss` which is not available. Available metrics are: loss,accuracy\n",
      "469/469 [==============================] - 2s 4ms/step - loss: 0.0553 - accuracy: 0.9904\n",
      "Epoch 62/100\n",
      "461/469 [============================>.] - ETA: 0s - loss: 0.0441 - accuracy: 0.9920WARNING:tensorflow:Early stopping conditioned on metric `val_loss` which is not available. Available metrics are: loss,accuracy\n",
      "469/469 [==============================] - 2s 4ms/step - loss: 0.0441 - accuracy: 0.9919\n",
      "Epoch 63/100\n",
      "458/469 [============================>.] - ETA: 0s - loss: 0.0427 - accuracy: 0.9924WARNING:tensorflow:Early stopping conditioned on metric `val_loss` which is not available. Available metrics are: loss,accuracy\n",
      "469/469 [==============================] - 2s 4ms/step - loss: 0.0424 - accuracy: 0.9924\n",
      "Epoch 64/100\n",
      "459/469 [============================>.] - ETA: 0s - loss: 0.0436 - accuracy: 0.9923WARNING:tensorflow:Early stopping conditioned on metric `val_loss` which is not available. Available metrics are: loss,accuracy\n",
      "469/469 [==============================] - 2s 4ms/step - loss: 0.0433 - accuracy: 0.9923\n",
      "Epoch 65/100\n",
      "457/469 [============================>.] - ETA: 0s - loss: 0.0538 - accuracy: 0.9910WARNING:tensorflow:Early stopping conditioned on metric `val_loss` which is not available. Available metrics are: loss,accuracy\n",
      "469/469 [==============================] - 2s 4ms/step - loss: 0.0539 - accuracy: 0.9910\n",
      "Epoch 66/100\n",
      "458/469 [============================>.] - ETA: 0s - loss: 0.0571 - accuracy: 0.9909WARNING:tensorflow:Early stopping conditioned on metric `val_loss` which is not available. Available metrics are: loss,accuracy\n",
      "469/469 [==============================] - 2s 4ms/step - loss: 0.0570 - accuracy: 0.9909\n",
      "Epoch 67/100\n",
      "461/469 [============================>.] - ETA: 0s - loss: 0.0582 - accuracy: 0.9905WARNING:tensorflow:Early stopping conditioned on metric `val_loss` which is not available. Available metrics are: loss,accuracy\n",
      "469/469 [==============================] - 2s 4ms/step - loss: 0.0581 - accuracy: 0.9905\n",
      "Epoch 68/100\n",
      "468/469 [============================>.] - ETA: 0s - loss: 0.0462 - accuracy: 0.9917WARNING:tensorflow:Early stopping conditioned on metric `val_loss` which is not available. Available metrics are: loss,accuracy\n",
      "469/469 [==============================] - 2s 4ms/step - loss: 0.0462 - accuracy: 0.9918\n",
      "Epoch 69/100\n",
      "468/469 [============================>.] - ETA: 0s - loss: 0.0473 - accuracy: 0.9924WARNING:tensorflow:Early stopping conditioned on metric `val_loss` which is not available. Available metrics are: loss,accuracy\n",
      "469/469 [==============================] - 2s 4ms/step - loss: 0.0473 - accuracy: 0.9924\n",
      "Epoch 70/100\n",
      "462/469 [============================>.] - ETA: 0s - loss: 0.0406 - accuracy: 0.9927WARNING:tensorflow:Early stopping conditioned on metric `val_loss` which is not available. Available metrics are: loss,accuracy\n",
      "469/469 [==============================] - 2s 4ms/step - loss: 0.0408 - accuracy: 0.9927\n",
      "Epoch 71/100\n",
      "457/469 [============================>.] - ETA: 0s - loss: 0.0627 - accuracy: 0.9910WARNING:tensorflow:Early stopping conditioned on metric `val_loss` which is not available. Available metrics are: loss,accuracy\n",
      "469/469 [==============================] - 2s 4ms/step - loss: 0.0627 - accuracy: 0.9910\n",
      "Epoch 72/100\n",
      "463/469 [============================>.] - ETA: 0s - loss: 0.0473 - accuracy: 0.9917WARNING:tensorflow:Early stopping conditioned on metric `val_loss` which is not available. Available metrics are: loss,accuracy\n",
      "469/469 [==============================] - 2s 4ms/step - loss: 0.0480 - accuracy: 0.9917\n",
      "Epoch 73/100\n",
      "462/469 [============================>.] - ETA: 0s - loss: 0.0511 - accuracy: 0.9921WARNING:tensorflow:Early stopping conditioned on metric `val_loss` which is not available. Available metrics are: loss,accuracy\n",
      "469/469 [==============================] - 2s 4ms/step - loss: 0.0519 - accuracy: 0.9920\n",
      "Epoch 74/100\n",
      "469/469 [==============================] - ETA: 0s - loss: 0.0525 - accuracy: 0.9917WARNING:tensorflow:Early stopping conditioned on metric `val_loss` which is not available. Available metrics are: loss,accuracy\n",
      "469/469 [==============================] - 2s 4ms/step - loss: 0.0525 - accuracy: 0.9917\n",
      "Epoch 75/100\n",
      "469/469 [==============================] - ETA: 0s - loss: 0.0471 - accuracy: 0.9930WARNING:tensorflow:Early stopping conditioned on metric `val_loss` which is not available. Available metrics are: loss,accuracy\n",
      "469/469 [==============================] - 2s 4ms/step - loss: 0.0471 - accuracy: 0.9930\n",
      "Epoch 76/100\n",
      "466/469 [============================>.] - ETA: 0s - loss: 0.0435 - accuracy: 0.9932WARNING:tensorflow:Early stopping conditioned on metric `val_loss` which is not available. Available metrics are: loss,accuracy\n",
      "469/469 [==============================] - 2s 4ms/step - loss: 0.0436 - accuracy: 0.9932\n",
      "Epoch 77/100\n",
      "467/469 [============================>.] - ETA: 0s - loss: 0.0418 - accuracy: 0.9928WARNING:tensorflow:Early stopping conditioned on metric `val_loss` which is not available. Available metrics are: loss,accuracy\n",
      "469/469 [==============================] - 2s 4ms/step - loss: 0.0417 - accuracy: 0.9928\n",
      "Epoch 78/100\n",
      "459/469 [============================>.] - ETA: 0s - loss: 0.0535 - accuracy: 0.9923WARNING:tensorflow:Early stopping conditioned on metric `val_loss` which is not available. Available metrics are: loss,accuracy\n",
      "469/469 [==============================] - 2s 4ms/step - loss: 0.0535 - accuracy: 0.9923\n",
      "Epoch 79/100\n",
      "462/469 [============================>.] - ETA: 0s - loss: 0.0475 - accuracy: 0.9927WARNING:tensorflow:Early stopping conditioned on metric `val_loss` which is not available. Available metrics are: loss,accuracy\n",
      "469/469 [==============================] - 2s 4ms/step - loss: 0.0471 - accuracy: 0.9927\n",
      "Epoch 80/100\n",
      "464/469 [============================>.] - ETA: 0s - loss: 0.0395 - accuracy: 0.9933WARNING:tensorflow:Early stopping conditioned on metric `val_loss` which is not available. Available metrics are: loss,accuracy\n",
      "469/469 [==============================] - 2s 4ms/step - loss: 0.0396 - accuracy: 0.9934\n",
      "Epoch 81/100\n",
      "458/469 [============================>.] - ETA: 0s - loss: 0.0561 - accuracy: 0.9927WARNING:tensorflow:Early stopping conditioned on metric `val_loss` which is not available. Available metrics are: loss,accuracy\n",
      "469/469 [==============================] - 2s 4ms/step - loss: 0.0558 - accuracy: 0.9927\n",
      "Epoch 82/100\n",
      "469/469 [==============================] - ETA: 0s - loss: 0.0404 - accuracy: 0.9934WARNING:tensorflow:Early stopping conditioned on metric `val_loss` which is not available. Available metrics are: loss,accuracy\n",
      "469/469 [==============================] - 2s 4ms/step - loss: 0.0404 - accuracy: 0.9934\n",
      "Epoch 83/100\n",
      "461/469 [============================>.] - ETA: 0s - loss: 0.0415 - accuracy: 0.9932WARNING:tensorflow:Early stopping conditioned on metric `val_loss` which is not available. Available metrics are: loss,accuracy\n",
      "469/469 [==============================] - 2s 4ms/step - loss: 0.0415 - accuracy: 0.9933\n",
      "Epoch 84/100\n",
      "469/469 [==============================] - ETA: 0s - loss: 0.0410 - accuracy: 0.9938WARNING:tensorflow:Early stopping conditioned on metric `val_loss` which is not available. Available metrics are: loss,accuracy\n",
      "469/469 [==============================] - 2s 4ms/step - loss: 0.0410 - accuracy: 0.9938\n",
      "Epoch 85/100\n",
      "468/469 [============================>.] - ETA: 0s - loss: 0.0522 - accuracy: 0.9930WARNING:tensorflow:Early stopping conditioned on metric `val_loss` which is not available. Available metrics are: loss,accuracy\n",
      "469/469 [==============================] - 2s 4ms/step - loss: 0.0522 - accuracy: 0.9930\n",
      "Epoch 86/100\n",
      "464/469 [============================>.] - ETA: 0s - loss: 0.0494 - accuracy: 0.9929WARNING:tensorflow:Early stopping conditioned on metric `val_loss` which is not available. Available metrics are: loss,accuracy\n",
      "469/469 [==============================] - 2s 4ms/step - loss: 0.0499 - accuracy: 0.9928\n",
      "Epoch 87/100\n",
      "459/469 [============================>.] - ETA: 0s - loss: 0.0389 - accuracy: 0.9943WARNING:tensorflow:Early stopping conditioned on metric `val_loss` which is not available. Available metrics are: loss,accuracy\n",
      "469/469 [==============================] - 2s 4ms/step - loss: 0.0390 - accuracy: 0.9943\n",
      "Epoch 88/100\n",
      "460/469 [============================>.] - ETA: 0s - loss: 0.0511 - accuracy: 0.9933WARNING:tensorflow:Early stopping conditioned on metric `val_loss` which is not available. Available metrics are: loss,accuracy\n",
      "469/469 [==============================] - 2s 4ms/step - loss: 0.0515 - accuracy: 0.9932\n",
      "Epoch 89/100\n",
      "460/469 [============================>.] - ETA: 0s - loss: 0.0440 - accuracy: 0.9934WARNING:tensorflow:Early stopping conditioned on metric `val_loss` which is not available. Available metrics are: loss,accuracy\n",
      "469/469 [==============================] - 2s 4ms/step - loss: 0.0437 - accuracy: 0.9934\n",
      "Epoch 90/100\n",
      "461/469 [============================>.] - ETA: 0s - loss: 0.0499 - accuracy: 0.9929WARNING:tensorflow:Early stopping conditioned on metric `val_loss` which is not available. Available metrics are: loss,accuracy\n",
      "469/469 [==============================] - 2s 4ms/step - loss: 0.0504 - accuracy: 0.9928\n",
      "Epoch 91/100\n",
      "466/469 [============================>.] - ETA: 0s - loss: 0.0513 - accuracy: 0.9927WARNING:tensorflow:Early stopping conditioned on metric `val_loss` which is not available. Available metrics are: loss,accuracy\n",
      "469/469 [==============================] - 2s 4ms/step - loss: 0.0513 - accuracy: 0.9926\n",
      "Epoch 92/100\n",
      "469/469 [==============================] - ETA: 0s - loss: 0.0497 - accuracy: 0.9931WARNING:tensorflow:Early stopping conditioned on metric `val_loss` which is not available. Available metrics are: loss,accuracy\n",
      "469/469 [==============================] - 2s 4ms/step - loss: 0.0497 - accuracy: 0.9931\n",
      "Epoch 93/100\n",
      "459/469 [============================>.] - ETA: 0s - loss: 0.0393 - accuracy: 0.9943WARNING:tensorflow:Early stopping conditioned on metric `val_loss` which is not available. Available metrics are: loss,accuracy\n",
      "469/469 [==============================] - 2s 4ms/step - loss: 0.0392 - accuracy: 0.9942\n",
      "Epoch 94/100\n",
      "468/469 [============================>.] - ETA: 0s - loss: 0.0461 - accuracy: 0.9937WARNING:tensorflow:Early stopping conditioned on metric `val_loss` which is not available. Available metrics are: loss,accuracy\n",
      "469/469 [==============================] - 2s 4ms/step - loss: 0.0461 - accuracy: 0.9937\n",
      "Epoch 95/100\n",
      "460/469 [============================>.] - ETA: 0s - loss: 0.0475 - accuracy: 0.9938WARNING:tensorflow:Early stopping conditioned on metric `val_loss` which is not available. Available metrics are: loss,accuracy\n",
      "469/469 [==============================] - 2s 4ms/step - loss: 0.0481 - accuracy: 0.9937\n",
      "Epoch 96/100\n",
      "460/469 [============================>.] - ETA: 0s - loss: 0.0461 - accuracy: 0.9937WARNING:tensorflow:Early stopping conditioned on metric `val_loss` which is not available. Available metrics are: loss,accuracy\n",
      "469/469 [==============================] - 2s 4ms/step - loss: 0.0455 - accuracy: 0.9937\n",
      "Epoch 97/100\n",
      "459/469 [============================>.] - ETA: 0s - loss: 0.0506 - accuracy: 0.9932WARNING:tensorflow:Early stopping conditioned on metric `val_loss` which is not available. Available metrics are: loss,accuracy\n",
      "469/469 [==============================] - 2s 4ms/step - loss: 0.0512 - accuracy: 0.9932\n",
      "Epoch 98/100\n",
      "464/469 [============================>.] - ETA: 0s - loss: 0.0467 - accuracy: 0.9939WARNING:tensorflow:Early stopping conditioned on metric `val_loss` which is not available. Available metrics are: loss,accuracy\n",
      "469/469 [==============================] - 2s 4ms/step - loss: 0.0465 - accuracy: 0.9940\n",
      "Epoch 99/100\n",
      "461/469 [============================>.] - ETA: 0s - loss: 0.0404 - accuracy: 0.9943WARNING:tensorflow:Early stopping conditioned on metric `val_loss` which is not available. Available metrics are: loss,accuracy\n",
      "469/469 [==============================] - 2s 4ms/step - loss: 0.0401 - accuracy: 0.9944\n",
      "Epoch 100/100\n",
      "461/469 [============================>.] - ETA: 0s - loss: 0.0371 - accuracy: 0.9936WARNING:tensorflow:Early stopping conditioned on metric `val_loss` which is not available. Available metrics are: loss,accuracy\n",
      "469/469 [==============================] - 2s 4ms/step - loss: 0.0373 - accuracy: 0.9937\n"
     ]
    }
   ],
   "source": [
    "# Compilación del modelo\n",
    "model.compile(\n",
    "    optimizer='adam', # Adam es un optimizador que se adapta a los datos\n",
    "    loss='sparse_categorical_crossentropy', # Función de pérdida para clasificación\n",
    "    metrics=['accuracy'] # Métrica para evaluar el modelo\n",
    ")\n",
    "\n",
    "# Early stopping\n",
    "early_stopping = keras.callbacks.EarlyStopping(\n",
    "    monitor='val_loss', # Métrica a monitorear\n",
    "    patience=10, # Número de épocas sin mejora\n",
    "    min_delta=0.001, # Diferencia mínima entre épocas\n",
    "    restore_best_weights=True # Restaurar los mejores pesos\n",
    ")\n",
    "\n",
    "# Entrenamiento del modelo\n",
    "history = model.fit(\n",
    "    train_images, train_labels, # Datos de entrenamiento y etiquetas\n",
    "    epochs=100, # Número de épocas para entrenar\n",
    "    batch_size=128, # Tamaño del lote\n",
    "    callbacks=[early_stopping], # Callbacks para el entrenamiento\n",
    "    verbose=1 # Mostrar información del entrenamiento\n",
    ")"
   ],
   "metadata": {
    "collapsed": false,
    "ExecuteTime": {
     "end_time": "2024-04-08T12:15:00.506851Z",
     "start_time": "2024-04-08T12:11:40.222935Z"
    }
   },
   "id": "ab5f656fb7b7a368",
   "execution_count": 52
  },
  {
   "cell_type": "code",
   "outputs": [
    {
     "name": "stdout",
     "output_type": "stream",
     "text": [
      "313/313 [==============================] - 1s 3ms/step - loss: 1.1565 - accuracy: 0.9680\n",
      "Precisión del modelo: 0.9679999947547913\n",
      "Pérdida del modelo: 1.1564619541168213\n"
     ]
    }
   ],
   "source": [
    "# Evaluación del modelo\n",
    "test_loss, test_acc = model.evaluate(test_images, test_labels)\n",
    "print(f'Precisión del modelo: {test_acc}')\n",
    "print(f'Pérdida del modelo: {test_loss}')"
   ],
   "metadata": {
    "collapsed": false,
    "ExecuteTime": {
     "end_time": "2024-04-08T12:18:30.067627Z",
     "start_time": "2024-04-08T12:18:28.847648Z"
    }
   },
   "id": "c013157c6ea0acae",
   "execution_count": 56
  },
  {
   "cell_type": "code",
   "outputs": [
    {
     "name": "stdout",
     "output_type": "stream",
     "text": [
      "313/313 [==============================] - 1s 2ms/step\n",
      "Predicción de la imagen: 7\n",
      "Etiqueta de la imagen: 7\n"
     ]
    }
   ],
   "source": [
    "# Predicción de una imagen\n",
    "predictions = model.predict(test_images)\n",
    "print(f'Predicción de la imagen: {np.argmax(predictions[0])}')\n",
    "print(f'Etiqueta de la imagen: {test_labels[0]}')"
   ],
   "metadata": {
    "collapsed": false,
    "ExecuteTime": {
     "end_time": "2024-04-08T12:18:35.934503Z",
     "start_time": "2024-04-08T12:18:34.711612Z"
    }
   },
   "id": "1ca392a2e9e133d8",
   "execution_count": 57
  },
  {
   "cell_type": "code",
   "outputs": [],
   "source": [
    "# Guardar el modelo\n",
    "import pickle\n",
    "\n",
    "with open('model.pkl', 'wb') as file:\n",
    "    pickle.dump(model, file)"
   ],
   "metadata": {
    "collapsed": false,
    "ExecuteTime": {
     "end_time": "2024-04-08T12:18:43.112228Z",
     "start_time": "2024-04-08T12:18:43.016464Z"
    }
   },
   "id": "a3f9bf6b219dc853",
   "execution_count": 58
  }
 ],
 "metadata": {
  "kernelspec": {
   "display_name": "Python 3",
   "language": "python",
   "name": "python3"
  },
  "language_info": {
   "codemirror_mode": {
    "name": "ipython",
    "version": 2
   },
   "file_extension": ".py",
   "mimetype": "text/x-python",
   "name": "python",
   "nbconvert_exporter": "python",
   "pygments_lexer": "ipython2",
   "version": "2.7.6"
  }
 },
 "nbformat": 4,
 "nbformat_minor": 5
}
