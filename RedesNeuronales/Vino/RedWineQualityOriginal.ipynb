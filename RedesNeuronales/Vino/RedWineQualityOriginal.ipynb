{
 "cells": [
  {
   "cell_type": "markdown",
   "source": [
    "# Enunciado\n",
    "\n",
    "Código original de la red neuronal de los vinos."
   ],
   "metadata": {
    "collapsed": false
   },
   "id": "6def7422069f248f"
  },
  {
   "cell_type": "code",
   "execution_count": 64,
   "id": "initial_id",
   "metadata": {
    "collapsed": true,
    "ExecuteTime": {
     "end_time": "2024-02-13T20:10:14.278934700Z",
     "start_time": "2024-02-13T20:10:14.262430900Z"
    }
   },
   "outputs": [
    {
     "data": {
      "text/plain": "      fixed acidity  volatile acidity  citric acid  residual sugar  chlorides  \\\n1109           10.8             0.470         0.43            2.10      0.171   \n1032            8.1             0.820         0.00            4.10      0.095   \n1002            9.1             0.290         0.33            2.05      0.063   \n487            10.2             0.645         0.36            1.80      0.053   \n\n      free sulfur dioxide  total sulfur dioxide  density    pH  sulphates  \\\n1109                 27.0                  66.0  0.99820  3.17       0.76   \n1032                  5.0                  14.0  0.99854  3.36       0.53   \n1002                 13.0                  27.0  0.99516  3.26       0.84   \n487                   5.0                  14.0  0.99820  3.17       0.42   \n\n      alcohol  quality  \n1109     10.8        6  \n1032      9.6        5  \n1002     11.7        7  \n487      10.0        6  ",
      "text/html": "<div>\n<style scoped>\n    .dataframe tbody tr th:only-of-type {\n        vertical-align: middle;\n    }\n\n    .dataframe tbody tr th {\n        vertical-align: top;\n    }\n\n    .dataframe thead th {\n        text-align: right;\n    }\n</style>\n<table border=\"1\" class=\"dataframe\">\n  <thead>\n    <tr style=\"text-align: right;\">\n      <th></th>\n      <th>fixed acidity</th>\n      <th>volatile acidity</th>\n      <th>citric acid</th>\n      <th>residual sugar</th>\n      <th>chlorides</th>\n      <th>free sulfur dioxide</th>\n      <th>total sulfur dioxide</th>\n      <th>density</th>\n      <th>pH</th>\n      <th>sulphates</th>\n      <th>alcohol</th>\n      <th>quality</th>\n    </tr>\n  </thead>\n  <tbody>\n    <tr>\n      <th>1109</th>\n      <td>10.8</td>\n      <td>0.470</td>\n      <td>0.43</td>\n      <td>2.10</td>\n      <td>0.171</td>\n      <td>27.0</td>\n      <td>66.0</td>\n      <td>0.99820</td>\n      <td>3.17</td>\n      <td>0.76</td>\n      <td>10.8</td>\n      <td>6</td>\n    </tr>\n    <tr>\n      <th>1032</th>\n      <td>8.1</td>\n      <td>0.820</td>\n      <td>0.00</td>\n      <td>4.10</td>\n      <td>0.095</td>\n      <td>5.0</td>\n      <td>14.0</td>\n      <td>0.99854</td>\n      <td>3.36</td>\n      <td>0.53</td>\n      <td>9.6</td>\n      <td>5</td>\n    </tr>\n    <tr>\n      <th>1002</th>\n      <td>9.1</td>\n      <td>0.290</td>\n      <td>0.33</td>\n      <td>2.05</td>\n      <td>0.063</td>\n      <td>13.0</td>\n      <td>27.0</td>\n      <td>0.99516</td>\n      <td>3.26</td>\n      <td>0.84</td>\n      <td>11.7</td>\n      <td>7</td>\n    </tr>\n    <tr>\n      <th>487</th>\n      <td>10.2</td>\n      <td>0.645</td>\n      <td>0.36</td>\n      <td>1.80</td>\n      <td>0.053</td>\n      <td>5.0</td>\n      <td>14.0</td>\n      <td>0.99820</td>\n      <td>3.17</td>\n      <td>0.42</td>\n      <td>10.0</td>\n      <td>6</td>\n    </tr>\n  </tbody>\n</table>\n</div>"
     },
     "metadata": {},
     "output_type": "display_data"
    }
   ],
   "source": [
    "import pandas as pd\n",
    "from IPython.display import display\n",
    "\n",
    "red_wine = pd.read_csv('csv/red-wine.csv')\n",
    "\n",
    "# Create training and validation splits\n",
    "df_train = red_wine.sample(frac=0.7, random_state=0)\n",
    "df_valid = red_wine.drop(df_train.index)\n",
    "display(df_train.head(4))\n",
    "\n",
    "# Scale to [0, 1]\n",
    "max_ = df_train.max(axis=0)\n",
    "min_ = df_train.min(axis=0)\n",
    "df_train = (df_train - min_) / (max_ - min_)\n",
    "df_valid = (df_valid - min_) / (max_ - min_)\n",
    "\n",
    "# Split features and target\n",
    "X_train = df_train.drop('quality', axis=1)\n",
    "X_valid = df_valid.drop('quality', axis=1)\n",
    "y_train = df_train['quality']\n",
    "y_valid = df_valid['quality']"
   ]
  },
  {
   "cell_type": "code",
   "outputs": [
    {
     "name": "stdout",
     "output_type": "stream",
     "text": [
      "(1119, 11)\n"
     ]
    }
   ],
   "source": [
    "print(X_train.shape)"
   ],
   "metadata": {
    "collapsed": false,
    "ExecuteTime": {
     "end_time": "2024-02-13T20:10:14.282985700Z",
     "start_time": "2024-02-13T20:10:14.279439Z"
    }
   },
   "id": "b6ad153b349b829a",
   "execution_count": 65
  },
  {
   "cell_type": "code",
   "outputs": [],
   "source": [
    "from tensorflow import keras\n",
    "from tensorflow.keras import layers\n",
    "\n",
    "model = keras.Sequential([\n",
    "    layers.Dense(512, activation='relu', input_shape=[11]),\n",
    "    layers.Dense(512, activation='relu'),\n",
    "    layers.Dense(512, activation='relu'),\n",
    "    layers.Dense(1),\n",
    "])"
   ],
   "metadata": {
    "collapsed": false,
    "ExecuteTime": {
     "end_time": "2024-02-13T20:10:14.324815800Z",
     "start_time": "2024-02-13T20:10:14.282985700Z"
    }
   },
   "id": "dbeeca2dcedbaf4d",
   "execution_count": 66
  },
  {
   "cell_type": "code",
   "outputs": [],
   "source": [
    "model.compile(\n",
    "    optimizer='adam',\n",
    "    loss='mae',\n",
    ")"
   ],
   "metadata": {
    "collapsed": false,
    "ExecuteTime": {
     "end_time": "2024-02-13T20:10:14.332891900Z",
     "start_time": "2024-02-13T20:10:14.324815800Z"
    }
   },
   "id": "8dc77408d9e9ea34",
   "execution_count": 67
  },
  {
   "cell_type": "code",
   "outputs": [
    {
     "name": "stdout",
     "output_type": "stream",
     "text": [
      "Epoch 1/10\n",
      "5/5 [==============================] - 1s 35ms/step - loss: 0.2727 - val_loss: 0.1394\n",
      "Epoch 2/10\n",
      "5/5 [==============================] - 0s 14ms/step - loss: 0.1322 - val_loss: 0.1227\n",
      "Epoch 3/10\n",
      "5/5 [==============================] - 0s 13ms/step - loss: 0.1241 - val_loss: 0.1253\n",
      "Epoch 4/10\n",
      "5/5 [==============================] - 0s 14ms/step - loss: 0.1163 - val_loss: 0.1102\n",
      "Epoch 5/10\n",
      "5/5 [==============================] - 0s 13ms/step - loss: 0.1122 - val_loss: 0.1072\n",
      "Epoch 6/10\n",
      "5/5 [==============================] - 0s 13ms/step - loss: 0.1063 - val_loss: 0.1028\n",
      "Epoch 7/10\n",
      "5/5 [==============================] - 0s 13ms/step - loss: 0.1039 - val_loss: 0.1006\n",
      "Epoch 8/10\n",
      "5/5 [==============================] - 0s 13ms/step - loss: 0.1029 - val_loss: 0.1108\n",
      "Epoch 9/10\n",
      "5/5 [==============================] - 0s 13ms/step - loss: 0.1021 - val_loss: 0.0998\n",
      "Epoch 10/10\n",
      "5/5 [==============================] - 0s 13ms/step - loss: 0.0996 - val_loss: 0.1020\n"
     ]
    }
   ],
   "source": [
    "history = model.fit(\n",
    "    X_train, y_train,\n",
    "    validation_data=(X_valid, y_valid),\n",
    "    batch_size=256,\n",
    "    epochs=10,\n",
    ")"
   ],
   "metadata": {
    "collapsed": false,
    "ExecuteTime": {
     "end_time": "2024-02-13T20:10:15.705716200Z",
     "start_time": "2024-02-13T20:10:14.332891900Z"
    }
   },
   "id": "343f1316ab59ffb9",
   "execution_count": 68
  },
  {
   "cell_type": "code",
   "outputs": [
    {
     "data": {
      "text/plain": "<Figure size 640x480 with 1 Axes>",
      "image/png": "[encoded data removed]"
     },
     "metadata": {},
     "output_type": "display_data"
    }
   ],
   "source": [
    "import pandas as pd\n",
    "\n",
    "# convert the training history to a dataframe\n",
    "history_df = pd.DataFrame(history.history)\n",
    "# use Pandas native plot method\n",
    "history_df['loss'].plot();"
   ],
   "metadata": {
    "collapsed": false,
    "ExecuteTime": {
     "end_time": "2024-02-13T20:10:15.817623300Z",
     "start_time": "2024-02-13T20:10:15.706723400Z"
    }
   },
   "id": "c092ca469c5ff36c",
   "execution_count": 69
  }
 ],
 "metadata": {
  "kernelspec": {
   "display_name": "Python 3",
   "language": "python",
   "name": "python3"
  },
  "language_info": {
   "codemirror_mode": {
    "name": "ipython",
    "version": 2
   },
   "file_extension": ".py",
   "mimetype": "text/x-python",
   "name": "python",
   "nbconvert_exporter": "python",
   "pygments_lexer": "ipython2",
   "version": "2.7.6"
  }
 },
 "nbformat": 4,
 "nbformat_minor": 5
}
