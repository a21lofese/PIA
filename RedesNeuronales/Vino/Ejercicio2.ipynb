{
 "cells": [
  {
   "cell_type": "code",
   "source": [
    "import pandas as pd\n",
    "from sklearn.preprocessing import StandardScaler\n",
    "from IPython.display import display\n",
    "\n",
    "red_wine = pd.read_csv('csv/red-wine.csv')\n",
    "\n",
    "# Crear instancias de StandardScaler para normalizar los datos\n",
    "scaler = StandardScaler()\n",
    "\n",
    "# Normalizar el conjunto de datos\n",
    "red_wine_normalized = pd.DataFrame(scaler.fit_transform(red_wine.drop('quality', axis=1)), columns=red_wine.columns[:-1])\n",
    "red_wine_normalized['quality'] = red_wine['quality']\n",
    "\n",
    "# Crear conjuntos de entrenamiento y validación\n",
    "df_train_normalized = red_wine_normalized.sample(frac=0.7, random_state=0)\n",
    "df_valid_normalized = red_wine_normalized.drop(df_train_normalized.index)\n",
    "display(df_train_normalized.head(4))\n",
    "\n",
    "# Separar características y objetivo\n",
    "X_train_normalized = df_train_normalized.drop('quality', axis=1)\n",
    "X_valid_normalized = df_valid_normalized.drop('quality', axis=1)\n",
    "y_train_normalized = df_train_normalized['quality']\n",
    "y_valid_normalized = df_valid_normalized['quality']"
   ],
   "metadata": {
    "collapsed": false,
    "ExecuteTime": {
     "end_time": "2024-05-27T14:28:03.477105Z",
     "start_time": "2024-05-27T14:28:03.459609Z"
    }
   },
   "id": "86dc963e1494118a",
   "outputs": [
    {
     "data": {
      "text/plain": [
       "      fixed acidity  volatile acidity  citric acid  residual sugar  chlorides  \\\n",
       "1109       1.425044         -0.323013     0.816598       -0.311323   1.775397   \n",
       "1032      -0.126188          1.632254    -1.391472        1.107633   0.160114   \n",
       "1002       0.448342         -1.328579     0.303093       -0.346797  -0.520005   \n",
       "487        1.080326          0.654620     0.457144       -0.524166  -0.732542   \n",
       "\n",
       "      free sulfur dioxide  total sulfur dioxide   density        pH  \\\n",
       "1109             1.063900              0.593954  0.770280 -0.914312   \n",
       "1032            -1.039977             -0.987312  0.950485  0.316751   \n",
       "1002            -0.274931             -0.591995 -0.840962 -0.331177   \n",
       "487             -1.039977             -0.987312  0.770280 -0.914312   \n",
       "\n",
       "      sulphates   alcohol  quality  \n",
       "1109   0.601055  0.353895        6  \n",
       "1032  -0.756246 -0.772512        5  \n",
       "1002   1.073160  1.198701        7  \n",
       "487   -1.405390 -0.397043        6  "
      ],
      "text/html": [
       "<div>\n",
       "<style scoped>\n",
       "    .dataframe tbody tr th:only-of-type {\n",
       "        vertical-align: middle;\n",
       "    }\n",
       "\n",
       "    .dataframe tbody tr th {\n",
       "        vertical-align: top;\n",
       "    }\n",
       "\n",
       "    .dataframe thead th {\n",
       "        text-align: right;\n",
       "    }\n",
       "</style>\n",
       "<table border=\"1\" class=\"dataframe\">\n",
       "  <thead>\n",
       "    <tr style=\"text-align: right;\">\n",
       "      <th></th>\n",
       "      <th>fixed acidity</th>\n",
       "      <th>volatile acidity</th>\n",
       "      <th>citric acid</th>\n",
       "      <th>residual sugar</th>\n",
       "      <th>chlorides</th>\n",
       "      <th>free sulfur dioxide</th>\n",
       "      <th>total sulfur dioxide</th>\n",
       "      <th>density</th>\n",
       "      <th>pH</th>\n",
       "      <th>sulphates</th>\n",
       "      <th>alcohol</th>\n",
       "      <th>quality</th>\n",
       "    </tr>\n",
       "  </thead>\n",
       "  <tbody>\n",
       "    <tr>\n",
       "      <th>1109</th>\n",
       "      <td>1.425044</td>\n",
       "      <td>-0.323013</td>\n",
       "      <td>0.816598</td>\n",
       "      <td>-0.311323</td>\n",
       "      <td>1.775397</td>\n",
       "      <td>1.063900</td>\n",
       "      <td>0.593954</td>\n",
       "      <td>0.770280</td>\n",
       "      <td>-0.914312</td>\n",
       "      <td>0.601055</td>\n",
       "      <td>0.353895</td>\n",
       "      <td>6</td>\n",
       "    </tr>\n",
       "    <tr>\n",
       "      <th>1032</th>\n",
       "      <td>-0.126188</td>\n",
       "      <td>1.632254</td>\n",
       "      <td>-1.391472</td>\n",
       "      <td>1.107633</td>\n",
       "      <td>0.160114</td>\n",
       "      <td>-1.039977</td>\n",
       "      <td>-0.987312</td>\n",
       "      <td>0.950485</td>\n",
       "      <td>0.316751</td>\n",
       "      <td>-0.756246</td>\n",
       "      <td>-0.772512</td>\n",
       "      <td>5</td>\n",
       "    </tr>\n",
       "    <tr>\n",
       "      <th>1002</th>\n",
       "      <td>0.448342</td>\n",
       "      <td>-1.328579</td>\n",
       "      <td>0.303093</td>\n",
       "      <td>-0.346797</td>\n",
       "      <td>-0.520005</td>\n",
       "      <td>-0.274931</td>\n",
       "      <td>-0.591995</td>\n",
       "      <td>-0.840962</td>\n",
       "      <td>-0.331177</td>\n",
       "      <td>1.073160</td>\n",
       "      <td>1.198701</td>\n",
       "      <td>7</td>\n",
       "    </tr>\n",
       "    <tr>\n",
       "      <th>487</th>\n",
       "      <td>1.080326</td>\n",
       "      <td>0.654620</td>\n",
       "      <td>0.457144</td>\n",
       "      <td>-0.524166</td>\n",
       "      <td>-0.732542</td>\n",
       "      <td>-1.039977</td>\n",
       "      <td>-0.987312</td>\n",
       "      <td>0.770280</td>\n",
       "      <td>-0.914312</td>\n",
       "      <td>-1.405390</td>\n",
       "      <td>-0.397043</td>\n",
       "      <td>6</td>\n",
       "    </tr>\n",
       "  </tbody>\n",
       "</table>\n",
       "</div>"
      ]
     },
     "metadata": {},
     "output_type": "display_data"
    }
   ],
   "execution_count": 12
  },
  {
   "cell_type": "code",
   "source": [
    "print(X_train_normalized.shape)"
   ],
   "metadata": {
    "collapsed": false,
    "ExecuteTime": {
     "end_time": "2024-05-27T14:28:03.482186Z",
     "start_time": "2024-05-27T14:28:03.478150Z"
    }
   },
   "id": "bfc5534aa9570f2e",
   "outputs": [
    {
     "name": "stdout",
     "output_type": "stream",
     "text": [
      "(1119, 11)\n"
     ]
    }
   ],
   "execution_count": 13
  },
  {
   "cell_type": "code",
   "source": [
    "from tensorflow import keras\n",
    "from tensorflow.keras import layers\n",
    "\n",
    "model_normalized = keras.Sequential([\n",
    "    layers.Dense(120, activation='relu', input_shape=[11]),\n",
    "    layers.Dense(1),\n",
    "])"
   ],
   "metadata": {
    "collapsed": false,
    "ExecuteTime": {
     "end_time": "2024-05-27T14:28:03.507767Z",
     "start_time": "2024-05-27T14:28:03.483660Z"
    }
   },
   "id": "c34941e780d08c75",
   "outputs": [],
   "execution_count": 14
  },
  {
   "cell_type": "code",
   "source": [
    "model_normalized.compile(\n",
    "    optimizer='adam',\n",
    "    loss='mae',\n",
    ")"
   ],
   "metadata": {
    "collapsed": false,
    "ExecuteTime": {
     "end_time": "2024-05-27T14:28:03.518190Z",
     "start_time": "2024-05-27T14:28:03.508783Z"
    }
   },
   "id": "5cf3b32ca6ce495b",
   "outputs": [],
   "execution_count": 15
  },
  {
   "cell_type": "code",
   "source": [
    "history_normalized = model_normalized.fit(\n",
    "    X_train_normalized, y_train_normalized,\n",
    "    validation_data=(X_valid_normalized, y_valid_normalized),\n",
    "    batch_size=256,\n",
    "    epochs=10,\n",
    ")"
   ],
   "metadata": {
    "collapsed": false,
    "ExecuteTime": {
     "end_time": "2024-05-27T14:28:04.322867Z",
     "start_time": "2024-05-27T14:28:03.518706Z"
    }
   },
   "id": "cfba747d0310520",
   "outputs": [
    {
     "name": "stdout",
     "output_type": "stream",
     "text": [
      "Epoch 1/10\n",
      "5/5 [==============================] - 0s 26ms/step - loss: 5.6210 - val_loss: 5.5553\n",
      "Epoch 2/10\n",
      "5/5 [==============================] - 0s 7ms/step - loss: 5.4071 - val_loss: 5.3335\n",
      "Epoch 3/10\n",
      "5/5 [==============================] - 0s 7ms/step - loss: 5.1922 - val_loss: 5.1109\n",
      "Epoch 4/10\n",
      "5/5 [==============================] - 0s 7ms/step - loss: 4.9750 - val_loss: 4.8864\n",
      "Epoch 5/10\n",
      "5/5 [==============================] - 0s 10ms/step - loss: 4.7583 - val_loss: 4.6570\n",
      "Epoch 6/10\n",
      "5/5 [==============================] - 0s 7ms/step - loss: 4.5373 - val_loss: 4.4243\n",
      "Epoch 7/10\n",
      "5/5 [==============================] - 0s 8ms/step - loss: 4.3098 - val_loss: 4.1888\n",
      "Epoch 8/10\n",
      "5/5 [==============================] - 0s 7ms/step - loss: 4.0781 - val_loss: 3.9488\n",
      "Epoch 9/10\n",
      "5/5 [==============================] - 0s 8ms/step - loss: 3.8413 - val_loss: 3.7089\n",
      "Epoch 10/10\n",
      "5/5 [==============================] - 0s 7ms/step - loss: 3.5997 - val_loss: 3.4733\n"
     ]
    }
   ],
   "execution_count": 16
  },
  {
   "cell_type": "code",
   "source": [
    "import pandas as pd\n",
    "\n",
    "# convertir el historial de entrenamiento a un DataFrame\n",
    "history_df_normalized = pd.DataFrame(history_normalized.history)\n",
    "# utilizar el método de trazado nativo de Pandas\n",
    "history_df_normalized['loss'].plot();"
   ],
   "metadata": {
    "collapsed": false,
    "ExecuteTime": {
     "end_time": "2024-05-27T14:28:04.603476Z",
     "start_time": "2024-05-27T14:28:04.323872Z"
    }
   },
   "id": "8ac6bf85d5fc0b3d",
   "outputs": [
    {
     "data": {
      "text/plain": [
       "<Figure size 640x480 with 1 Axes>"
      ],
      "image/png": "[encoded data removed]"
     },
     "metadata": {},
     "output_type": "display_data"
    }
   ],
   "execution_count": 17
  },
  {
   "cell_type": "code",
   "source": [
    "eval_result_normalized = model_normalized.evaluate(X_valid_normalized, y_valid_normalized)\n",
    "print(f\"Loss en datos de validación: {eval_result_normalized}\")"
   ],
   "metadata": {
    "collapsed": false,
    "ExecuteTime": {
     "end_time": "2024-05-27T14:28:04.672941Z",
     "start_time": "2024-05-27T14:28:04.603476Z"
    }
   },
   "id": "9ee36d86791d9cd0",
   "outputs": [
    {
     "name": "stdout",
     "output_type": "stream",
     "text": [
      "15/15 [==============================] - 0s 852us/step - loss: 3.4733\n",
      "Loss en datos de validación: 3.4732630252838135\n"
     ]
    }
   ],
   "execution_count": 18
  },
  {
   "metadata": {
    "ExecuteTime": {
     "end_time": "2024-05-27T14:28:05.018016Z",
     "start_time": "2024-05-27T14:28:04.672941Z"
    }
   },
   "cell_type": "code",
   "source": [
    "# Ver matriz de confusión\n",
    "from sklearn.metrics import confusion_matrix\n",
    "import numpy as np\n",
    "import matplotlib.pyplot as plt\n",
    "import seaborn as sns\n",
    "\n",
    "y_pred = model_normalized.predict(X_valid_normalized)\n",
    "y_pred = np.round(y_pred)\n",
    "cm = confusion_matrix(y_valid_normalized, y_pred)\n",
    "\n",
    "plt.figure()\n",
    "sns.heatmap(cm, annot=True, fmt=\"d\")\n",
    "plt.title('Confusion matrix')\n",
    "plt.ylabel('True class')\n",
    "plt.xlabel('Predicted class')\n",
    "plt.show()"
   ],
   "id": "3281ab3fd4812a2b",
   "outputs": [
    {
     "name": "stdout",
     "output_type": "stream",
     "text": [
      "15/15 [==============================] - 0s 793us/step\n"
     ]
    },
    {
     "data": {
      "text/plain": [
       "<Figure size 640x480 with 2 Axes>"
      ],
      "image/png": "[encoded data removed]"
     },
     "metadata": {},
     "output_type": "display_data"
    }
   ],
   "execution_count": 19
  }
 ],
 "metadata": {
  "kernelspec": {
   "display_name": "Python 3",
   "language": "python",
   "name": "python3"
  },
  "language_info": {
   "codemirror_mode": {
    "name": "ipython",
    "version": 2
   },
   "file_extension": ".py",
   "mimetype": "text/x-python",
   "name": "python",
   "nbconvert_exporter": "python",
   "pygments_lexer": "ipython2",
   "version": "2.7.6"
  }
 },
 "nbformat": 4,
 "nbformat_minor": 5
}
