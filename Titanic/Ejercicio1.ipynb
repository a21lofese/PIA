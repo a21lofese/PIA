{
 "cells": [
  {
   "cell_type": "markdown",
   "source": [
    "# Enunciado\n",
    "\n",
    "Intenta aplicar lo aprendido con las lecciones de ingeniería de propiedades con el conjunto de datos de Titanic disponible en Kaggle. Este dataset es accesible y contiene una mezcla de tipos de datos categóricos y numéricos, lo que lo hace perfecto para ejercitar diversas técnicas de ingeniería de propiedades. La tarea consiste en predecir la supervivencia de los pasajeros del Titanic utilizando machine learning.\n",
    "\n",
    "Tareas Específicas:\n",
    "\n",
    "1. Análisis Exploratorio de Datos (EDA): Buscar valores faltantes e identifica las posibles relaciones entre las características y la variable objetivo.\n",
    "\n",
    "2. Limpieza de Datos: Basándose en el EDA debes tratar los valores faltantes y corregir posibles errores en los datos\n",
    "\n",
    "3. Construye un modelo base para poder comparar sus resultados con otros después de aplicar ingeniería de propiedades.\n",
    "\n",
    "4.  Elimina las características irrelevantes y prueba el modelo, si no hay mejora no las quites. \n",
    "\n",
    "5. Aplicar técnicas de ingeniería de propiedades para transformar y crear nuevas características. Algunas sugerencias:\n",
    "\n",
    "Crea una característica de \"Tamaño de la familia\" sumando las características SibSp (número de hermanos/cónyuges a bordo) y Parch (número de padres/hijos a bordo).\n",
    "Extrae el título de la característica Name y usarlo para crear una nueva característica que pueda indicar el estatus social o el género, lo que podría influir en la supervivencia.\n",
    "Crea bandas de edad para transformar la edad en una característica categórica, facilitando la captura de relaciones no lineales con la supervivencia.\n",
    "Aplica target encoding a la característica Cabin considerando la letra de la cabina como una indicación de la cubierta, lo que podría afectar las posibilidades de supervivencia.\n",
    "Prueba con random forest."
   ],
   "metadata": {
    "collapsed": false
   },
   "id": "18c379fae8eaa753"
  },
  {
   "cell_type": "markdown",
   "source": [
    "## Cargamos los datos"
   ],
   "metadata": {
    "collapsed": false
   },
   "id": "92cae3d691b5aeb9"
  },
  {
   "cell_type": "code",
   "source": [
    "# Cargar datos del Titanic\n",
    "import pandas as pd\n",
    "\n",
    "train, test = pd.read_csv('csv/train.csv'), pd.read_csv('csv/test.csv')\n",
    "original_train = train.copy() # Copia de los datos originales para trabajar con ellos sin modificar los originales\n",
    "\n",
    "train.head()"
   ],
   "metadata": {
    "collapsed": false,
    "ExecuteTime": {
     "end_time": "2024-06-16T10:33:36.959506Z",
     "start_time": "2024-06-16T10:33:36.919785Z"
    }
   },
   "id": "e3be3eba39ed90d6",
   "outputs": [
    {
     "data": {
      "text/plain": [
       "   PassengerId  Survived  Pclass  \\\n",
       "0            1         0       3   \n",
       "1            2         1       1   \n",
       "2            3         1       3   \n",
       "3            4         1       1   \n",
       "4            5         0       3   \n",
       "\n",
       "                                                Name     Sex   Age  SibSp  \\\n",
       "0                            Braund, Mr. Owen Harris    male  22.0      1   \n",
       "1  Cumings, Mrs. John Bradley (Florence Briggs Th...  female  38.0      1   \n",
       "2                             Heikkinen, Miss. Laina  female  26.0      0   \n",
       "3       Futrelle, Mrs. Jacques Heath (Lily May Peel)  female  35.0      1   \n",
       "4                           Allen, Mr. William Henry    male  35.0      0   \n",
       "\n",
       "   Parch            Ticket     Fare Cabin Embarked  \n",
       "0      0         A/5 21171   7.2500   NaN        S  \n",
       "1      0          PC 17599  71.2833   C85        C  \n",
       "2      0  STON/O2. 3101282   7.9250   NaN        S  \n",
       "3      0            113803  53.1000  C123        S  \n",
       "4      0            373450   8.0500   NaN        S  "
      ],
      "text/html": [
       "<div>\n",
       "<style scoped>\n",
       "    .dataframe tbody tr th:only-of-type {\n",
       "        vertical-align: middle;\n",
       "    }\n",
       "\n",
       "    .dataframe tbody tr th {\n",
       "        vertical-align: top;\n",
       "    }\n",
       "\n",
       "    .dataframe thead th {\n",
       "        text-align: right;\n",
       "    }\n",
       "</style>\n",
       "<table border=\"1\" class=\"dataframe\">\n",
       "  <thead>\n",
       "    <tr style=\"text-align: right;\">\n",
       "      <th></th>\n",
       "      <th>PassengerId</th>\n",
       "      <th>Survived</th>\n",
       "      <th>Pclass</th>\n",
       "      <th>Name</th>\n",
       "      <th>Sex</th>\n",
       "      <th>Age</th>\n",
       "      <th>SibSp</th>\n",
       "      <th>Parch</th>\n",
       "      <th>Ticket</th>\n",
       "      <th>Fare</th>\n",
       "      <th>Cabin</th>\n",
       "      <th>Embarked</th>\n",
       "    </tr>\n",
       "  </thead>\n",
       "  <tbody>\n",
       "    <tr>\n",
       "      <th>0</th>\n",
       "      <td>1</td>\n",
       "      <td>0</td>\n",
       "      <td>3</td>\n",
       "      <td>Braund, Mr. Owen Harris</td>\n",
       "      <td>male</td>\n",
       "      <td>22.0</td>\n",
       "      <td>1</td>\n",
       "      <td>0</td>\n",
       "      <td>A/5 21171</td>\n",
       "      <td>7.2500</td>\n",
       "      <td>NaN</td>\n",
       "      <td>S</td>\n",
       "    </tr>\n",
       "    <tr>\n",
       "      <th>1</th>\n",
       "      <td>2</td>\n",
       "      <td>1</td>\n",
       "      <td>1</td>\n",
       "      <td>Cumings, Mrs. John Bradley (Florence Briggs Th...</td>\n",
       "      <td>female</td>\n",
       "      <td>38.0</td>\n",
       "      <td>1</td>\n",
       "      <td>0</td>\n",
       "      <td>PC 17599</td>\n",
       "      <td>71.2833</td>\n",
       "      <td>C85</td>\n",
       "      <td>C</td>\n",
       "    </tr>\n",
       "    <tr>\n",
       "      <th>2</th>\n",
       "      <td>3</td>\n",
       "      <td>1</td>\n",
       "      <td>3</td>\n",
       "      <td>Heikkinen, Miss. Laina</td>\n",
       "      <td>female</td>\n",
       "      <td>26.0</td>\n",
       "      <td>0</td>\n",
       "      <td>0</td>\n",
       "      <td>STON/O2. 3101282</td>\n",
       "      <td>7.9250</td>\n",
       "      <td>NaN</td>\n",
       "      <td>S</td>\n",
       "    </tr>\n",
       "    <tr>\n",
       "      <th>3</th>\n",
       "      <td>4</td>\n",
       "      <td>1</td>\n",
       "      <td>1</td>\n",
       "      <td>Futrelle, Mrs. Jacques Heath (Lily May Peel)</td>\n",
       "      <td>female</td>\n",
       "      <td>35.0</td>\n",
       "      <td>1</td>\n",
       "      <td>0</td>\n",
       "      <td>113803</td>\n",
       "      <td>53.1000</td>\n",
       "      <td>C123</td>\n",
       "      <td>S</td>\n",
       "    </tr>\n",
       "    <tr>\n",
       "      <th>4</th>\n",
       "      <td>5</td>\n",
       "      <td>0</td>\n",
       "      <td>3</td>\n",
       "      <td>Allen, Mr. William Henry</td>\n",
       "      <td>male</td>\n",
       "      <td>35.0</td>\n",
       "      <td>0</td>\n",
       "      <td>0</td>\n",
       "      <td>373450</td>\n",
       "      <td>8.0500</td>\n",
       "      <td>NaN</td>\n",
       "      <td>S</td>\n",
       "    </tr>\n",
       "  </tbody>\n",
       "</table>\n",
       "</div>"
      ]
     },
     "execution_count": 177,
     "metadata": {},
     "output_type": "execute_result"
    }
   ],
   "execution_count": 177
  },
  {
   "cell_type": "markdown",
   "source": [
    "## Análisis Exploratorio de Datos (EDA)"
   ],
   "metadata": {
    "collapsed": false
   },
   "id": "47b22de6d46932f7"
  },
  {
   "cell_type": "code",
   "source": [
    "# Información de los datos\n",
    "print(f\"Cantidad de filas y columnas: {train.shape}\\n=======================================\") # Muestra la cantidad de filas y columnas\n",
    "train.info() # Muestra información de las columnas y los tipos de datos"
   ],
   "metadata": {
    "collapsed": false,
    "ExecuteTime": {
     "end_time": "2024-06-16T10:33:38.202023Z",
     "start_time": "2024-06-16T10:33:38.179530Z"
    }
   },
   "id": "e1722ca0d3240c7d",
   "outputs": [
    {
     "name": "stdout",
     "output_type": "stream",
     "text": [
      "Cantidad de filas y columnas: (891, 12)\n",
      "=======================================\n",
      "<class 'pandas.core.frame.DataFrame'>\n",
      "RangeIndex: 891 entries, 0 to 890\n",
      "Data columns (total 12 columns):\n",
      " #   Column       Non-Null Count  Dtype  \n",
      "---  ------       --------------  -----  \n",
      " 0   PassengerId  891 non-null    int64  \n",
      " 1   Survived     891 non-null    int64  \n",
      " 2   Pclass       891 non-null    int64  \n",
      " 3   Name         891 non-null    object \n",
      " 4   Sex          891 non-null    object \n",
      " 5   Age          714 non-null    float64\n",
      " 6   SibSp        891 non-null    int64  \n",
      " 7   Parch        891 non-null    int64  \n",
      " 8   Ticket       891 non-null    object \n",
      " 9   Fare         891 non-null    float64\n",
      " 10  Cabin        204 non-null    object \n",
      " 11  Embarked     889 non-null    object \n",
      "dtypes: float64(2), int64(5), object(5)\n",
      "memory usage: 83.7+ KB\n"
     ]
    }
   ],
   "execution_count": 178
  },
  {
   "metadata": {},
   "cell_type": "markdown",
   "source": "### Valores únicos",
   "id": "f6eafb87e9aacf26"
  },
  {
   "metadata": {
    "ExecuteTime": {
     "end_time": "2024-06-16T10:33:38.316762Z",
     "start_time": "2024-06-16T10:33:38.303838Z"
    }
   },
   "cell_type": "code",
   "source": [
    "# Valores únicos de las columnas\n",
    "unique_values = train.nunique()\n",
    "unique_values = pd.DataFrame({'Columna': unique_values.index, 'Valores únicos': unique_values.values})\n",
    "print(unique_values)"
   ],
   "id": "8e5dcebe7fd0c549",
   "outputs": [
    {
     "name": "stdout",
     "output_type": "stream",
     "text": [
      "        Columna  Valores únicos\n",
      "0   PassengerId             891\n",
      "1      Survived               2\n",
      "2        Pclass               3\n",
      "3          Name             891\n",
      "4           Sex               2\n",
      "5           Age              88\n",
      "6         SibSp               7\n",
      "7         Parch               7\n",
      "8        Ticket             681\n",
      "9          Fare             248\n",
      "10        Cabin             147\n",
      "11     Embarked               3\n"
     ]
    }
   ],
   "execution_count": 179
  },
  {
   "metadata": {},
   "cell_type": "markdown",
   "source": "Eliminamos las columnas `PassengerId`, `Name` y `Ticket` ya que tienen muchos valores únicos y no aportan información relevante.",
   "id": "d8531ff0f09eda09"
  },
  {
   "metadata": {
    "ExecuteTime": {
     "end_time": "2024-06-16T10:33:38.492056Z",
     "start_time": "2024-06-16T10:33:38.478904Z"
    }
   },
   "cell_type": "code",
   "source": "train.drop(['PassengerId', 'Name', 'Ticket'], axis=1, inplace=True)",
   "id": "44913a8fda71a21e",
   "outputs": [],
   "execution_count": 180
  },
  {
   "cell_type": "markdown",
   "source": [
    "### Valores faltantes"
   ],
   "metadata": {
    "collapsed": false
   },
   "id": "67836604aa3681bf"
  },
  {
   "cell_type": "code",
   "source": [
    "# Tabla de valores faltantes (Columnas, Cantidad de valores totales, Cantidad de valores faltantes)\n",
    "missing_values = train.isnull().sum()\n",
    "missing_values = missing_values[missing_values > 0]\n",
    "missing_values = pd.DataFrame({'Columna': missing_values.index, 'Cantidad de valores totales': train.shape[0], 'Cantidad de valores faltantes': missing_values.values})\n",
    "print(missing_values)"
   ],
   "metadata": {
    "collapsed": false,
    "ExecuteTime": {
     "end_time": "2024-06-16T10:33:38.790719Z",
     "start_time": "2024-06-16T10:33:38.778569Z"
    }
   },
   "id": "1068020f6e6fccb5",
   "outputs": [
    {
     "name": "stdout",
     "output_type": "stream",
     "text": [
      "    Columna  Cantidad de valores totales  Cantidad de valores faltantes\n",
      "0       Age                          891                            177\n",
      "1     Cabin                          891                            687\n",
      "2  Embarked                          891                              2\n"
     ]
    }
   ],
   "execution_count": 181
  },
  {
   "cell_type": "markdown",
   "source": "Como podemos observar, las columnas `Age`, `Cabin` y `Embarked` tienen valores faltantes. Vamos a tratar estos valores faltantes. Para la columna `Age` vamos a realizar un estudio para saber si es mejor usar la mediana o la media. Para la columna `Embarked` vamos a reemplazar los valores faltantes por la moda de la columna. La columna `Cabin` vamos a eliminarla, ya que tiene muchos valores faltantes.",
   "metadata": {
    "collapsed": false
   },
   "id": "5e8ccb2a7300b118"
  },
  {
   "metadata": {
    "ExecuteTime": {
     "end_time": "2024-06-16T10:33:39.558071Z",
     "start_time": "2024-06-16T10:33:39.107918Z"
    }
   },
   "cell_type": "code",
   "source": [
    "# Mostrar edades\n",
    "train['Age'].hist()\n",
    "\n",
    "# Media de la edad y mediana\n",
    "print(f\"Media de la edad: {train['Age'].mean()}\")\n",
    "print(f\"Mediana de la edad: {train['Age'].median()}\")"
   ],
   "id": "d31fdfa4ccb7383a",
   "outputs": [
    {
     "name": "stdout",
     "output_type": "stream",
     "text": [
      "Media de la edad: 29.69911764705882\n",
      "Mediana de la edad: 28.0\n"
     ]
    },
    {
     "data": {
      "text/plain": [
       "<Figure size 640x480 with 1 Axes>"
      ],
      "image/png": "[encoded data removed]"
     },
     "metadata": {},
     "output_type": "display_data"
    }
   ],
   "execution_count": 182
  },
  {
   "metadata": {},
   "cell_type": "markdown",
   "source": "Como podemos observar, la media y la mediana de la columna `Age` son muy similares. En nuestro caso nos quedaremos con la mediana ya que es menos sensible a los valores influyentes.",
   "id": "43f2337354fc61d0"
  },
  {
   "metadata": {
    "ExecuteTime": {
     "end_time": "2024-06-16T10:33:39.579157Z",
     "start_time": "2024-06-16T10:33:39.558071Z"
    }
   },
   "cell_type": "code",
   "source": [
    "# Edad mediana\n",
    "train['Age'] = train['Age'].fillna(train['Age'].median())"
   ],
   "id": "a5eb784bcda7ea46",
   "outputs": [],
   "execution_count": 183
  },
  {
   "cell_type": "code",
   "source": [
    "# Reemplazar valores faltantes\n",
    "train['Embarked'] = train['Embarked'].fillna(train['Embarked'].mode()[0])"
   ],
   "metadata": {
    "collapsed": false,
    "ExecuteTime": {
     "end_time": "2024-06-16T10:33:39.589050Z",
     "start_time": "2024-06-16T10:33:39.579157Z"
    }
   },
   "id": "f291d7dbc534173e",
   "outputs": [],
   "execution_count": 184
  },
  {
   "metadata": {
    "ExecuteTime": {
     "end_time": "2024-06-16T10:33:39.598550Z",
     "start_time": "2024-06-16T10:33:39.592823Z"
    }
   },
   "cell_type": "code",
   "source": [
    "# Eliminar la columna 'Cabin'\n",
    "train.drop('Cabin', axis=1, inplace=True)"
   ],
   "id": "a59c1f73dd1a63a0",
   "outputs": [],
   "execution_count": 185
  },
  {
   "metadata": {},
   "cell_type": "markdown",
   "source": "Voy a crear una variable para ir almacenando los modelos bases y compararlos al final.",
   "id": "9271c7dfd4ffa65"
  },
  {
   "metadata": {},
   "cell_type": "markdown",
   "source": "### Mutual Information",
   "id": "f8b5e1abe90e2284"
  },
  {
   "metadata": {
    "ExecuteTime": {
     "end_time": "2024-06-16T10:33:39.712471Z",
     "start_time": "2024-06-16T10:33:39.634103Z"
    }
   },
   "cell_type": "code",
   "source": [
    "# Mutual Information con la variable objetivo 'Survived' para las columnas numéricas\n",
    "from sklearn.feature_selection import mutual_info_regression\n",
    "\n",
    "X = train.select_dtypes(include=['int64', 'float64'])\n",
    "y = train['Survived']\n",
    "\n",
    "mi_scores = mutual_info_regression(X, y)\n",
    "mi_scores = pd.Series(mi_scores, name=\"MI Scores\", index=X.columns)\n",
    "mi_scores = mi_scores.sort_values(ascending=False)\n",
    "mi_scores"
   ],
   "id": "bf8301a08817727",
   "outputs": [
    {
     "data": {
      "text/plain": [
       "Survived    0.653781\n",
       "Fare        0.155317\n",
       "Pclass      0.080274\n",
       "Age         0.031987\n",
       "SibSp       0.023569\n",
       "Parch       0.000000\n",
       "Name: MI Scores, dtype: float64"
      ]
     },
     "execution_count": 186,
     "metadata": {},
     "output_type": "execute_result"
    }
   ],
   "execution_count": 186
  },
  {
   "metadata": {
    "ExecuteTime": {
     "end_time": "2024-06-16T10:33:39.740059Z",
     "start_time": "2024-06-16T10:33:39.732656Z"
    }
   },
   "cell_type": "code",
   "source": [
    "import matplotlib.pyplot as plt\n",
    "import numpy as np\n",
    "\n",
    "def plot_mi_scores(scores):\n",
    "    scores = scores.sort_values(ascending=True)\n",
    "    width = np.arange(len(scores))\n",
    "    ticks = list(scores.index)\n",
    "    plt.barh(width, scores)\n",
    "    plt.yticks(width, ticks)\n",
    "    plt.title(\"Mutual Information Scores (Numerical Features)\")"
   ],
   "id": "256d47052384adc3",
   "outputs": [],
   "execution_count": 187
  },
  {
   "metadata": {
    "ExecuteTime": {
     "end_time": "2024-06-16T10:33:40.658986Z",
     "start_time": "2024-06-16T10:33:40.210467Z"
    }
   },
   "cell_type": "code",
   "source": [
    "plt.figure(dpi=100, figsize=(8, 5))\n",
    "plot_mi_scores(mi_scores)"
   ],
   "id": "331500a8cc23f05f",
   "outputs": [
    {
     "data": {
      "text/plain": [
       "<Figure size 800x500 with 1 Axes>"
      ],
      "image/png": "[encoded data removed]"
     },
     "metadata": {},
     "output_type": "display_data"
    }
   ],
   "execution_count": 188
  },
  {
   "metadata": {
    "ExecuteTime": {
     "end_time": "2024-06-16T10:33:40.695428Z",
     "start_time": "2024-06-16T10:33:40.662496Z"
    }
   },
   "cell_type": "code",
   "source": [
    "# Mutual Information con la variable objetivo 'Survived' para las columnas categóricas\n",
    "from sklearn.feature_selection import mutual_info_classif\n",
    "\n",
    "X = train.select_dtypes(include=['object'])\n",
    "y = train['Survived']\n",
    "\n",
    "# Label encoding for categoricals\n",
    "for colname in X.select_dtypes(\"object\"):\n",
    "    X[colname], _ = X[colname].factorize()\n",
    "\n",
    "# All discrete features should now have integer dtypes (double-check this before using MI!)\n",
    "discrete_features = X.dtypes == int\n",
    "\n",
    "mi_scores = mutual_info_classif(X, y)\n",
    "mi_scores = pd.Series(mi_scores, name=\"MI Scores\", index=X.columns)\n",
    "mi_scores = mi_scores.sort_values(ascending=False)\n",
    "mi_scores"
   ],
   "id": "e06e0de528be281f",
   "outputs": [
    {
     "data": {
      "text/plain": [
       "Sex         0.146450\n",
       "Embarked    0.024947\n",
       "Name: MI Scores, dtype: float64"
      ]
     },
     "execution_count": 189,
     "metadata": {},
     "output_type": "execute_result"
    }
   ],
   "execution_count": 189
  },
  {
   "metadata": {
    "ExecuteTime": {
     "end_time": "2024-06-16T10:33:41.030572Z",
     "start_time": "2024-06-16T10:33:40.696483Z"
    }
   },
   "cell_type": "code",
   "source": [
    "plt.figure(dpi=100, figsize=(8, 5))\n",
    "plot_mi_scores(mi_scores)"
   ],
   "id": "c08e574760a65cc4",
   "outputs": [
    {
     "data": {
      "text/plain": [
       "<Figure size 800x500 with 1 Axes>"
      ],
      "image/png": "[encoded data removed]"
     },
     "metadata": {},
     "output_type": "display_data"
    }
   ],
   "execution_count": 190
  },
  {
   "metadata": {},
   "cell_type": "markdown",
   "source": "",
   "id": "fe92104492d4b5d6"
  },
  {
   "metadata": {},
   "cell_type": "markdown",
   "source": [
    "Como podemos observar, las columnas `Parch`, `SibSp` y `Embarked` son las que no aportan información de la variable objetivo `Survived`. Por lo tanto, vamos a eliminarlas para realizar el modelo base.\n",
    "En nuestro caso la columna `Embarked` no le vamos a realizar una ingeniería de propiedades, ya que no aporta información relevante. Mientras que las columnas `Parch` y `SibSp` vamos a realizar una ingeniería de propiedades para ver si mejoran el modelo, las agregaremos en su apartado correspondiente."
   ],
   "id": "2341b79b02177767"
  },
  {
   "metadata": {
    "ExecuteTime": {
     "end_time": "2024-06-16T10:33:41.040783Z",
     "start_time": "2024-06-16T10:33:41.033689Z"
    }
   },
   "cell_type": "code",
   "source": "train.drop(['Parch', 'SibSp', 'Embarked'], axis=1, inplace=True)",
   "id": "29f72759e209180b",
   "outputs": [],
   "execution_count": 191
  },
  {
   "metadata": {
    "ExecuteTime": {
     "end_time": "2024-06-16T10:33:41.125073Z",
     "start_time": "2024-06-16T10:33:41.119458Z"
    }
   },
   "cell_type": "code",
   "source": "models_scores = {}",
   "id": "b8c9ddb5195c8f89",
   "outputs": [],
   "execution_count": 192
  },
  {
   "metadata": {},
   "cell_type": "markdown",
   "source": "### Modelo base",
   "id": "617e72e322227a7b"
  },
  {
   "metadata": {},
   "cell_type": "markdown",
   "source": "Ahora realizaremos la codificación one-hot de las columnas categóricas.",
   "id": "3beadb8f5b01dbd7"
  },
  {
   "metadata": {
    "ExecuteTime": {
     "end_time": "2024-06-16T10:33:41.247678Z",
     "start_time": "2024-06-16T10:33:41.221561Z"
    }
   },
   "cell_type": "code",
   "source": [
    "from sklearn.preprocessing import OneHotEncoder\n",
    "\n",
    "categorical_columns_train = train.select_dtypes(include=['object'])\n",
    "encoder = OneHotEncoder()\n",
    "encoded_columns_train = encoder.fit_transform(categorical_columns_train)\n",
    "feature_names_train = encoder.get_feature_names_out(categorical_columns_train.columns)\n",
    "encoded_columns_df_train = pd.DataFrame(encoded_columns_train.toarray(), columns=feature_names_train)\n",
    "\n",
    "train = pd.concat(\n",
    "    [train.drop(categorical_columns_train.columns, axis=1), encoded_columns_df_train], axis=1)\n",
    "\n",
    "train.head()"
   ],
   "id": "2c022664730c1777",
   "outputs": [
    {
     "data": {
      "text/plain": [
       "   Survived  Pclass   Age     Fare  Sex_female  Sex_male\n",
       "0         0       3  22.0   7.2500         0.0       1.0\n",
       "1         1       1  38.0  71.2833         1.0       0.0\n",
       "2         1       3  26.0   7.9250         1.0       0.0\n",
       "3         1       1  35.0  53.1000         1.0       0.0\n",
       "4         0       3  35.0   8.0500         0.0       1.0"
      ],
      "text/html": [
       "<div>\n",
       "<style scoped>\n",
       "    .dataframe tbody tr th:only-of-type {\n",
       "        vertical-align: middle;\n",
       "    }\n",
       "\n",
       "    .dataframe tbody tr th {\n",
       "        vertical-align: top;\n",
       "    }\n",
       "\n",
       "    .dataframe thead th {\n",
       "        text-align: right;\n",
       "    }\n",
       "</style>\n",
       "<table border=\"1\" class=\"dataframe\">\n",
       "  <thead>\n",
       "    <tr style=\"text-align: right;\">\n",
       "      <th></th>\n",
       "      <th>Survived</th>\n",
       "      <th>Pclass</th>\n",
       "      <th>Age</th>\n",
       "      <th>Fare</th>\n",
       "      <th>Sex_female</th>\n",
       "      <th>Sex_male</th>\n",
       "    </tr>\n",
       "  </thead>\n",
       "  <tbody>\n",
       "    <tr>\n",
       "      <th>0</th>\n",
       "      <td>0</td>\n",
       "      <td>3</td>\n",
       "      <td>22.0</td>\n",
       "      <td>7.2500</td>\n",
       "      <td>0.0</td>\n",
       "      <td>1.0</td>\n",
       "    </tr>\n",
       "    <tr>\n",
       "      <th>1</th>\n",
       "      <td>1</td>\n",
       "      <td>1</td>\n",
       "      <td>38.0</td>\n",
       "      <td>71.2833</td>\n",
       "      <td>1.0</td>\n",
       "      <td>0.0</td>\n",
       "    </tr>\n",
       "    <tr>\n",
       "      <th>2</th>\n",
       "      <td>1</td>\n",
       "      <td>3</td>\n",
       "      <td>26.0</td>\n",
       "      <td>7.9250</td>\n",
       "      <td>1.0</td>\n",
       "      <td>0.0</td>\n",
       "    </tr>\n",
       "    <tr>\n",
       "      <th>3</th>\n",
       "      <td>1</td>\n",
       "      <td>1</td>\n",
       "      <td>35.0</td>\n",
       "      <td>53.1000</td>\n",
       "      <td>1.0</td>\n",
       "      <td>0.0</td>\n",
       "    </tr>\n",
       "    <tr>\n",
       "      <th>4</th>\n",
       "      <td>0</td>\n",
       "      <td>3</td>\n",
       "      <td>35.0</td>\n",
       "      <td>8.0500</td>\n",
       "      <td>0.0</td>\n",
       "      <td>1.0</td>\n",
       "    </tr>\n",
       "  </tbody>\n",
       "</table>\n",
       "</div>"
      ]
     },
     "execution_count": 193,
     "metadata": {},
     "output_type": "execute_result"
    }
   ],
   "execution_count": 193
  },
  {
   "metadata": {
    "ExecuteTime": {
     "end_time": "2024-06-16T10:33:43.038718Z",
     "start_time": "2024-06-16T10:33:41.536608Z"
    }
   },
   "cell_type": "code",
   "source": [
    "# Modelo base\n",
    "from sklearn.ensemble import RandomForestClassifier\n",
    "from sklearn.model_selection import cross_val_score\n",
    "\n",
    "X = train.drop('Survived', axis=1)\n",
    "y = train['Survived']\n",
    "\n",
    "model = RandomForestClassifier(criterion=\"gini\", random_state=42)\n",
    "model_score = cross_val_score(model, X, y, cv=5, scoring='accuracy')\n",
    "\n",
    "models_scores['Modelo Base'] = model_score.mean()\n",
    "\n",
    "print(f\"Modelo base: {model_score.mean()}\")"
   ],
   "id": "f11fb3543d1b3054",
   "outputs": [
    {
     "name": "stdout",
     "output_type": "stream",
     "text": [
      "Modelo base: 0.8137342288619672\n"
     ]
    }
   ],
   "execution_count": 194
  },
  {
   "metadata": {},
   "cell_type": "markdown",
   "source": "### ¿Mejora el modelo con la media en la edad en vez de la mediana?",
   "id": "18ed0918a8548f21"
  },
  {
   "metadata": {
    "ExecuteTime": {
     "end_time": "2024-06-16T10:33:43.062899Z",
     "start_time": "2024-06-16T10:33:43.038718Z"
    }
   },
   "cell_type": "code",
   "source": [
    "train_age_mean = train.copy()\n",
    "train_age_mean.drop('Age', axis=1, inplace=True)\n",
    "# Añadir columna 'Age' con la mediana de la edad del conjunto de datos original\n",
    "train_age_mean['Age'] = original_train['Age']\n",
    "train_age_mean['Age'] = train_age_mean['Age'].fillna(train_age_mean['Age'].mean())\n",
    "train_age_mean.head()"
   ],
   "id": "8cf616e9cb8279b2",
   "outputs": [
    {
     "data": {
      "text/plain": [
       "   Survived  Pclass     Fare  Sex_female  Sex_male   Age\n",
       "0         0       3   7.2500         0.0       1.0  22.0\n",
       "1         1       1  71.2833         1.0       0.0  38.0\n",
       "2         1       3   7.9250         1.0       0.0  26.0\n",
       "3         1       1  53.1000         1.0       0.0  35.0\n",
       "4         0       3   8.0500         0.0       1.0  35.0"
      ],
      "text/html": [
       "<div>\n",
       "<style scoped>\n",
       "    .dataframe tbody tr th:only-of-type {\n",
       "        vertical-align: middle;\n",
       "    }\n",
       "\n",
       "    .dataframe tbody tr th {\n",
       "        vertical-align: top;\n",
       "    }\n",
       "\n",
       "    .dataframe thead th {\n",
       "        text-align: right;\n",
       "    }\n",
       "</style>\n",
       "<table border=\"1\" class=\"dataframe\">\n",
       "  <thead>\n",
       "    <tr style=\"text-align: right;\">\n",
       "      <th></th>\n",
       "      <th>Survived</th>\n",
       "      <th>Pclass</th>\n",
       "      <th>Fare</th>\n",
       "      <th>Sex_female</th>\n",
       "      <th>Sex_male</th>\n",
       "      <th>Age</th>\n",
       "    </tr>\n",
       "  </thead>\n",
       "  <tbody>\n",
       "    <tr>\n",
       "      <th>0</th>\n",
       "      <td>0</td>\n",
       "      <td>3</td>\n",
       "      <td>7.2500</td>\n",
       "      <td>0.0</td>\n",
       "      <td>1.0</td>\n",
       "      <td>22.0</td>\n",
       "    </tr>\n",
       "    <tr>\n",
       "      <th>1</th>\n",
       "      <td>1</td>\n",
       "      <td>1</td>\n",
       "      <td>71.2833</td>\n",
       "      <td>1.0</td>\n",
       "      <td>0.0</td>\n",
       "      <td>38.0</td>\n",
       "    </tr>\n",
       "    <tr>\n",
       "      <th>2</th>\n",
       "      <td>1</td>\n",
       "      <td>3</td>\n",
       "      <td>7.9250</td>\n",
       "      <td>1.0</td>\n",
       "      <td>0.0</td>\n",
       "      <td>26.0</td>\n",
       "    </tr>\n",
       "    <tr>\n",
       "      <th>3</th>\n",
       "      <td>1</td>\n",
       "      <td>1</td>\n",
       "      <td>53.1000</td>\n",
       "      <td>1.0</td>\n",
       "      <td>0.0</td>\n",
       "      <td>35.0</td>\n",
       "    </tr>\n",
       "    <tr>\n",
       "      <th>4</th>\n",
       "      <td>0</td>\n",
       "      <td>3</td>\n",
       "      <td>8.0500</td>\n",
       "      <td>0.0</td>\n",
       "      <td>1.0</td>\n",
       "      <td>35.0</td>\n",
       "    </tr>\n",
       "  </tbody>\n",
       "</table>\n",
       "</div>"
      ]
     },
     "execution_count": 195,
     "metadata": {},
     "output_type": "execute_result"
    }
   ],
   "execution_count": 195
  },
  {
   "metadata": {
    "ExecuteTime": {
     "end_time": "2024-06-16T10:33:44.648100Z",
     "start_time": "2024-06-16T10:33:43.062899Z"
    }
   },
   "cell_type": "code",
   "source": [
    "from sklearn.ensemble import RandomForestClassifier\n",
    "from sklearn.model_selection import cross_val_score\n",
    "\n",
    "X = train_age_mean.drop('Survived', axis=1)\n",
    "y = train_age_mean['Survived']\n",
    "\n",
    "model = RandomForestClassifier(criterion=\"gini\", random_state=42)\n",
    "model_score = cross_val_score(model, X, y, cv=5, scoring='accuracy')\n",
    "\n",
    "models_scores['Modelo Con La Media'] = model_score.mean()\n",
    "\n",
    "print(f\"Modelo base: {model_score.mean()}\")"
   ],
   "id": "2a55c10ab6b3de39",
   "outputs": [
    {
     "name": "stdout",
     "output_type": "stream",
     "text": [
      "Modelo base: 0.8182286108844391\n"
     ]
    }
   ],
   "execution_count": 196
  },
  {
   "metadata": {},
   "cell_type": "markdown",
   "source": "Como podemos observar, el modelo base con la edad reemplazada por la media tiene un mejor rendimiento que el modelo base con la edad reemplazada por la mediana. Por lo tanto, vamos a utilizar la media para reemplazar los valores faltantes de la columna `Age`.",
   "id": "cc9af8410fc0beff"
  },
  {
   "metadata": {
    "ExecuteTime": {
     "end_time": "2024-06-16T10:33:44.658817Z",
     "start_time": "2024-06-16T10:33:44.648100Z"
    }
   },
   "cell_type": "code",
   "source": [
    "train.drop('Age', axis=1, inplace=True)\n",
    "train['Age'] = train_age_mean['Age']"
   ],
   "id": "74a3485003fc1510",
   "outputs": [],
   "execution_count": 197
  },
  {
   "metadata": {},
   "cell_type": "markdown",
   "source": "### ¿Mejora el modelo con la extracción del título de la columna Name?",
   "id": "aacfa2769f746d4"
  },
  {
   "metadata": {
    "ExecuteTime": {
     "end_time": "2024-06-16T10:33:44.678555Z",
     "start_time": "2024-06-16T10:33:44.660686Z"
    }
   },
   "cell_type": "code",
   "source": [
    "# Extraer el título de la columna 'Name' y crear la columna 'Title'\n",
    "train['Title'] = original_train['Name'].str.extract(' ([A-Za-z]+)\\.', expand=False)\n",
    "\n",
    "# Reemplazar títulos raros por 'Rare'\n",
    "train['Title'] = train['Title'].replace(['Lady', 'Countess','Capt', 'Col', 'Don', 'Dr', 'Major', 'Rev', 'Sir', 'Jonkheer', 'Dona'], 'Rare')\n",
    "\n",
    "# Reemplazar títulos en otros idiomas por su traducción en inglés\n",
    "train['Title'] = train['Title'].replace('Mlle', 'Miss')\n",
    "train['Title'] = train['Title'].replace('Ms', 'Miss')\n",
    "train['Title'] = train['Title'].replace('Mme', 'Mrs')"
   ],
   "id": "dbda1592613996fd",
   "outputs": [],
   "execution_count": 198
  },
  {
   "metadata": {
    "ExecuteTime": {
     "end_time": "2024-06-16T10:33:44.687236Z",
     "start_time": "2024-06-16T10:33:44.678555Z"
    }
   },
   "cell_type": "code",
   "source": [
    "# Unicos\n",
    "print(train['Title'].unique())"
   ],
   "id": "bcf370568a95b002",
   "outputs": [
    {
     "name": "stdout",
     "output_type": "stream",
     "text": [
      "['Mr' 'Mrs' 'Miss' 'Master' 'Rare']\n"
     ]
    }
   ],
   "execution_count": 199
  },
  {
   "metadata": {},
   "cell_type": "markdown",
   "source": "Al haber poca cardinalidad en la columna `Title`, vamos a realizar la codificación one-hot.",
   "id": "a5f0daabf4607f00"
  },
  {
   "metadata": {
    "ExecuteTime": {
     "end_time": "2024-06-16T10:33:44.718011Z",
     "start_time": "2024-06-16T10:33:44.689744Z"
    }
   },
   "cell_type": "code",
   "source": [
    "from sklearn.preprocessing import OneHotEncoder\n",
    "\n",
    "train_name = train.copy()\n",
    "\n",
    "categorical_columns_base_model = train_name.select_dtypes(include=['object'])\n",
    "encoder = OneHotEncoder()\n",
    "encoded_columns_base_model = encoder.fit_transform(categorical_columns_base_model)\n",
    "feature_names_base_model = encoder.get_feature_names_out(categorical_columns_base_model.columns)\n",
    "encoded_columns_df_base_model = pd.DataFrame(encoded_columns_base_model.toarray(), columns=feature_names_base_model)\n",
    "\n",
    "train_name = pd.concat(\n",
    "    [train_name.drop(categorical_columns_base_model.columns, axis=1), encoded_columns_df_base_model], axis=1)\n",
    "\n",
    "train_name.head()"
   ],
   "id": "ea7e2ec5002d5a33",
   "outputs": [
    {
     "data": {
      "text/plain": [
       "   Survived  Pclass     Fare  Sex_female  Sex_male   Age  Title_Master  \\\n",
       "0         0       3   7.2500         0.0       1.0  22.0           0.0   \n",
       "1         1       1  71.2833         1.0       0.0  38.0           0.0   \n",
       "2         1       3   7.9250         1.0       0.0  26.0           0.0   \n",
       "3         1       1  53.1000         1.0       0.0  35.0           0.0   \n",
       "4         0       3   8.0500         0.0       1.0  35.0           0.0   \n",
       "\n",
       "   Title_Miss  Title_Mr  Title_Mrs  Title_Rare  \n",
       "0         0.0       1.0        0.0         0.0  \n",
       "1         0.0       0.0        1.0         0.0  \n",
       "2         1.0       0.0        0.0         0.0  \n",
       "3         0.0       0.0        1.0         0.0  \n",
       "4         0.0       1.0        0.0         0.0  "
      ],
      "text/html": [
       "<div>\n",
       "<style scoped>\n",
       "    .dataframe tbody tr th:only-of-type {\n",
       "        vertical-align: middle;\n",
       "    }\n",
       "\n",
       "    .dataframe tbody tr th {\n",
       "        vertical-align: top;\n",
       "    }\n",
       "\n",
       "    .dataframe thead th {\n",
       "        text-align: right;\n",
       "    }\n",
       "</style>\n",
       "<table border=\"1\" class=\"dataframe\">\n",
       "  <thead>\n",
       "    <tr style=\"text-align: right;\">\n",
       "      <th></th>\n",
       "      <th>Survived</th>\n",
       "      <th>Pclass</th>\n",
       "      <th>Fare</th>\n",
       "      <th>Sex_female</th>\n",
       "      <th>Sex_male</th>\n",
       "      <th>Age</th>\n",
       "      <th>Title_Master</th>\n",
       "      <th>Title_Miss</th>\n",
       "      <th>Title_Mr</th>\n",
       "      <th>Title_Mrs</th>\n",
       "      <th>Title_Rare</th>\n",
       "    </tr>\n",
       "  </thead>\n",
       "  <tbody>\n",
       "    <tr>\n",
       "      <th>0</th>\n",
       "      <td>0</td>\n",
       "      <td>3</td>\n",
       "      <td>7.2500</td>\n",
       "      <td>0.0</td>\n",
       "      <td>1.0</td>\n",
       "      <td>22.0</td>\n",
       "      <td>0.0</td>\n",
       "      <td>0.0</td>\n",
       "      <td>1.0</td>\n",
       "      <td>0.0</td>\n",
       "      <td>0.0</td>\n",
       "    </tr>\n",
       "    <tr>\n",
       "      <th>1</th>\n",
       "      <td>1</td>\n",
       "      <td>1</td>\n",
       "      <td>71.2833</td>\n",
       "      <td>1.0</td>\n",
       "      <td>0.0</td>\n",
       "      <td>38.0</td>\n",
       "      <td>0.0</td>\n",
       "      <td>0.0</td>\n",
       "      <td>0.0</td>\n",
       "      <td>1.0</td>\n",
       "      <td>0.0</td>\n",
       "    </tr>\n",
       "    <tr>\n",
       "      <th>2</th>\n",
       "      <td>1</td>\n",
       "      <td>3</td>\n",
       "      <td>7.9250</td>\n",
       "      <td>1.0</td>\n",
       "      <td>0.0</td>\n",
       "      <td>26.0</td>\n",
       "      <td>0.0</td>\n",
       "      <td>1.0</td>\n",
       "      <td>0.0</td>\n",
       "      <td>0.0</td>\n",
       "      <td>0.0</td>\n",
       "    </tr>\n",
       "    <tr>\n",
       "      <th>3</th>\n",
       "      <td>1</td>\n",
       "      <td>1</td>\n",
       "      <td>53.1000</td>\n",
       "      <td>1.0</td>\n",
       "      <td>0.0</td>\n",
       "      <td>35.0</td>\n",
       "      <td>0.0</td>\n",
       "      <td>0.0</td>\n",
       "      <td>0.0</td>\n",
       "      <td>1.0</td>\n",
       "      <td>0.0</td>\n",
       "    </tr>\n",
       "    <tr>\n",
       "      <th>4</th>\n",
       "      <td>0</td>\n",
       "      <td>3</td>\n",
       "      <td>8.0500</td>\n",
       "      <td>0.0</td>\n",
       "      <td>1.0</td>\n",
       "      <td>35.0</td>\n",
       "      <td>0.0</td>\n",
       "      <td>0.0</td>\n",
       "      <td>1.0</td>\n",
       "      <td>0.0</td>\n",
       "      <td>0.0</td>\n",
       "    </tr>\n",
       "  </tbody>\n",
       "</table>\n",
       "</div>"
      ]
     },
     "execution_count": 200,
     "metadata": {},
     "output_type": "execute_result"
    }
   ],
   "execution_count": 200
  },
  {
   "metadata": {
    "ExecuteTime": {
     "end_time": "2024-06-16T10:33:46.180338Z",
     "start_time": "2024-06-16T10:33:44.718011Z"
    }
   },
   "cell_type": "code",
   "source": [
    "from sklearn.ensemble import RandomForestClassifier\n",
    "from sklearn.model_selection import cross_val_score\n",
    "\n",
    "X = train_name.drop('Survived', axis=1)\n",
    "y = train_name['Survived']\n",
    "\n",
    "model = RandomForestClassifier(criterion=\"gini\", random_state=42)\n",
    "model_score = cross_val_score(model, X, y, cv=5, scoring='accuracy')\n",
    "\n",
    "models_scores['Modelo Extracción Name'] = model_score.mean()\n",
    "\n",
    "print(f\"Modelo base: {model_score.mean()}\")"
   ],
   "id": "b726062c18346eeb",
   "outputs": [
    {
     "name": "stdout",
     "output_type": "stream",
     "text": [
      "Modelo base: 0.8193145439708743\n"
     ]
    }
   ],
   "execution_count": 201
  },
  {
   "metadata": {},
   "cell_type": "markdown",
   "source": "Como podemos observar el rendimiento del modelo ha disminuido, por eso vamos a eliminar la columna `Title`.",
   "id": "a4a5effda0465462"
  },
  {
   "metadata": {
    "ExecuteTime": {
     "end_time": "2024-06-16T10:33:46.190648Z",
     "start_time": "2024-06-16T10:33:46.180338Z"
    }
   },
   "cell_type": "code",
   "source": "train.drop('Title', axis=1, inplace=True)",
   "id": "d4bf4f1eba781903",
   "outputs": [],
   "execution_count": 202
  },
  {
   "metadata": {},
   "cell_type": "markdown",
   "source": "### ¿Mejora el modelo con la creación de la característica FamilySize?",
   "id": "2e2242d0be78f529"
  },
  {
   "metadata": {},
   "cell_type": "markdown",
   "source": "Ahora es cuando volvemos a añadir las columnas `SibSp` y `Parch` para realizar la ingeniería de propiedades.",
   "id": "b11132533446a5b5"
  },
  {
   "metadata": {
    "ExecuteTime": {
     "end_time": "2024-06-16T10:33:46.206791Z",
     "start_time": "2024-06-16T10:33:46.196671Z"
    }
   },
   "cell_type": "code",
   "source": [
    "train_family_size = train.copy()\n",
    "\n",
    "# Tamaño de la familia\n",
    "train_family_size['FamilySize'] = original_train['SibSp'] + original_train['Parch'] + 1 # +1 para incluir al pasajero\n",
    "\n",
    "# Eliminar las columnas 'SibSp' y 'Parch'\n",
    "# train_family_size.drop(['SibSp', 'Parch'], axis=1, inplace=True)"
   ],
   "id": "83207b18822d1bbd",
   "outputs": [],
   "execution_count": 203
  },
  {
   "metadata": {
    "ExecuteTime": {
     "end_time": "2024-06-16T10:33:46.227544Z",
     "start_time": "2024-06-16T10:33:46.209702Z"
    }
   },
   "cell_type": "code",
   "source": "train_family_size.head()",
   "id": "384b51f5656e51ae",
   "outputs": [
    {
     "data": {
      "text/plain": [
       "   Survived  Pclass     Fare  Sex_female  Sex_male   Age  FamilySize\n",
       "0         0       3   7.2500         0.0       1.0  22.0           2\n",
       "1         1       1  71.2833         1.0       0.0  38.0           2\n",
       "2         1       3   7.9250         1.0       0.0  26.0           1\n",
       "3         1       1  53.1000         1.0       0.0  35.0           2\n",
       "4         0       3   8.0500         0.0       1.0  35.0           1"
      ],
      "text/html": [
       "<div>\n",
       "<style scoped>\n",
       "    .dataframe tbody tr th:only-of-type {\n",
       "        vertical-align: middle;\n",
       "    }\n",
       "\n",
       "    .dataframe tbody tr th {\n",
       "        vertical-align: top;\n",
       "    }\n",
       "\n",
       "    .dataframe thead th {\n",
       "        text-align: right;\n",
       "    }\n",
       "</style>\n",
       "<table border=\"1\" class=\"dataframe\">\n",
       "  <thead>\n",
       "    <tr style=\"text-align: right;\">\n",
       "      <th></th>\n",
       "      <th>Survived</th>\n",
       "      <th>Pclass</th>\n",
       "      <th>Fare</th>\n",
       "      <th>Sex_female</th>\n",
       "      <th>Sex_male</th>\n",
       "      <th>Age</th>\n",
       "      <th>FamilySize</th>\n",
       "    </tr>\n",
       "  </thead>\n",
       "  <tbody>\n",
       "    <tr>\n",
       "      <th>0</th>\n",
       "      <td>0</td>\n",
       "      <td>3</td>\n",
       "      <td>7.2500</td>\n",
       "      <td>0.0</td>\n",
       "      <td>1.0</td>\n",
       "      <td>22.0</td>\n",
       "      <td>2</td>\n",
       "    </tr>\n",
       "    <tr>\n",
       "      <th>1</th>\n",
       "      <td>1</td>\n",
       "      <td>1</td>\n",
       "      <td>71.2833</td>\n",
       "      <td>1.0</td>\n",
       "      <td>0.0</td>\n",
       "      <td>38.0</td>\n",
       "      <td>2</td>\n",
       "    </tr>\n",
       "    <tr>\n",
       "      <th>2</th>\n",
       "      <td>1</td>\n",
       "      <td>3</td>\n",
       "      <td>7.9250</td>\n",
       "      <td>1.0</td>\n",
       "      <td>0.0</td>\n",
       "      <td>26.0</td>\n",
       "      <td>1</td>\n",
       "    </tr>\n",
       "    <tr>\n",
       "      <th>3</th>\n",
       "      <td>1</td>\n",
       "      <td>1</td>\n",
       "      <td>53.1000</td>\n",
       "      <td>1.0</td>\n",
       "      <td>0.0</td>\n",
       "      <td>35.0</td>\n",
       "      <td>2</td>\n",
       "    </tr>\n",
       "    <tr>\n",
       "      <th>4</th>\n",
       "      <td>0</td>\n",
       "      <td>3</td>\n",
       "      <td>8.0500</td>\n",
       "      <td>0.0</td>\n",
       "      <td>1.0</td>\n",
       "      <td>35.0</td>\n",
       "      <td>1</td>\n",
       "    </tr>\n",
       "  </tbody>\n",
       "</table>\n",
       "</div>"
      ]
     },
     "execution_count": 204,
     "metadata": {},
     "output_type": "execute_result"
    }
   ],
   "execution_count": 204
  },
  {
   "metadata": {
    "ExecuteTime": {
     "end_time": "2024-06-16T10:33:47.879579Z",
     "start_time": "2024-06-16T10:33:46.227544Z"
    }
   },
   "cell_type": "code",
   "source": [
    "from sklearn.ensemble import RandomForestClassifier\n",
    "from sklearn.model_selection import cross_val_score\n",
    "\n",
    "X = train_family_size.drop('Survived', axis=1)\n",
    "y = train_family_size['Survived']\n",
    "\n",
    "model = RandomForestClassifier(criterion=\"gini\", random_state=42)\n",
    "model_score = cross_val_score(model, X, y, cv=5, scoring='accuracy')\n",
    "\n",
    "models_scores['Modelo FamilySize'] = model_score.mean()\n",
    "\n",
    "print(f\"Modelo base: {model_score.mean()}\")"
   ],
   "id": "8582010f24b33a36",
   "outputs": [
    {
     "name": "stdout",
     "output_type": "stream",
     "text": [
      "Modelo base: 0.8204883560354027\n"
     ]
    }
   ],
   "execution_count": 205
  },
  {
   "metadata": {},
   "cell_type": "markdown",
   "source": "Como podemos observar, el rendimiento del modelo ha aumentado, por lo que vamos a utilizar la característica `FamilySize`.",
   "id": "ee5c9795dc419963"
  },
  {
   "metadata": {
    "ExecuteTime": {
     "end_time": "2024-06-16T10:33:47.889161Z",
     "start_time": "2024-06-16T10:33:47.879579Z"
    }
   },
   "cell_type": "code",
   "source": [
    "# train.drop(['SibSp', 'Parch'], axis=1, inplace=True)\n",
    "train['FamilySize'] = train_family_size['FamilySize']"
   ],
   "id": "4ccafc8c0c4dcb18",
   "outputs": [],
   "execution_count": 206
  },
  {
   "metadata": {},
   "cell_type": "markdown",
   "source": "### ¿Mejora el modelo con la creación de bandas de edad?",
   "id": "18bfc3516266234f"
  },
  {
   "metadata": {
    "ExecuteTime": {
     "end_time": "2024-06-16T10:33:47.910685Z",
     "start_time": "2024-06-16T10:33:47.891642Z"
    }
   },
   "cell_type": "code",
   "source": "train.head()",
   "id": "416cb8e37f41389a",
   "outputs": [
    {
     "data": {
      "text/plain": [
       "   Survived  Pclass     Fare  Sex_female  Sex_male   Age  FamilySize\n",
       "0         0       3   7.2500         0.0       1.0  22.0           2\n",
       "1         1       1  71.2833         1.0       0.0  38.0           2\n",
       "2         1       3   7.9250         1.0       0.0  26.0           1\n",
       "3         1       1  53.1000         1.0       0.0  35.0           2\n",
       "4         0       3   8.0500         0.0       1.0  35.0           1"
      ],
      "text/html": [
       "<div>\n",
       "<style scoped>\n",
       "    .dataframe tbody tr th:only-of-type {\n",
       "        vertical-align: middle;\n",
       "    }\n",
       "\n",
       "    .dataframe tbody tr th {\n",
       "        vertical-align: top;\n",
       "    }\n",
       "\n",
       "    .dataframe thead th {\n",
       "        text-align: right;\n",
       "    }\n",
       "</style>\n",
       "<table border=\"1\" class=\"dataframe\">\n",
       "  <thead>\n",
       "    <tr style=\"text-align: right;\">\n",
       "      <th></th>\n",
       "      <th>Survived</th>\n",
       "      <th>Pclass</th>\n",
       "      <th>Fare</th>\n",
       "      <th>Sex_female</th>\n",
       "      <th>Sex_male</th>\n",
       "      <th>Age</th>\n",
       "      <th>FamilySize</th>\n",
       "    </tr>\n",
       "  </thead>\n",
       "  <tbody>\n",
       "    <tr>\n",
       "      <th>0</th>\n",
       "      <td>0</td>\n",
       "      <td>3</td>\n",
       "      <td>7.2500</td>\n",
       "      <td>0.0</td>\n",
       "      <td>1.0</td>\n",
       "      <td>22.0</td>\n",
       "      <td>2</td>\n",
       "    </tr>\n",
       "    <tr>\n",
       "      <th>1</th>\n",
       "      <td>1</td>\n",
       "      <td>1</td>\n",
       "      <td>71.2833</td>\n",
       "      <td>1.0</td>\n",
       "      <td>0.0</td>\n",
       "      <td>38.0</td>\n",
       "      <td>2</td>\n",
       "    </tr>\n",
       "    <tr>\n",
       "      <th>2</th>\n",
       "      <td>1</td>\n",
       "      <td>3</td>\n",
       "      <td>7.9250</td>\n",
       "      <td>1.0</td>\n",
       "      <td>0.0</td>\n",
       "      <td>26.0</td>\n",
       "      <td>1</td>\n",
       "    </tr>\n",
       "    <tr>\n",
       "      <th>3</th>\n",
       "      <td>1</td>\n",
       "      <td>1</td>\n",
       "      <td>53.1000</td>\n",
       "      <td>1.0</td>\n",
       "      <td>0.0</td>\n",
       "      <td>35.0</td>\n",
       "      <td>2</td>\n",
       "    </tr>\n",
       "    <tr>\n",
       "      <th>4</th>\n",
       "      <td>0</td>\n",
       "      <td>3</td>\n",
       "      <td>8.0500</td>\n",
       "      <td>0.0</td>\n",
       "      <td>1.0</td>\n",
       "      <td>35.0</td>\n",
       "      <td>1</td>\n",
       "    </tr>\n",
       "  </tbody>\n",
       "</table>\n",
       "</div>"
      ]
     },
     "execution_count": 207,
     "metadata": {},
     "output_type": "execute_result"
    }
   ],
   "execution_count": 207
  },
  {
   "metadata": {
    "ExecuteTime": {
     "end_time": "2024-06-16T10:33:47.920217Z",
     "start_time": "2024-06-16T10:33:47.911719Z"
    }
   },
   "cell_type": "code",
   "source": "train_age_band = train.copy()",
   "id": "194d83d8a250b979",
   "outputs": [],
   "execution_count": 208
  },
  {
   "metadata": {
    "ExecuteTime": {
     "end_time": "2024-06-16T10:33:47.937107Z",
     "start_time": "2024-06-16T10:33:47.923113Z"
    }
   },
   "cell_type": "code",
   "source": [
    "# Edad en bandas\n",
    "train_age_band['AgeBand'] = pd.cut(train['Age'], 5)\n",
    "# Eliminar la columna 'Age'\n",
    "train_age_band.drop('Age', axis=1, inplace=True)"
   ],
   "id": "85e50ff185950bfa",
   "outputs": [],
   "execution_count": 209
  },
  {
   "metadata": {
    "ExecuteTime": {
     "end_time": "2024-06-16T10:33:47.952537Z",
     "start_time": "2024-06-16T10:33:47.937107Z"
    }
   },
   "cell_type": "code",
   "source": [
    "# Cambiar el tipo de dato de la columna 'AgeBand' a string\n",
    "train_age_band['AgeBand'] = train_age_band['AgeBand'].astype(str)\n",
    "train_age_band['AgeBand'].head()"
   ],
   "id": "4be315dff21e6c68",
   "outputs": [
    {
     "data": {
      "text/plain": [
       "0    (16.336, 32.252]\n",
       "1    (32.252, 48.168]\n",
       "2    (16.336, 32.252]\n",
       "3    (32.252, 48.168]\n",
       "4    (32.252, 48.168]\n",
       "Name: AgeBand, dtype: object"
      ]
     },
     "execution_count": 210,
     "metadata": {},
     "output_type": "execute_result"
    }
   ],
   "execution_count": 210
  },
  {
   "metadata": {
    "ExecuteTime": {
     "end_time": "2024-06-16T10:33:47.991151Z",
     "start_time": "2024-06-16T10:33:47.952537Z"
    }
   },
   "cell_type": "code",
   "source": [
    "categorical_columns_base_model = train_age_band.select_dtypes(include=['object'])\n",
    "encoder = OneHotEncoder()\n",
    "encoded_columns_base_model = encoder.fit_transform(categorical_columns_base_model)\n",
    "feature_names_base_model = encoder.get_feature_names_out(categorical_columns_base_model.columns)\n",
    "encoded_columns_df_base_model = pd.DataFrame(encoded_columns_base_model.toarray(), columns=feature_names_base_model)\n",
    "\n",
    "train_age_band = pd.concat(\n",
    "    [train_age_band.drop(categorical_columns_base_model.columns, axis=1), encoded_columns_df_base_model], axis=1)\n",
    "\n",
    "train_age_band.head()"
   ],
   "id": "77e1b62c5aee795d",
   "outputs": [
    {
     "data": {
      "text/plain": [
       "   Survived  Pclass     Fare  Sex_female  Sex_male  FamilySize  \\\n",
       "0         0       3   7.2500         0.0       1.0           2   \n",
       "1         1       1  71.2833         1.0       0.0           2   \n",
       "2         1       3   7.9250         1.0       0.0           1   \n",
       "3         1       1  53.1000         1.0       0.0           2   \n",
       "4         0       3   8.0500         0.0       1.0           1   \n",
       "\n",
       "   AgeBand_(0.34, 16.336]  AgeBand_(16.336, 32.252]  AgeBand_(32.252, 48.168]  \\\n",
       "0                     0.0                       1.0                       0.0   \n",
       "1                     0.0                       0.0                       1.0   \n",
       "2                     0.0                       1.0                       0.0   \n",
       "3                     0.0                       0.0                       1.0   \n",
       "4                     0.0                       0.0                       1.0   \n",
       "\n",
       "   AgeBand_(48.168, 64.084]  AgeBand_(64.084, 80.0]  \n",
       "0                       0.0                     0.0  \n",
       "1                       0.0                     0.0  \n",
       "2                       0.0                     0.0  \n",
       "3                       0.0                     0.0  \n",
       "4                       0.0                     0.0  "
      ],
      "text/html": [
       "<div>\n",
       "<style scoped>\n",
       "    .dataframe tbody tr th:only-of-type {\n",
       "        vertical-align: middle;\n",
       "    }\n",
       "\n",
       "    .dataframe tbody tr th {\n",
       "        vertical-align: top;\n",
       "    }\n",
       "\n",
       "    .dataframe thead th {\n",
       "        text-align: right;\n",
       "    }\n",
       "</style>\n",
       "<table border=\"1\" class=\"dataframe\">\n",
       "  <thead>\n",
       "    <tr style=\"text-align: right;\">\n",
       "      <th></th>\n",
       "      <th>Survived</th>\n",
       "      <th>Pclass</th>\n",
       "      <th>Fare</th>\n",
       "      <th>Sex_female</th>\n",
       "      <th>Sex_male</th>\n",
       "      <th>FamilySize</th>\n",
       "      <th>AgeBand_(0.34, 16.336]</th>\n",
       "      <th>AgeBand_(16.336, 32.252]</th>\n",
       "      <th>AgeBand_(32.252, 48.168]</th>\n",
       "      <th>AgeBand_(48.168, 64.084]</th>\n",
       "      <th>AgeBand_(64.084, 80.0]</th>\n",
       "    </tr>\n",
       "  </thead>\n",
       "  <tbody>\n",
       "    <tr>\n",
       "      <th>0</th>\n",
       "      <td>0</td>\n",
       "      <td>3</td>\n",
       "      <td>7.2500</td>\n",
       "      <td>0.0</td>\n",
       "      <td>1.0</td>\n",
       "      <td>2</td>\n",
       "      <td>0.0</td>\n",
       "      <td>1.0</td>\n",
       "      <td>0.0</td>\n",
       "      <td>0.0</td>\n",
       "      <td>0.0</td>\n",
       "    </tr>\n",
       "    <tr>\n",
       "      <th>1</th>\n",
       "      <td>1</td>\n",
       "      <td>1</td>\n",
       "      <td>71.2833</td>\n",
       "      <td>1.0</td>\n",
       "      <td>0.0</td>\n",
       "      <td>2</td>\n",
       "      <td>0.0</td>\n",
       "      <td>0.0</td>\n",
       "      <td>1.0</td>\n",
       "      <td>0.0</td>\n",
       "      <td>0.0</td>\n",
       "    </tr>\n",
       "    <tr>\n",
       "      <th>2</th>\n",
       "      <td>1</td>\n",
       "      <td>3</td>\n",
       "      <td>7.9250</td>\n",
       "      <td>1.0</td>\n",
       "      <td>0.0</td>\n",
       "      <td>1</td>\n",
       "      <td>0.0</td>\n",
       "      <td>1.0</td>\n",
       "      <td>0.0</td>\n",
       "      <td>0.0</td>\n",
       "      <td>0.0</td>\n",
       "    </tr>\n",
       "    <tr>\n",
       "      <th>3</th>\n",
       "      <td>1</td>\n",
       "      <td>1</td>\n",
       "      <td>53.1000</td>\n",
       "      <td>1.0</td>\n",
       "      <td>0.0</td>\n",
       "      <td>2</td>\n",
       "      <td>0.0</td>\n",
       "      <td>0.0</td>\n",
       "      <td>1.0</td>\n",
       "      <td>0.0</td>\n",
       "      <td>0.0</td>\n",
       "    </tr>\n",
       "    <tr>\n",
       "      <th>4</th>\n",
       "      <td>0</td>\n",
       "      <td>3</td>\n",
       "      <td>8.0500</td>\n",
       "      <td>0.0</td>\n",
       "      <td>1.0</td>\n",
       "      <td>1</td>\n",
       "      <td>0.0</td>\n",
       "      <td>0.0</td>\n",
       "      <td>1.0</td>\n",
       "      <td>0.0</td>\n",
       "      <td>0.0</td>\n",
       "    </tr>\n",
       "  </tbody>\n",
       "</table>\n",
       "</div>"
      ]
     },
     "execution_count": 211,
     "metadata": {},
     "output_type": "execute_result"
    }
   ],
   "execution_count": 211
  },
  {
   "metadata": {
    "ExecuteTime": {
     "end_time": "2024-06-16T10:33:49.513072Z",
     "start_time": "2024-06-16T10:33:47.992765Z"
    }
   },
   "cell_type": "code",
   "source": [
    "from sklearn.ensemble import RandomForestClassifier\n",
    "from sklearn.model_selection import cross_val_score\n",
    "\n",
    "X = train_age_band.drop('Survived', axis=1)\n",
    "y = train_age_band['Survived']\n",
    "\n",
    "model = RandomForestClassifier(criterion=\"gini\", random_state=42)\n",
    "model_score = cross_val_score(model, X, y, cv=5, scoring='accuracy')\n",
    "\n",
    "models_scores['Modelo Bandas Edad One Hot Encoding'] = model_score.mean()\n",
    "\n",
    "print(f\"Modelo base: {model_score.mean()}\")"
   ],
   "id": "e6de2cbc4b44fdbf",
   "outputs": [
    {
     "name": "stdout",
     "output_type": "stream",
     "text": [
      "Modelo base: 0.8002699140041429\n"
     ]
    }
   ],
   "execution_count": 212
  },
  {
   "metadata": {},
   "cell_type": "markdown",
   "source": "Ahora lo haré con Target Encoding, para ver si mejora el modelo.",
   "id": "b810ff7404d644f0"
  },
  {
   "metadata": {
    "ExecuteTime": {
     "end_time": "2024-06-16T10:33:49.521735Z",
     "start_time": "2024-06-16T10:33:49.515279Z"
    }
   },
   "cell_type": "code",
   "source": "train_age_band = train.copy()",
   "id": "7274057c3cddb2f8",
   "outputs": [],
   "execution_count": 213
  },
  {
   "metadata": {
    "ExecuteTime": {
     "end_time": "2024-06-16T10:33:49.535651Z",
     "start_time": "2024-06-16T10:33:49.523002Z"
    }
   },
   "cell_type": "code",
   "source": [
    "# Edad en bandas\n",
    "train_age_band['AgeBand'] = pd.cut(train['Age'], 5)\n",
    "# Eliminar la columna 'Age'\n",
    "train_age_band.drop('Age', axis=1, inplace=True)"
   ],
   "id": "e917204304287de7",
   "outputs": [],
   "execution_count": 214
  },
  {
   "metadata": {
    "ExecuteTime": {
     "end_time": "2024-06-16T10:33:49.550127Z",
     "start_time": "2024-06-16T10:33:49.537907Z"
    }
   },
   "cell_type": "code",
   "source": [
    "# Cambiar el tipo de dato de la columna 'AgeBand' a string\n",
    "train_age_band['AgeBand'] = train_age_band['AgeBand'].astype(str)\n",
    "train_age_band['AgeBand'].head()"
   ],
   "id": "55e4a4d23f799945",
   "outputs": [
    {
     "data": {
      "text/plain": [
       "0    (16.336, 32.252]\n",
       "1    (32.252, 48.168]\n",
       "2    (16.336, 32.252]\n",
       "3    (32.252, 48.168]\n",
       "4    (32.252, 48.168]\n",
       "Name: AgeBand, dtype: object"
      ]
     },
     "execution_count": 215,
     "metadata": {},
     "output_type": "execute_result"
    }
   ],
   "execution_count": 215
  },
  {
   "metadata": {
    "ExecuteTime": {
     "end_time": "2024-06-16T10:33:49.572156Z",
     "start_time": "2024-06-16T10:33:49.551170Z"
    }
   },
   "cell_type": "code",
   "source": [
    "# Target encoding a la columna 'AgeBand'\n",
    "train_age_band['AgeBand'] = train_age_band['AgeBand'].map(train_age_band.groupby('AgeBand')['Survived'].mean())\n",
    "\n",
    "train_age_band.head()"
   ],
   "id": "c557a59b4a8d57c4",
   "outputs": [
    {
     "data": {
      "text/plain": [
       "   Survived  Pclass     Fare  Sex_female  Sex_male  FamilySize   AgeBand\n",
       "0         0       3   7.2500         0.0       1.0           2  0.344168\n",
       "1         1       1  71.2833         1.0       0.0           2  0.404255\n",
       "2         1       3   7.9250         1.0       0.0           1  0.344168\n",
       "3         1       1  53.1000         1.0       0.0           2  0.404255\n",
       "4         0       3   8.0500         0.0       1.0           1  0.404255"
      ],
      "text/html": [
       "<div>\n",
       "<style scoped>\n",
       "    .dataframe tbody tr th:only-of-type {\n",
       "        vertical-align: middle;\n",
       "    }\n",
       "\n",
       "    .dataframe tbody tr th {\n",
       "        vertical-align: top;\n",
       "    }\n",
       "\n",
       "    .dataframe thead th {\n",
       "        text-align: right;\n",
       "    }\n",
       "</style>\n",
       "<table border=\"1\" class=\"dataframe\">\n",
       "  <thead>\n",
       "    <tr style=\"text-align: right;\">\n",
       "      <th></th>\n",
       "      <th>Survived</th>\n",
       "      <th>Pclass</th>\n",
       "      <th>Fare</th>\n",
       "      <th>Sex_female</th>\n",
       "      <th>Sex_male</th>\n",
       "      <th>FamilySize</th>\n",
       "      <th>AgeBand</th>\n",
       "    </tr>\n",
       "  </thead>\n",
       "  <tbody>\n",
       "    <tr>\n",
       "      <th>0</th>\n",
       "      <td>0</td>\n",
       "      <td>3</td>\n",
       "      <td>7.2500</td>\n",
       "      <td>0.0</td>\n",
       "      <td>1.0</td>\n",
       "      <td>2</td>\n",
       "      <td>0.344168</td>\n",
       "    </tr>\n",
       "    <tr>\n",
       "      <th>1</th>\n",
       "      <td>1</td>\n",
       "      <td>1</td>\n",
       "      <td>71.2833</td>\n",
       "      <td>1.0</td>\n",
       "      <td>0.0</td>\n",
       "      <td>2</td>\n",
       "      <td>0.404255</td>\n",
       "    </tr>\n",
       "    <tr>\n",
       "      <th>2</th>\n",
       "      <td>1</td>\n",
       "      <td>3</td>\n",
       "      <td>7.9250</td>\n",
       "      <td>1.0</td>\n",
       "      <td>0.0</td>\n",
       "      <td>1</td>\n",
       "      <td>0.344168</td>\n",
       "    </tr>\n",
       "    <tr>\n",
       "      <th>3</th>\n",
       "      <td>1</td>\n",
       "      <td>1</td>\n",
       "      <td>53.1000</td>\n",
       "      <td>1.0</td>\n",
       "      <td>0.0</td>\n",
       "      <td>2</td>\n",
       "      <td>0.404255</td>\n",
       "    </tr>\n",
       "    <tr>\n",
       "      <th>4</th>\n",
       "      <td>0</td>\n",
       "      <td>3</td>\n",
       "      <td>8.0500</td>\n",
       "      <td>0.0</td>\n",
       "      <td>1.0</td>\n",
       "      <td>1</td>\n",
       "      <td>0.404255</td>\n",
       "    </tr>\n",
       "  </tbody>\n",
       "</table>\n",
       "</div>"
      ]
     },
     "execution_count": 216,
     "metadata": {},
     "output_type": "execute_result"
    }
   ],
   "execution_count": 216
  },
  {
   "metadata": {
    "ExecuteTime": {
     "end_time": "2024-06-16T10:33:51.338789Z",
     "start_time": "2024-06-16T10:33:49.572156Z"
    }
   },
   "cell_type": "code",
   "source": [
    "from sklearn.ensemble import RandomForestClassifier\n",
    "from sklearn.model_selection import cross_val_score\n",
    "\n",
    "X = train_age_band.drop('Survived', axis=1)\n",
    "y = train_age_band['Survived']\n",
    "\n",
    "model = RandomForestClassifier(criterion=\"gini\", random_state=42)\n",
    "model_score = cross_val_score(model, X, y, cv=5, scoring='accuracy')\n",
    "\n",
    "models_scores['Modelo Bandas Edad Target Encondig'] = model_score.mean()\n",
    "\n",
    "print(f\"Modelo base: {model_score.mean()}\")"
   ],
   "id": "fc3cc23c29b70f26",
   "outputs": [
    {
     "name": "stdout",
     "output_type": "stream",
     "text": [
      "Modelo base: 0.8092398468394955\n"
     ]
    }
   ],
   "execution_count": 217
  },
  {
   "metadata": {},
   "cell_type": "markdown",
   "source": "Como podemos observar, el rendimiento del modelo ha disminuido en ambos casos, por lo que no vamos a utilizar la característica `AgeBand`.",
   "id": "a8debec68d50a2ec"
  },
  {
   "metadata": {
    "ExecuteTime": {
     "end_time": "2024-06-16T10:33:51.362101Z",
     "start_time": "2024-06-16T10:33:51.340942Z"
    }
   },
   "cell_type": "code",
   "source": "train.head()",
   "id": "b9a5629278de1b5c",
   "outputs": [
    {
     "data": {
      "text/plain": [
       "   Survived  Pclass     Fare  Sex_female  Sex_male   Age  FamilySize\n",
       "0         0       3   7.2500         0.0       1.0  22.0           2\n",
       "1         1       1  71.2833         1.0       0.0  38.0           2\n",
       "2         1       3   7.9250         1.0       0.0  26.0           1\n",
       "3         1       1  53.1000         1.0       0.0  35.0           2\n",
       "4         0       3   8.0500         0.0       1.0  35.0           1"
      ],
      "text/html": [
       "<div>\n",
       "<style scoped>\n",
       "    .dataframe tbody tr th:only-of-type {\n",
       "        vertical-align: middle;\n",
       "    }\n",
       "\n",
       "    .dataframe tbody tr th {\n",
       "        vertical-align: top;\n",
       "    }\n",
       "\n",
       "    .dataframe thead th {\n",
       "        text-align: right;\n",
       "    }\n",
       "</style>\n",
       "<table border=\"1\" class=\"dataframe\">\n",
       "  <thead>\n",
       "    <tr style=\"text-align: right;\">\n",
       "      <th></th>\n",
       "      <th>Survived</th>\n",
       "      <th>Pclass</th>\n",
       "      <th>Fare</th>\n",
       "      <th>Sex_female</th>\n",
       "      <th>Sex_male</th>\n",
       "      <th>Age</th>\n",
       "      <th>FamilySize</th>\n",
       "    </tr>\n",
       "  </thead>\n",
       "  <tbody>\n",
       "    <tr>\n",
       "      <th>0</th>\n",
       "      <td>0</td>\n",
       "      <td>3</td>\n",
       "      <td>7.2500</td>\n",
       "      <td>0.0</td>\n",
       "      <td>1.0</td>\n",
       "      <td>22.0</td>\n",
       "      <td>2</td>\n",
       "    </tr>\n",
       "    <tr>\n",
       "      <th>1</th>\n",
       "      <td>1</td>\n",
       "      <td>1</td>\n",
       "      <td>71.2833</td>\n",
       "      <td>1.0</td>\n",
       "      <td>0.0</td>\n",
       "      <td>38.0</td>\n",
       "      <td>2</td>\n",
       "    </tr>\n",
       "    <tr>\n",
       "      <th>2</th>\n",
       "      <td>1</td>\n",
       "      <td>3</td>\n",
       "      <td>7.9250</td>\n",
       "      <td>1.0</td>\n",
       "      <td>0.0</td>\n",
       "      <td>26.0</td>\n",
       "      <td>1</td>\n",
       "    </tr>\n",
       "    <tr>\n",
       "      <th>3</th>\n",
       "      <td>1</td>\n",
       "      <td>1</td>\n",
       "      <td>53.1000</td>\n",
       "      <td>1.0</td>\n",
       "      <td>0.0</td>\n",
       "      <td>35.0</td>\n",
       "      <td>2</td>\n",
       "    </tr>\n",
       "    <tr>\n",
       "      <th>4</th>\n",
       "      <td>0</td>\n",
       "      <td>3</td>\n",
       "      <td>8.0500</td>\n",
       "      <td>0.0</td>\n",
       "      <td>1.0</td>\n",
       "      <td>35.0</td>\n",
       "      <td>1</td>\n",
       "    </tr>\n",
       "  </tbody>\n",
       "</table>\n",
       "</div>"
      ]
     },
     "execution_count": 218,
     "metadata": {},
     "output_type": "execute_result"
    }
   ],
   "execution_count": 218
  },
  {
   "metadata": {},
   "cell_type": "markdown",
   "source": "### ¿Mejora el modelo con el target encoding de la columna Cabin?",
   "id": "5504da207a0dc2e8"
  },
  {
   "metadata": {
    "ExecuteTime": {
     "end_time": "2024-06-16T10:33:51.388231Z",
     "start_time": "2024-06-16T10:33:51.362101Z"
    }
   },
   "cell_type": "code",
   "source": [
    "train_cabin = train.copy()\n",
    "train_cabin['Cabin'] = original_train['Cabin']\n",
    "train_cabin.head()"
   ],
   "id": "abff55b54e81c6b2",
   "outputs": [
    {
     "data": {
      "text/plain": [
       "   Survived  Pclass     Fare  Sex_female  Sex_male   Age  FamilySize Cabin\n",
       "0         0       3   7.2500         0.0       1.0  22.0           2   NaN\n",
       "1         1       1  71.2833         1.0       0.0  38.0           2   C85\n",
       "2         1       3   7.9250         1.0       0.0  26.0           1   NaN\n",
       "3         1       1  53.1000         1.0       0.0  35.0           2  C123\n",
       "4         0       3   8.0500         0.0       1.0  35.0           1   NaN"
      ],
      "text/html": [
       "<div>\n",
       "<style scoped>\n",
       "    .dataframe tbody tr th:only-of-type {\n",
       "        vertical-align: middle;\n",
       "    }\n",
       "\n",
       "    .dataframe tbody tr th {\n",
       "        vertical-align: top;\n",
       "    }\n",
       "\n",
       "    .dataframe thead th {\n",
       "        text-align: right;\n",
       "    }\n",
       "</style>\n",
       "<table border=\"1\" class=\"dataframe\">\n",
       "  <thead>\n",
       "    <tr style=\"text-align: right;\">\n",
       "      <th></th>\n",
       "      <th>Survived</th>\n",
       "      <th>Pclass</th>\n",
       "      <th>Fare</th>\n",
       "      <th>Sex_female</th>\n",
       "      <th>Sex_male</th>\n",
       "      <th>Age</th>\n",
       "      <th>FamilySize</th>\n",
       "      <th>Cabin</th>\n",
       "    </tr>\n",
       "  </thead>\n",
       "  <tbody>\n",
       "    <tr>\n",
       "      <th>0</th>\n",
       "      <td>0</td>\n",
       "      <td>3</td>\n",
       "      <td>7.2500</td>\n",
       "      <td>0.0</td>\n",
       "      <td>1.0</td>\n",
       "      <td>22.0</td>\n",
       "      <td>2</td>\n",
       "      <td>NaN</td>\n",
       "    </tr>\n",
       "    <tr>\n",
       "      <th>1</th>\n",
       "      <td>1</td>\n",
       "      <td>1</td>\n",
       "      <td>71.2833</td>\n",
       "      <td>1.0</td>\n",
       "      <td>0.0</td>\n",
       "      <td>38.0</td>\n",
       "      <td>2</td>\n",
       "      <td>C85</td>\n",
       "    </tr>\n",
       "    <tr>\n",
       "      <th>2</th>\n",
       "      <td>1</td>\n",
       "      <td>3</td>\n",
       "      <td>7.9250</td>\n",
       "      <td>1.0</td>\n",
       "      <td>0.0</td>\n",
       "      <td>26.0</td>\n",
       "      <td>1</td>\n",
       "      <td>NaN</td>\n",
       "    </tr>\n",
       "    <tr>\n",
       "      <th>3</th>\n",
       "      <td>1</td>\n",
       "      <td>1</td>\n",
       "      <td>53.1000</td>\n",
       "      <td>1.0</td>\n",
       "      <td>0.0</td>\n",
       "      <td>35.0</td>\n",
       "      <td>2</td>\n",
       "      <td>C123</td>\n",
       "    </tr>\n",
       "    <tr>\n",
       "      <th>4</th>\n",
       "      <td>0</td>\n",
       "      <td>3</td>\n",
       "      <td>8.0500</td>\n",
       "      <td>0.0</td>\n",
       "      <td>1.0</td>\n",
       "      <td>35.0</td>\n",
       "      <td>1</td>\n",
       "      <td>NaN</td>\n",
       "    </tr>\n",
       "  </tbody>\n",
       "</table>\n",
       "</div>"
      ]
     },
     "execution_count": 219,
     "metadata": {},
     "output_type": "execute_result"
    }
   ],
   "execution_count": 219
  },
  {
   "metadata": {
    "ExecuteTime": {
     "end_time": "2024-06-16T10:33:51.407877Z",
     "start_time": "2024-06-16T10:33:51.389244Z"
    }
   },
   "cell_type": "code",
   "source": [
    "train_cabin['Cabin'] = train_cabin['Cabin'].str[0]\n",
    "train_cabin.head()"
   ],
   "id": "7b7f7ed90a506dc1",
   "outputs": [
    {
     "data": {
      "text/plain": [
       "   Survived  Pclass     Fare  Sex_female  Sex_male   Age  FamilySize Cabin\n",
       "0         0       3   7.2500         0.0       1.0  22.0           2   NaN\n",
       "1         1       1  71.2833         1.0       0.0  38.0           2     C\n",
       "2         1       3   7.9250         1.0       0.0  26.0           1   NaN\n",
       "3         1       1  53.1000         1.0       0.0  35.0           2     C\n",
       "4         0       3   8.0500         0.0       1.0  35.0           1   NaN"
      ],
      "text/html": [
       "<div>\n",
       "<style scoped>\n",
       "    .dataframe tbody tr th:only-of-type {\n",
       "        vertical-align: middle;\n",
       "    }\n",
       "\n",
       "    .dataframe tbody tr th {\n",
       "        vertical-align: top;\n",
       "    }\n",
       "\n",
       "    .dataframe thead th {\n",
       "        text-align: right;\n",
       "    }\n",
       "</style>\n",
       "<table border=\"1\" class=\"dataframe\">\n",
       "  <thead>\n",
       "    <tr style=\"text-align: right;\">\n",
       "      <th></th>\n",
       "      <th>Survived</th>\n",
       "      <th>Pclass</th>\n",
       "      <th>Fare</th>\n",
       "      <th>Sex_female</th>\n",
       "      <th>Sex_male</th>\n",
       "      <th>Age</th>\n",
       "      <th>FamilySize</th>\n",
       "      <th>Cabin</th>\n",
       "    </tr>\n",
       "  </thead>\n",
       "  <tbody>\n",
       "    <tr>\n",
       "      <th>0</th>\n",
       "      <td>0</td>\n",
       "      <td>3</td>\n",
       "      <td>7.2500</td>\n",
       "      <td>0.0</td>\n",
       "      <td>1.0</td>\n",
       "      <td>22.0</td>\n",
       "      <td>2</td>\n",
       "      <td>NaN</td>\n",
       "    </tr>\n",
       "    <tr>\n",
       "      <th>1</th>\n",
       "      <td>1</td>\n",
       "      <td>1</td>\n",
       "      <td>71.2833</td>\n",
       "      <td>1.0</td>\n",
       "      <td>0.0</td>\n",
       "      <td>38.0</td>\n",
       "      <td>2</td>\n",
       "      <td>C</td>\n",
       "    </tr>\n",
       "    <tr>\n",
       "      <th>2</th>\n",
       "      <td>1</td>\n",
       "      <td>3</td>\n",
       "      <td>7.9250</td>\n",
       "      <td>1.0</td>\n",
       "      <td>0.0</td>\n",
       "      <td>26.0</td>\n",
       "      <td>1</td>\n",
       "      <td>NaN</td>\n",
       "    </tr>\n",
       "    <tr>\n",
       "      <th>3</th>\n",
       "      <td>1</td>\n",
       "      <td>1</td>\n",
       "      <td>53.1000</td>\n",
       "      <td>1.0</td>\n",
       "      <td>0.0</td>\n",
       "      <td>35.0</td>\n",
       "      <td>2</td>\n",
       "      <td>C</td>\n",
       "    </tr>\n",
       "    <tr>\n",
       "      <th>4</th>\n",
       "      <td>0</td>\n",
       "      <td>3</td>\n",
       "      <td>8.0500</td>\n",
       "      <td>0.0</td>\n",
       "      <td>1.0</td>\n",
       "      <td>35.0</td>\n",
       "      <td>1</td>\n",
       "      <td>NaN</td>\n",
       "    </tr>\n",
       "  </tbody>\n",
       "</table>\n",
       "</div>"
      ]
     },
     "execution_count": 220,
     "metadata": {},
     "output_type": "execute_result"
    }
   ],
   "execution_count": 220
  },
  {
   "metadata": {
    "ExecuteTime": {
     "end_time": "2024-06-16T10:33:51.424480Z",
     "start_time": "2024-06-16T10:33:51.414915Z"
    }
   },
   "cell_type": "code",
   "source": [
    "print(train_cabin['Cabin'].value_counts())\n",
    "print(train_cabin['Cabin'].unique())"
   ],
   "id": "fae3be1802cd3b05",
   "outputs": [
    {
     "name": "stdout",
     "output_type": "stream",
     "text": [
      "Cabin\n",
      "C    59\n",
      "B    47\n",
      "D    33\n",
      "E    32\n",
      "A    15\n",
      "F    13\n",
      "G     4\n",
      "T     1\n",
      "Name: count, dtype: int64\n",
      "[nan 'C' 'E' 'G' 'D' 'A' 'B' 'F' 'T']\n"
     ]
    }
   ],
   "execution_count": 221
  },
  {
   "metadata": {
    "ExecuteTime": {
     "end_time": "2024-06-16T10:33:51.434226Z",
     "start_time": "2024-06-16T10:33:51.426731Z"
    }
   },
   "cell_type": "code",
   "source": "train_cabin['Cabin'] = train_cabin['Cabin'].fillna('Unknown')",
   "id": "2b336793e906918f",
   "outputs": [],
   "execution_count": 222
  },
  {
   "metadata": {
    "ExecuteTime": {
     "end_time": "2024-06-16T10:33:51.457364Z",
     "start_time": "2024-06-16T10:33:51.435889Z"
    }
   },
   "cell_type": "code",
   "source": [
    "# Target encoding a la columna 'Cabin'\n",
    "train_cabin['Cabin'] = train_cabin['Cabin'].map(train_cabin.groupby('Cabin')['Survived'].mean())\n",
    "\n",
    "train_cabin.head()"
   ],
   "id": "56de9bf16d316bab",
   "outputs": [
    {
     "data": {
      "text/plain": [
       "   Survived  Pclass     Fare  Sex_female  Sex_male   Age  FamilySize     Cabin\n",
       "0         0       3   7.2500         0.0       1.0  22.0           2  0.299854\n",
       "1         1       1  71.2833         1.0       0.0  38.0           2  0.593220\n",
       "2         1       3   7.9250         1.0       0.0  26.0           1  0.299854\n",
       "3         1       1  53.1000         1.0       0.0  35.0           2  0.593220\n",
       "4         0       3   8.0500         0.0       1.0  35.0           1  0.299854"
      ],
      "text/html": [
       "<div>\n",
       "<style scoped>\n",
       "    .dataframe tbody tr th:only-of-type {\n",
       "        vertical-align: middle;\n",
       "    }\n",
       "\n",
       "    .dataframe tbody tr th {\n",
       "        vertical-align: top;\n",
       "    }\n",
       "\n",
       "    .dataframe thead th {\n",
       "        text-align: right;\n",
       "    }\n",
       "</style>\n",
       "<table border=\"1\" class=\"dataframe\">\n",
       "  <thead>\n",
       "    <tr style=\"text-align: right;\">\n",
       "      <th></th>\n",
       "      <th>Survived</th>\n",
       "      <th>Pclass</th>\n",
       "      <th>Fare</th>\n",
       "      <th>Sex_female</th>\n",
       "      <th>Sex_male</th>\n",
       "      <th>Age</th>\n",
       "      <th>FamilySize</th>\n",
       "      <th>Cabin</th>\n",
       "    </tr>\n",
       "  </thead>\n",
       "  <tbody>\n",
       "    <tr>\n",
       "      <th>0</th>\n",
       "      <td>0</td>\n",
       "      <td>3</td>\n",
       "      <td>7.2500</td>\n",
       "      <td>0.0</td>\n",
       "      <td>1.0</td>\n",
       "      <td>22.0</td>\n",
       "      <td>2</td>\n",
       "      <td>0.299854</td>\n",
       "    </tr>\n",
       "    <tr>\n",
       "      <th>1</th>\n",
       "      <td>1</td>\n",
       "      <td>1</td>\n",
       "      <td>71.2833</td>\n",
       "      <td>1.0</td>\n",
       "      <td>0.0</td>\n",
       "      <td>38.0</td>\n",
       "      <td>2</td>\n",
       "      <td>0.593220</td>\n",
       "    </tr>\n",
       "    <tr>\n",
       "      <th>2</th>\n",
       "      <td>1</td>\n",
       "      <td>3</td>\n",
       "      <td>7.9250</td>\n",
       "      <td>1.0</td>\n",
       "      <td>0.0</td>\n",
       "      <td>26.0</td>\n",
       "      <td>1</td>\n",
       "      <td>0.299854</td>\n",
       "    </tr>\n",
       "    <tr>\n",
       "      <th>3</th>\n",
       "      <td>1</td>\n",
       "      <td>1</td>\n",
       "      <td>53.1000</td>\n",
       "      <td>1.0</td>\n",
       "      <td>0.0</td>\n",
       "      <td>35.0</td>\n",
       "      <td>2</td>\n",
       "      <td>0.593220</td>\n",
       "    </tr>\n",
       "    <tr>\n",
       "      <th>4</th>\n",
       "      <td>0</td>\n",
       "      <td>3</td>\n",
       "      <td>8.0500</td>\n",
       "      <td>0.0</td>\n",
       "      <td>1.0</td>\n",
       "      <td>35.0</td>\n",
       "      <td>1</td>\n",
       "      <td>0.299854</td>\n",
       "    </tr>\n",
       "  </tbody>\n",
       "</table>\n",
       "</div>"
      ]
     },
     "execution_count": 223,
     "metadata": {},
     "output_type": "execute_result"
    }
   ],
   "execution_count": 223
  },
  {
   "metadata": {
    "ExecuteTime": {
     "end_time": "2024-06-16T10:33:52.897427Z",
     "start_time": "2024-06-16T10:33:51.457364Z"
    }
   },
   "cell_type": "code",
   "source": [
    "from sklearn.ensemble import RandomForestClassifier\n",
    "from sklearn.model_selection import cross_val_score\n",
    "\n",
    "X = train_cabin.drop('Survived', axis=1)\n",
    "y = train_cabin['Survived']\n",
    "\n",
    "model = RandomForestClassifier(criterion=\"gini\", random_state=42)\n",
    "model_score = cross_val_score(model, X, y, cv=5, scoring='accuracy')\n",
    "\n",
    "models_scores['Modelo Cabin Target Encoding'] = model_score.mean()\n",
    "\n",
    "print(f\"Modelo base: {model_score.mean()}\")"
   ],
   "id": "ef9f23dbffcd2310",
   "outputs": [
    {
     "name": "stdout",
     "output_type": "stream",
     "text": [
      "Modelo base: 0.826093779423765\n"
     ]
    }
   ],
   "execution_count": 224
  },
  {
   "metadata": {},
   "cell_type": "markdown",
   "source": "Como podemos observar, el rendimiento del modelo ha aumentado, por lo que vamos a utilizar la característica `Cabin`.",
   "id": "4aac5948938771b2"
  },
  {
   "metadata": {
    "ExecuteTime": {
     "end_time": "2024-06-16T10:33:52.905254Z",
     "start_time": "2024-06-16T10:33:52.897427Z"
    }
   },
   "cell_type": "code",
   "source": "train = train_cabin.copy()",
   "id": "8af30bfd2fbf55bc",
   "outputs": [],
   "execution_count": 225
  },
  {
   "cell_type": "markdown",
   "source": "## Construcción del modelo final",
   "metadata": {
    "collapsed": false
   },
   "id": "127bc455fc20ff81"
  },
  {
   "metadata": {
    "ExecuteTime": {
     "end_time": "2024-06-16T10:33:52.924309Z",
     "start_time": "2024-06-16T10:33:52.905254Z"
    }
   },
   "cell_type": "code",
   "source": "train.head()",
   "id": "b93de953c909020e",
   "outputs": [
    {
     "data": {
      "text/plain": [
       "   Survived  Pclass     Fare  Sex_female  Sex_male   Age  FamilySize     Cabin\n",
       "0         0       3   7.2500         0.0       1.0  22.0           2  0.299854\n",
       "1         1       1  71.2833         1.0       0.0  38.0           2  0.593220\n",
       "2         1       3   7.9250         1.0       0.0  26.0           1  0.299854\n",
       "3         1       1  53.1000         1.0       0.0  35.0           2  0.593220\n",
       "4         0       3   8.0500         0.0       1.0  35.0           1  0.299854"
      ],
      "text/html": [
       "<div>\n",
       "<style scoped>\n",
       "    .dataframe tbody tr th:only-of-type {\n",
       "        vertical-align: middle;\n",
       "    }\n",
       "\n",
       "    .dataframe tbody tr th {\n",
       "        vertical-align: top;\n",
       "    }\n",
       "\n",
       "    .dataframe thead th {\n",
       "        text-align: right;\n",
       "    }\n",
       "</style>\n",
       "<table border=\"1\" class=\"dataframe\">\n",
       "  <thead>\n",
       "    <tr style=\"text-align: right;\">\n",
       "      <th></th>\n",
       "      <th>Survived</th>\n",
       "      <th>Pclass</th>\n",
       "      <th>Fare</th>\n",
       "      <th>Sex_female</th>\n",
       "      <th>Sex_male</th>\n",
       "      <th>Age</th>\n",
       "      <th>FamilySize</th>\n",
       "      <th>Cabin</th>\n",
       "    </tr>\n",
       "  </thead>\n",
       "  <tbody>\n",
       "    <tr>\n",
       "      <th>0</th>\n",
       "      <td>0</td>\n",
       "      <td>3</td>\n",
       "      <td>7.2500</td>\n",
       "      <td>0.0</td>\n",
       "      <td>1.0</td>\n",
       "      <td>22.0</td>\n",
       "      <td>2</td>\n",
       "      <td>0.299854</td>\n",
       "    </tr>\n",
       "    <tr>\n",
       "      <th>1</th>\n",
       "      <td>1</td>\n",
       "      <td>1</td>\n",
       "      <td>71.2833</td>\n",
       "      <td>1.0</td>\n",
       "      <td>0.0</td>\n",
       "      <td>38.0</td>\n",
       "      <td>2</td>\n",
       "      <td>0.593220</td>\n",
       "    </tr>\n",
       "    <tr>\n",
       "      <th>2</th>\n",
       "      <td>1</td>\n",
       "      <td>3</td>\n",
       "      <td>7.9250</td>\n",
       "      <td>1.0</td>\n",
       "      <td>0.0</td>\n",
       "      <td>26.0</td>\n",
       "      <td>1</td>\n",
       "      <td>0.299854</td>\n",
       "    </tr>\n",
       "    <tr>\n",
       "      <th>3</th>\n",
       "      <td>1</td>\n",
       "      <td>1</td>\n",
       "      <td>53.1000</td>\n",
       "      <td>1.0</td>\n",
       "      <td>0.0</td>\n",
       "      <td>35.0</td>\n",
       "      <td>2</td>\n",
       "      <td>0.593220</td>\n",
       "    </tr>\n",
       "    <tr>\n",
       "      <th>4</th>\n",
       "      <td>0</td>\n",
       "      <td>3</td>\n",
       "      <td>8.0500</td>\n",
       "      <td>0.0</td>\n",
       "      <td>1.0</td>\n",
       "      <td>35.0</td>\n",
       "      <td>1</td>\n",
       "      <td>0.299854</td>\n",
       "    </tr>\n",
       "  </tbody>\n",
       "</table>\n",
       "</div>"
      ]
     },
     "execution_count": 226,
     "metadata": {},
     "output_type": "execute_result"
    }
   ],
   "execution_count": 226
  },
  {
   "cell_type": "markdown",
   "source": [
    "### Preparación del conjunto de datos"
   ],
   "metadata": {
    "collapsed": false
   },
   "id": "d0062adcf6cc0b58"
  },
  {
   "cell_type": "code",
   "source": [
    "from sklearn.model_selection import train_test_split\n",
    "\n",
    "p_train = 0.7\n",
    "\n",
    "train, test = train_test_split(train, train_size=p_train, random_state=42)\n",
    "\n",
    "# inplace=True: Modifica el dataframe original en lugar de devolver uno nuevo\n",
    "train.reset_index(inplace=True)\n",
    "test.reset_index(inplace=True)\n",
    "\n",
    "print(f\"Train: {train.shape}\")\n",
    "print(f\"Test: {test.shape}\")\n",
    "\n",
    "print(\"Conjunto de entrenamiento:\")\n",
    "print(train.head())\n",
    "\n",
    "print(\"Conjunto de prueba:\")\n",
    "print(test.head())"
   ],
   "metadata": {
    "collapsed": false,
    "ExecuteTime": {
     "end_time": "2024-06-16T10:33:52.947560Z",
     "start_time": "2024-06-16T10:33:52.925343Z"
    }
   },
   "id": "9b2067fa6821e69c",
   "outputs": [
    {
     "name": "stdout",
     "output_type": "stream",
     "text": [
      "Train: (623, 9)\n",
      "Test: (268, 9)\n",
      "Conjunto de entrenamiento:\n",
      "   index  Survived  Pclass     Fare  Sex_female  Sex_male        Age  \\\n",
      "0    445         1       1  81.8583         0.0       1.0   4.000000   \n",
      "1    650         0       3   7.8958         0.0       1.0  29.699118   \n",
      "2    172         1       3  11.1333         1.0       0.0   1.000000   \n",
      "3    450         0       2  27.7500         0.0       1.0  36.000000   \n",
      "4    314         0       2  26.2500         0.0       1.0  43.000000   \n",
      "\n",
      "   FamilySize     Cabin  \n",
      "0           3  0.466667  \n",
      "1           1  0.299854  \n",
      "2           3  0.299854  \n",
      "3           4  0.299854  \n",
      "4           3  0.299854  \n",
      "Conjunto de prueba:\n",
      "   index  Survived  Pclass     Fare  Sex_female  Sex_male        Age  \\\n",
      "0    709         1       3  15.2458         0.0       1.0  29.699118   \n",
      "1    439         0       2  10.5000         0.0       1.0  31.000000   \n",
      "2    840         0       3   7.9250         0.0       1.0  20.000000   \n",
      "3    720         1       2  33.0000         1.0       0.0   6.000000   \n",
      "4     39         1       3  11.2417         1.0       0.0  14.000000   \n",
      "\n",
      "   FamilySize     Cabin  \n",
      "0           3  0.299854  \n",
      "1           1  0.299854  \n",
      "2           1  0.299854  \n",
      "3           2  0.299854  \n",
      "4           2  0.299854  \n"
     ]
    }
   ],
   "execution_count": 227
  },
  {
   "metadata": {
    "ExecuteTime": {
     "end_time": "2024-06-16T10:35:08.765612Z",
     "start_time": "2024-06-16T10:33:52.947560Z"
    }
   },
   "cell_type": "code",
   "source": [
    "from sklearn.model_selection import RandomizedSearchCV\n",
    "from sklearn.ensemble import RandomForestClassifier\n",
    "\n",
    "parametros = {\n",
    "    \"criterion\": [\"gini\",\"entropy\"],\n",
    "    \"max_depth\":range(1, 20),\n",
    "    \"n_estimators\" : [2, 4, 8, 16, 32, 64, 128, 256]\n",
    "}\n",
    "\n",
    "modelo = RandomForestClassifier()\n",
    "\n",
    "rf = RandomizedSearchCV(estimator = modelo, param_distributions=parametros, n_iter=100, cv = 5)\n",
    "\n",
    "X_train = train.drop(\"Survived\", axis = 1)\n",
    "y_train = train[\"Survived\"]\n",
    "print(type(X_train))\n",
    "rf.fit(X_train, y_train)\n",
    "\n",
    "rf.best_params_"
   ],
   "id": "4e91bb59fbc8682d",
   "outputs": [
    {
     "name": "stdout",
     "output_type": "stream",
     "text": [
      "<class 'pandas.core.frame.DataFrame'>\n"
     ]
    },
    {
     "data": {
      "text/plain": [
       "{'n_estimators': 64, 'max_depth': 8, 'criterion': 'gini'}"
      ]
     },
     "execution_count": 228,
     "metadata": {},
     "output_type": "execute_result"
    }
   ],
   "execution_count": 228
  },
  {
   "metadata": {
    "ExecuteTime": {
     "end_time": "2024-06-16T10:35:08.949526Z",
     "start_time": "2024-06-16T10:35:08.765612Z"
    }
   },
   "cell_type": "code",
   "source": [
    "tree_model = rf.best_estimator_\n",
    "\n",
    "model = tree_model.fit(X_train, y_train)\n",
    "\n",
    "X_test = test.drop(\"Survived\", axis=1)\n",
    "\n",
    "preds = model.predict(X_test)"
   ],
   "id": "4e1c2a8e4af85741",
   "outputs": [],
   "execution_count": 229
  },
  {
   "metadata": {
    "ExecuteTime": {
     "end_time": "2024-06-16T10:35:09.281664Z",
     "start_time": "2024-06-16T10:35:08.949526Z"
    }
   },
   "cell_type": "code",
   "source": [
    "from sklearn.metrics import classification_report\n",
    "from sklearn.metrics import confusion_matrix\n",
    "import seaborn as sns\n",
    "import matplotlib.pyplot as plt\n",
    "\n",
    "print(\"Metrics \\n\" + classification_report(y_true=test['Survived'], y_pred=preds))\n",
    "\n",
    "classes = ['No sobrevivió', 'Sobrevivió']\n",
    "\n",
    "cm = confusion_matrix(test['Survived'], preds)\n",
    "sns.heatmap(cm, annot=True, cmap='BuPu', fmt='d', xticklabels=classes, yticklabels=classes)\n",
    "\n",
    "models_scores['Modelo Final'] = model.score(X_test, test['Survived'])\n",
    "\n",
    "plt.title('Matriz de confusion de GaussianNB')\n",
    "plt.xlabel('Predicciones')\n",
    "plt.ylabel('Valores Verdaderos')\n",
    "plt.show()"
   ],
   "id": "841ea9b49e4027b7",
   "outputs": [
    {
     "name": "stdout",
     "output_type": "stream",
     "text": [
      "Metrics \n",
      "              precision    recall  f1-score   support\n",
      "\n",
      "           0       0.80      0.91      0.85       157\n",
      "           1       0.84      0.68      0.76       111\n",
      "\n",
      "    accuracy                           0.82       268\n",
      "   macro avg       0.82      0.80      0.80       268\n",
      "weighted avg       0.82      0.82      0.81       268\n",
      "\n"
     ]
    },
    {
     "data": {
      "text/plain": [
       "<Figure size 640x480 with 2 Axes>"
      ],
      "image/png": "[encoded data removed]"
     },
     "metadata": {},
     "output_type": "display_data"
    }
   ],
   "execution_count": 230
  },
  {
   "cell_type": "markdown",
   "source": [
    "## Conclusiones"
   ],
   "metadata": {
    "collapsed": false
   },
   "id": "a561815e22b0ad88"
  },
  {
   "metadata": {
    "ExecuteTime": {
     "end_time": "2024-06-16T10:35:51.930873Z",
     "start_time": "2024-06-16T10:35:51.920014Z"
    }
   },
   "cell_type": "code",
   "source": [
    "models_scores_copy = models_scores.copy()\n",
    "models_scores_draw = {k: v * 100 for k, v in models_scores_copy.items()}"
   ],
   "id": "9526400747d2be1a",
   "outputs": [],
   "execution_count": 237
  },
  {
   "metadata": {
    "ExecuteTime": {
     "end_time": "2024-06-16T10:35:53.294154Z",
     "start_time": "2024-06-16T10:35:52.060938Z"
    }
   },
   "cell_type": "code",
   "source": [
    "plt.figure(figsize=(10, 5))\n",
    "plt.bar(models_scores_draw.keys(), models_scores_draw.values(), color=['blue', 'red', 'green', 'purple', 'orange', 'pink', 'brown', 'gray'])\n",
    "plt.ylim(79, 83)\n",
    "# Mostrar el valor en cada barra\n",
    "for i, v in enumerate(models_scores_draw.values()):\n",
    "    plt.text(i, v, f\"{v:.2f}\", ha='center', va='bottom')\n",
    "plt.xticks(rotation=90)\n",
    "plt.title('Puntajes de los modelos')\n",
    "plt.ylabel('Puntaje')\n",
    "plt.xlabel('Modelos')\n",
    "plt.show()"
   ],
   "id": "f704e8437bd12e1a",
   "outputs": [
    {
     "data": {
      "text/plain": [
       "<Figure size 1000x500 with 1 Axes>"
      ],
      "image/png": "[encoded data removed]"
     },
     "metadata": {},
     "output_type": "display_data"
    }
   ],
   "execution_count": 238
  },
  {
   "metadata": {},
   "cell_type": "markdown",
   "source": "Aquí podemos observar un gráfico con los puntajes de los modelos. Como podemos observar, el modelo final no tiene mejor rendimiento que el `Modelo Cabin Target Encondig`. Por lo tanto, deberíamos de realizar una investigación para saber el tipo de modelo a implementar, ya que el modelo final usa un `RandomForestClassifier`. ",
   "id": "fbbbfa3833cdd5bf"
  }
 ],
 "metadata": {
  "kernelspec": {
   "display_name": "Python 3",
   "language": "python",
   "name": "python3"
  },
  "language_info": {
   "codemirror_mode": {
    "name": "ipython",
    "version": 2
   },
   "file_extension": ".py",
   "mimetype": "text/x-python",
   "name": "python",
   "nbconvert_exporter": "python",
   "pygments_lexer": "ipython2",
   "version": "2.7.6"
  }
 },
 "nbformat": 4,
 "nbformat_minor": 5
}
