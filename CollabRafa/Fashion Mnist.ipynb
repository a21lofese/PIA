{
 "nbformat": 4,
 "nbformat_minor": 0,
 "metadata": {
  "colab": {
   "provenance": [
    {
     "file_id": "18mVpX8QwzpQoY0b5cvg8K4zf7lIrxfQf",
     "timestamp": 1677770243125
    }
   ]
  },
  "kernelspec": {
   "name": "python3",
   "language": "python",
   "display_name": "Python 3 (ipykernel)"
  },
  "language_info": {
   "name": "python"
  }
 },
 "cells": [
  {
   "cell_type": "markdown",
   "source": [
    "## Fhasion Mnist\n",
    "\n",
    "En el siguiente [link](https://github.com/zalandoresearch/fashion-mnist) se puede encontrar información acerca del dataset que se utiliza en este caso práctico."
   ],
   "metadata": {
    "id": "9t6Xugr2_RhV"
   }
  },
  {
   "cell_type": "code",
   "execution_count": 1,
   "metadata": {
    "id": "cH5oc3UiFmbs",
    "ExecuteTime": {
     "end_time": "2024-04-01T18:13:47.794195Z",
     "start_time": "2024-04-01T18:13:41.409282Z"
    }
   },
   "outputs": [
    {
     "name": "stdout",
     "output_type": "stream",
     "text": [
      "WARNING:tensorflow:From C:\\Users\\sergi\\Documents\\Estudios\\venv\\Lib\\site-packages\\keras\\src\\losses.py:2976: The name tf.losses.sparse_softmax_cross_entropy is deprecated. Please use tf.compat.v1.losses.sparse_softmax_cross_entropy instead.\n"
     ]
    }
   ],
   "source": [
    "import tensorflow as tf\n",
    "from tensorflow import keras\n",
    "\n",
    "# Helper libraries\n",
    "import numpy as np\n",
    "import matplotlib.pyplot as plt"
   ]
  },
  {
   "cell_type": "code",
   "source": [
    "(train_images, train_labels), (test_images,\n",
    "                               test_labels) = keras.datasets.fashion_mnist.load_data()"
   ],
   "metadata": {
    "id": "IXwdBiUlOIis",
    "executionInfo": {
     "status": "ok",
     "timestamp": 1711983899086,
     "user_tz": -120,
     "elapsed": 1476,
     "user": {
      "displayName": "Rafael del Castillo Gomariz",
      "userId": "02979686593806013183"
     }
    },
    "colab": {
     "base_uri": "https://localhost:8080/"
    },
    "outputId": "bce0c489-dd40-4a9c-cc04-8d668f7ca655",
    "ExecuteTime": {
     "end_time": "2024-04-01T18:13:57.015023Z",
     "start_time": "2024-04-01T18:13:47.795588Z"
    }
   },
   "execution_count": 2,
   "outputs": [
    {
     "name": "stdout",
     "output_type": "stream",
     "text": [
      "Downloading data from https://storage.googleapis.com/tensorflow/tf-keras-datasets/train-labels-idx1-ubyte.gz\n",
      "29515/29515 [==============================] - 0s 0us/step\n",
      "Downloading data from https://storage.googleapis.com/tensorflow/tf-keras-datasets/train-images-idx3-ubyte.gz\n",
      "26421880/26421880 [==============================] - 6s 0us/step\n",
      "Downloading data from https://storage.googleapis.com/tensorflow/tf-keras-datasets/t10k-labels-idx1-ubyte.gz\n",
      "5148/5148 [==============================] - 0s 0s/step\n",
      "Downloading data from https://storage.googleapis.com/tensorflow/tf-keras-datasets/t10k-images-idx3-ubyte.gz\n",
      "4422102/4422102 [==============================] - 2s 0us/step\n"
     ]
    }
   ]
  },
  {
   "cell_type": "code",
   "source": [
    "# Output: (60000, 28, 28)\n",
    "train_images.shape"
   ],
   "metadata": {
    "colab": {
     "base_uri": "https://localhost:8080/"
    },
    "id": "7HGshB3kFqT4",
    "executionInfo": {
     "status": "ok",
     "timestamp": 1711983923793,
     "user_tz": -120,
     "elapsed": 252,
     "user": {
      "displayName": "Rafael del Castillo Gomariz",
      "userId": "02979686593806013183"
     }
    },
    "outputId": "011e2cc6-5a4e-47c9-aba4-f4fba5395efd",
    "ExecuteTime": {
     "end_time": "2024-04-01T18:13:57.021097Z",
     "start_time": "2024-04-01T18:13:57.016027Z"
    }
   },
   "execution_count": 3,
   "outputs": [
    {
     "data": {
      "text/plain": "(60000, 28, 28)"
     },
     "execution_count": 3,
     "metadata": {},
     "output_type": "execute_result"
    }
   ]
  },
  {
   "cell_type": "code",
   "source": [
    "# Output: 60000\n",
    "len(train_labels)"
   ],
   "metadata": {
    "colab": {
     "base_uri": "https://localhost:8080/"
    },
    "id": "uILWCREBFvME",
    "executionInfo": {
     "status": "ok",
     "timestamp": 1711985820998,
     "user_tz": -120,
     "elapsed": 288,
     "user": {
      "displayName": "Rafael del Castillo Gomariz",
      "userId": "02979686593806013183"
     }
    },
    "outputId": "49ca2b97-19ad-4d62-96d8-2f356780c74f",
    "ExecuteTime": {
     "end_time": "2024-04-01T18:13:57.027369Z",
     "start_time": "2024-04-01T18:13:57.022679Z"
    }
   },
   "execution_count": 4,
   "outputs": [
    {
     "data": {
      "text/plain": "60000"
     },
     "execution_count": 4,
     "metadata": {},
     "output_type": "execute_result"
    }
   ]
  },
  {
   "cell_type": "code",
   "source": [
    "# Output: (10000, 28, 28)\n",
    "test_images.shape"
   ],
   "metadata": {
    "colab": {
     "base_uri": "https://localhost:8080/"
    },
    "id": "l4N61oj1Fu83",
    "executionInfo": {
     "status": "ok",
     "timestamp": 1711985830232,
     "user_tz": -120,
     "elapsed": 305,
     "user": {
      "displayName": "Rafael del Castillo Gomariz",
      "userId": "02979686593806013183"
     }
    },
    "outputId": "427aeaf4-4fca-48bd-f404-137939a503d2",
    "ExecuteTime": {
     "end_time": "2024-04-01T18:13:57.032099Z",
     "start_time": "2024-04-01T18:13:57.028377Z"
    }
   },
   "execution_count": 5,
   "outputs": [
    {
     "data": {
      "text/plain": "(10000, 28, 28)"
     },
     "execution_count": 5,
     "metadata": {},
     "output_type": "execute_result"
    }
   ]
  },
  {
   "cell_type": "code",
   "source": [
    "# Output: 10000\n",
    "len(test_labels)"
   ],
   "metadata": {
    "colab": {
     "base_uri": "https://localhost:8080/"
    },
    "id": "lSgRX-VKFuvN",
    "executionInfo": {
     "status": "ok",
     "timestamp": 1711985856331,
     "user_tz": -120,
     "elapsed": 290,
     "user": {
      "displayName": "Rafael del Castillo Gomariz",
      "userId": "02979686593806013183"
     }
    },
    "outputId": "c523b494-a166-4793-f144-4fb8481f7845",
    "ExecuteTime": {
     "end_time": "2024-04-01T18:13:57.036739Z",
     "start_time": "2024-04-01T18:13:57.033107Z"
    }
   },
   "execution_count": 6,
   "outputs": [
    {
     "data": {
      "text/plain": "10000"
     },
     "execution_count": 6,
     "metadata": {},
     "output_type": "execute_result"
    }
   ]
  },
  {
   "cell_type": "code",
   "source": [
    "# Output: array([0, 1, 2, 3, 4, 5, 6, 7, 8, 9], dtype=uint8)\n",
    "np.unique(train_labels)"
   ],
   "metadata": {
    "colab": {
     "base_uri": "https://localhost:8080/"
    },
    "id": "iwNNdIlRF5B1",
    "executionInfo": {
     "status": "ok",
     "timestamp": 1711985858998,
     "user_tz": -120,
     "elapsed": 15,
     "user": {
      "displayName": "Rafael del Castillo Gomariz",
      "userId": "02979686593806013183"
     }
    },
    "outputId": "d501d279-887e-4427-8f3f-92e75ccbfc84",
    "ExecuteTime": {
     "end_time": "2024-04-01T18:13:57.043746Z",
     "start_time": "2024-04-01T18:13:57.037747Z"
    }
   },
   "execution_count": 7,
   "outputs": [
    {
     "data": {
      "text/plain": "array([0, 1, 2, 3, 4, 5, 6, 7, 8, 9], dtype=uint8)"
     },
     "execution_count": 7,
     "metadata": {},
     "output_type": "execute_result"
    }
   ]
  },
  {
   "cell_type": "code",
   "source": [
    "plt.figure()\n",
    "plt.imshow(train_images[0])\n",
    "plt.colorbar()\n",
    "plt.grid(False)\n",
    "plt.show()"
   ],
   "metadata": {
    "colab": {
     "base_uri": "https://localhost:8080/",
     "height": 430
    },
    "id": "AaSli9WTtH1g",
    "executionInfo": {
     "status": "ok",
     "timestamp": 1711986071826,
     "user_tz": -120,
     "elapsed": 1064,
     "user": {
      "displayName": "Rafael del Castillo Gomariz",
      "userId": "02979686593806013183"
     }
    },
    "outputId": "32c857f9-aaa4-4342-f7f3-ee00d1c4ae99",
    "ExecuteTime": {
     "end_time": "2024-04-01T18:33:58.274940Z",
     "start_time": "2024-04-01T18:33:58.155201Z"
    }
   },
   "execution_count": 29,
   "outputs": [
    {
     "data": {
      "text/plain": "<Figure size 640x480 with 2 Axes>",
      "image/png": "[encoded data removed]"
     },
     "metadata": {},
     "output_type": "display_data"
    }
   ]
  },
  {
   "cell_type": "code",
   "source": [
    "train_images = train_images / 255.0\n",
    "test_images = test_images / 255.0"
   ],
   "metadata": {
    "id": "aSHzTcsTsp1k",
    "ExecuteTime": {
     "end_time": "2024-04-01T18:13:57.319813Z",
     "start_time": "2024-04-01T18:13:57.193448Z"
    }
   },
   "execution_count": 9,
   "outputs": []
  },
  {
   "cell_type": "code",
   "source": [
    "model = keras.Sequential([\n",
    "    keras.layers.Flatten(input_shape=(28, 28)),\n",
    "    keras.layers.Dense(512, activation='relu', kernel_initializer='he_uniform'),\n",
    "    keras.layers.Dense(10, activation='softmax')\n",
    "])\n",
    "model.summary()\n",
    "\n",
    "model.compile(optimizer='adam',\n",
    "              loss='sparse_categorical_crossentropy',\n",
    "              metrics=['accuracy'])"
   ],
   "metadata": {
    "id": "SayZG5u_Ira5",
    "colab": {
     "base_uri": "https://localhost:8080/"
    },
    "executionInfo": {
     "status": "ok",
     "timestamp": 1711986703851,
     "user_tz": -120,
     "elapsed": 586,
     "user": {
      "displayName": "Rafael del Castillo Gomariz",
      "userId": "02979686593806013183"
     }
    },
    "outputId": "f5bcca56-0998-4a2e-97bb-10681a8a274c",
    "ExecuteTime": {
     "end_time": "2024-04-01T18:13:57.680054Z",
     "start_time": "2024-04-01T18:13:57.321353Z"
    }
   },
   "execution_count": 10,
   "outputs": [
    {
     "name": "stdout",
     "output_type": "stream",
     "text": [
      "WARNING:tensorflow:From C:\\Users\\sergi\\Documents\\Estudios\\venv\\Lib\\site-packages\\keras\\src\\backend.py:873: The name tf.get_default_graph is deprecated. Please use tf.compat.v1.get_default_graph instead.\n",
      "Model: \"sequential\"\n",
      "_________________________________________________________________\n",
      " Layer (type)                Output Shape              Param #   \n",
      "=================================================================\n",
      " flatten (Flatten)           (None, 784)               0         \n",
      "                                                                 \n",
      " dense (Dense)               (None, 512)               401920    \n",
      "                                                                 \n",
      " dense_1 (Dense)             (None, 10)                5130      \n",
      "                                                                 \n",
      "=================================================================\n",
      "Total params: 407050 (1.55 MB)\n",
      "Trainable params: 407050 (1.55 MB)\n",
      "Non-trainable params: 0 (0.00 Byte)\n",
      "_________________________________________________________________\n",
      "WARNING:tensorflow:From C:\\Users\\sergi\\Documents\\Estudios\\venv\\Lib\\site-packages\\keras\\src\\optimizers\\__init__.py:309: The name tf.train.Optimizer is deprecated. Please use tf.compat.v1.train.Optimizer instead.\n"
     ]
    }
   ]
  },
  {
   "cell_type": "code",
   "source": [
    "model.fit(train_images, train_labels, batch_size=6000, epochs=10)\n",
    "\n",
    "test_loss, test_acc = model.evaluate(test_images,  test_labels, verbose=0)\n",
    "\n",
    "print('\\nTest loss:', test_loss)\n",
    "print('\\nTest accuracy:', test_acc)"
   ],
   "metadata": {
    "colab": {
     "base_uri": "https://localhost:8080/"
    },
    "id": "hbUWDtbOIuV8",
    "executionInfo": {
     "status": "ok",
     "timestamp": 1711986769346,
     "user_tz": -120,
     "elapsed": 43999,
     "user": {
      "displayName": "Rafael del Castillo Gomariz",
      "userId": "02979686593806013183"
     }
    },
    "outputId": "6688aeb0-bf7a-4b82-ab4a-19444fae837c",
    "ExecuteTime": {
     "end_time": "2024-04-01T18:14:02.994457Z",
     "start_time": "2024-04-01T18:13:57.681062Z"
    }
   },
   "execution_count": 11,
   "outputs": [
    {
     "name": "stdout",
     "output_type": "stream",
     "text": [
      "Epoch 1/10\n",
      "WARNING:tensorflow:From C:\\Users\\sergi\\Documents\\Estudios\\venv\\Lib\\site-packages\\keras\\src\\utils\\tf_utils.py:492: The name tf.ragged.RaggedTensorValue is deprecated. Please use tf.compat.v1.ragged.RaggedTensorValue instead.\n",
      "WARNING:tensorflow:From C:\\Users\\sergi\\Documents\\Estudios\\venv\\Lib\\site-packages\\keras\\src\\engine\\base_layer_utils.py:384: The name tf.executing_eagerly_outside_functions is deprecated. Please use tf.compat.v1.executing_eagerly_outside_functions instead.\n",
      "10/10 [==============================] - 1s 39ms/step - loss: 1.3432 - accuracy: 0.5490\n",
      "Epoch 2/10\n",
      "10/10 [==============================] - 0s 39ms/step - loss: 0.7014 - accuracy: 0.7588\n",
      "Epoch 3/10\n",
      "10/10 [==============================] - 0s 40ms/step - loss: 0.5853 - accuracy: 0.8035\n",
      "Epoch 4/10\n",
      "10/10 [==============================] - 0s 41ms/step - loss: 0.5253 - accuracy: 0.8219\n",
      "Epoch 5/10\n",
      "10/10 [==============================] - 0s 40ms/step - loss: 0.4880 - accuracy: 0.8336\n",
      "Epoch 6/10\n",
      "10/10 [==============================] - 0s 39ms/step - loss: 0.4619 - accuracy: 0.8436\n",
      "Epoch 7/10\n",
      "10/10 [==============================] - 0s 40ms/step - loss: 0.4426 - accuracy: 0.8499\n",
      "Epoch 8/10\n",
      "10/10 [==============================] - 0s 39ms/step - loss: 0.4275 - accuracy: 0.8534\n",
      "Epoch 9/10\n",
      "10/10 [==============================] - 0s 38ms/step - loss: 0.4160 - accuracy: 0.8569\n",
      "Epoch 10/10\n",
      "10/10 [==============================] - 0s 36ms/step - loss: 0.4025 - accuracy: 0.8619\n",
      "\n",
      "Test loss: 0.4347781240940094\n",
      "\n",
      "Test accuracy: 0.8464000225067139\n"
     ]
    }
   ]
  },
  {
   "cell_type": "code",
   "source": [
    "predictions = model.predict(test_images)\n",
    "np.argmax(predictions[1])"
   ],
   "metadata": {
    "colab": {
     "base_uri": "https://localhost:8080/"
    },
    "id": "f5daqBV3WL7o",
    "executionInfo": {
     "status": "ok",
     "timestamp": 1711986801012,
     "user_tz": -120,
     "elapsed": 1679,
     "user": {
      "displayName": "Rafael del Castillo Gomariz",
      "userId": "02979686593806013183"
     }
    },
    "outputId": "93e5b2a4-a3a0-4c83-ab37-1160b34f15c1",
    "ExecuteTime": {
     "end_time": "2024-04-01T18:14:03.534492Z",
     "start_time": "2024-04-01T18:14:02.994457Z"
    }
   },
   "execution_count": 12,
   "outputs": [
    {
     "name": "stdout",
     "output_type": "stream",
     "text": [
      "313/313 [==============================] - 0s 987us/step\n"
     ]
    },
    {
     "data": {
      "text/plain": "2"
     },
     "execution_count": 12,
     "metadata": {},
     "output_type": "execute_result"
    }
   ]
  },
  {
   "cell_type": "code",
   "source": [
    "test_labels[1]"
   ],
   "metadata": {
    "colab": {
     "base_uri": "https://localhost:8080/"
    },
    "id": "-Txx5nGXWWe6",
    "executionInfo": {
     "status": "ok",
     "timestamp": 1711986814544,
     "user_tz": -120,
     "elapsed": 274,
     "user": {
      "displayName": "Rafael del Castillo Gomariz",
      "userId": "02979686593806013183"
     }
    },
    "outputId": "86a8592f-ef02-4acd-b3e7-da3c118c69e1",
    "ExecuteTime": {
     "end_time": "2024-04-01T18:14:03.539855Z",
     "start_time": "2024-04-01T18:14:03.535497Z"
    }
   },
   "execution_count": 13,
   "outputs": [
    {
     "data": {
      "text/plain": "2"
     },
     "execution_count": 13,
     "metadata": {},
     "output_type": "execute_result"
    }
   ]
  },
  {
   "cell_type": "code",
   "source": [
    "model.save('model/fashion_mnist')"
   ],
   "metadata": {
    "id": "iic7cPn9ySSu",
    "colab": {
     "base_uri": "https://localhost:8080/"
    },
    "executionInfo": {
     "status": "ok",
     "timestamp": 1677771190871,
     "user_tz": -60,
     "elapsed": 1002,
     "user": {
      "displayName": "Rafael del Castillo Gomariz",
      "userId": "02979686593806013183"
     }
    },
    "outputId": "1b52e575-cc4c-4415-b24f-21f32431e8e0",
    "ExecuteTime": {
     "end_time": "2024-04-01T18:14:03.930883Z",
     "start_time": "2024-04-01T18:14:03.540886Z"
    }
   },
   "execution_count": 14,
   "outputs": [
    {
     "name": "stdout",
     "output_type": "stream",
     "text": [
      "INFO:tensorflow:Assets written to: model/fashion_mnist\\assets\n"
     ]
    },
    {
     "name": "stderr",
     "output_type": "stream",
     "text": [
      "INFO:tensorflow:Assets written to: model/fashion_mnist\\assets\n"
     ]
    }
   ]
  }
 ]
}
